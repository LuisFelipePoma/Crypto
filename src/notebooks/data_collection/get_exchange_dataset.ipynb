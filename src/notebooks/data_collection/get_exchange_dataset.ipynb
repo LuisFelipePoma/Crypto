{
 "cells": [
  {
   "cell_type": "markdown",
   "metadata": {},
   "source": [
    "# Importamos Librerias"
   ]
  },
  {
   "cell_type": "code",
   "execution_count": 2,
   "metadata": {},
   "outputs": [],
   "source": [
    "from _utils import *"
   ]
  },
  {
   "cell_type": "code",
   "execution_count": 30,
   "metadata": {},
   "outputs": [],
   "source": [
    "# Cargamos los metadatos de CoinGecko\n",
    "exchanges_metadata = read_json(\"../../metadata/coingecko/exchanges.json\")\n",
    "categories_metadata = read_json(\"../../metadata/coingecko/categories.json\")"
   ]
  },
  {
   "cell_type": "markdown",
   "metadata": {},
   "source": [
    "## Obtener la info de las coins de las categorias principales"
   ]
  },
  {
   "cell_type": "markdown",
   "metadata": {},
   "source": [
    "Obtener las categorias principales (IA, RWA, Memes, Gaming)"
   ]
  },
  {
   "cell_type": "code",
   "execution_count": 19,
   "metadata": {},
   "outputs": [
    {
     "data": {
      "text/plain": [
       "350"
      ]
     },
     "execution_count": 19,
     "metadata": {},
     "output_type": "execute_result"
    }
   ],
   "source": [
    "len(categories_metadata)"
   ]
  },
  {
   "cell_type": "code",
   "execution_count": 4,
   "metadata": {},
   "outputs": [],
   "source": [
    "# Filtrar las categorías utilizando la expresión regular\n",
    "regex_categories = create_regex(\n",
    "    words=[\"meme\", \"memes\", \"game\", \"gaming\", \"games\", \"ai\", \"real world assets\", \"rwa\", \"juego\"]\n",
    ")\n",
    "\n",
    "# Filtrar las categorías que contienen las palabras clave\n",
    "categories_filter = list(\n",
    "    filter(\n",
    "        lambda categoria: regex_categories.search(categoria[\"name\"].lower()),\n",
    "        categories_metadata,\n",
    "    )\n",
    ")"
   ]
  },
  {
   "cell_type": "code",
   "execution_count": 20,
   "metadata": {},
   "outputs": [
    {
     "data": {
      "text/plain": [
       "28"
      ]
     },
     "execution_count": 20,
     "metadata": {},
     "output_type": "execute_result"
    }
   ],
   "source": [
    "len(categories_filter)"
   ]
  },
  {
   "cell_type": "markdown",
   "metadata": {},
   "source": [
    "Ahora realizamos las peticiones a la api para obtener la info de las coins de las categorias principales"
   ]
  },
  {
   "cell_type": "code",
   "execution_count": null,
   "metadata": {},
   "outputs": [],
   "source": [
    "coins_info: list[dict] = [] # Lista de diccionarios con la información de las monedas\n",
    "for category in categories_filter:\n",
    "    page = 1 # Página de la API\n",
    "    coin_info:list[dict] = [] # Lista de diccionarios con la información de las monedas\n",
    "    # Usamos un bucle infinito para obtener todas las monedas de la categoría\n",
    "    while True:\n",
    "        try:\n",
    "            response = fetch_data(api=APIS.COINGECKO,uri=f\"coins/markets?vs_currency=usd&category={category[\"category_id\"]}&per_page=250&page={page}\",parameters={})\n",
    "        except Exception as e:\n",
    "            print(e)\n",
    "            break\n",
    "        if not response:\n",
    "            break\n",
    "        coin_info.extend(response) # Añadimos la información de las monedas a la lista\n",
    "        page += 1 # Incrementamos la página\n",
    "        time.sleep(2) # Esperamos 2 segundos\n",
    "    print(category)\n",
    "    category_new = category.copy() # Copiamos la categoría\n",
    "    category_new[\"coins\"] = coin_info # Añadimos la información de las monedas a la categoría\n",
    "    coins_info.append(category_new) # Añadimos la información de la categoría a la lista"
   ]
  },
  {
   "cell_type": "code",
   "execution_count": 18,
   "metadata": {},
   "outputs": [
    {
     "data": {
      "text/plain": [
       "15662"
      ]
     },
     "execution_count": 18,
     "metadata": {},
     "output_type": "execute_result"
    }
   ],
   "source": [
    "# Calcular el total de monedas\n",
    "total_coins = 0\n",
    "for coin in coins_info:\n",
    "    total_coins += len(coin[\"coins\"])\n",
    "total_coins"
   ]
  },
  {
   "cell_type": "markdown",
   "metadata": {},
   "source": [
    "Estandarizamos los coins"
   ]
  },
  {
   "cell_type": "code",
   "execution_count": 22,
   "metadata": {},
   "outputs": [],
   "source": [
    "new_coins_info:list[dict] = [] # Lista de diccionarios que contiene la información de las monedas\n",
    "for category in coins_info:\n",
    "    for coin in category[\"coins\"]:\n",
    "        new_coin = coin.copy() # Copiar el diccionario de la moneda\n",
    "        new_coin[\"category\"] = category[\"name\"] # Agregar el nombre de la categoría\n",
    "        new_coin[\"category_id\"] = category[\"category_id\"]  # Agregar el id de la categoría\n",
    "        new_coins_info.append(new_coin) # Agregar el diccionario de la moneda a la lista\n",
    "coins_info = new_coins_info"
   ]
  },
  {
   "cell_type": "code",
   "execution_count": 23,
   "metadata": {},
   "outputs": [
    {
     "data": {
      "text/plain": [
       "15662"
      ]
     },
     "execution_count": 23,
     "metadata": {},
     "output_type": "execute_result"
    }
   ],
   "source": [
    "len(coins_info)"
   ]
  },
  {
   "cell_type": "code",
   "execution_count": 24,
   "metadata": {},
   "outputs": [],
   "source": [
    "# Guardamos la información en un archivo JSON\n",
    "save_json(coins_info, f\"../../data/json/coingecko/coins.json\")"
   ]
  },
  {
   "cell_type": "markdown",
   "metadata": {},
   "source": [
    "## Obtener la info de las tickers de los exchanges principales para de ahi poder obtener que monedas se encuentran en estas exchanges"
   ]
  },
  {
   "cell_type": "markdown",
   "metadata": {},
   "source": [
    "La API de CoinGecko ya nos devuelve de la exchange mas importante a la menos importante"
   ]
  },
  {
   "cell_type": "code",
   "execution_count": 31,
   "metadata": {},
   "outputs": [
    {
     "data": {
      "text/plain": [
       "837"
      ]
     },
     "execution_count": 31,
     "metadata": {},
     "output_type": "execute_result"
    }
   ],
   "source": [
    "len(exchanges_metadata)"
   ]
  },
  {
   "cell_type": "code",
   "execution_count": 35,
   "metadata": {},
   "outputs": [],
   "source": [
    "# Obtendremos los datos de los 20 principales exchanges\n",
    "exchanges_centralized_info = []\n",
    "exchanges_decentralized_info = []\n",
    "\n",
    "for index, exchange in enumerate(exchanges_metadata):\n",
    "    # Obtenemos la información del exchange\n",
    "    exchange_info = fetch_data(api= APIS.COINGECKO, uri=f\"exchanges/{exchange[\"id\"]}\", parameters={})\n",
    "    # Agregamos el id del exchange\n",
    "    exchange_info[\"id\"] = exchange[\"id\"]\n",
    "    # Verificamos si el exchange es centralizado\n",
    "    if (exchange_info[\"centralized\"]):\n",
    "        exchanges_centralized_info.append(exchange_info) # Agregamos la información del exchange a la lista de exchanges centralizados\n",
    "    # Verificamos si el exchange es descentralizado\n",
    "    elif (not exchange_info[\"centralized\"] ):\n",
    "        exchanges_decentralized_info.append(exchange_info)\n",
    "    time.sleep(2)"
   ]
  },
  {
   "cell_type": "markdown",
   "metadata": {},
   "source": [
    "El endpoint anterior nos devuelve los tickers limitados a 100, asi ahora llamaremos a otra api para obtener todos los tickers"
   ]
  },
  {
   "cell_type": "code",
   "execution_count": 36,
   "metadata": {},
   "outputs": [],
   "source": [
    "# Obtner informacion de las transacciones entre monedas que suceden\n",
    "def get_tickers_by_exchange(exchanges: list[dict]) -> list[dict]:\n",
    "    exchange_tickers_info: list[dict] = [] # Lista para almacenar la información de los tickers de los exchanges\n",
    "    for exchange in exchanges:\n",
    "        page = 1 # variable para la paginacion de la API\n",
    "        exchange_ticker_info = [] # Lista para almacenar la información de los tickers del exchange\n",
    "        # Usamos un while para obtener toda la información de los tickers del exchange de cada paginacion \n",
    "        while True:\n",
    "            try:\n",
    "                response = fetch_data(api= APIS.COINGECKO, uri=f\"exchanges/{exchange[\"id\"]}/tickers?page={page}\", parameters={})\n",
    "            except:\n",
    "                break\n",
    "            if not response[\"tickers\"]: break # Si no hay tickers en la respuesta, salimos del bucle\n",
    "            exchange_ticker_info.extend(response[\"tickers\"]) # Agregamos la información de los tickers a la lista\n",
    "            page += 1 # Incrementamos la variable de paginacion\n",
    "            time.sleep(2) # Esperamos 2 segundos para hacer la siguiente peticion\n",
    "        exchange_new = exchange.copy() # Copiamos la información del exchange\n",
    "        exchange_new[\"tickers\"] = exchange_ticker_info # Agregamos la información de los tickers al exchange\n",
    "        exchange_tickers_info.append(exchange_new) # Agregamos la información del exchange a la lista de exchanges\n",
    "    return exchange_tickers_info"
   ]
  },
  {
   "cell_type": "code",
   "execution_count": 37,
   "metadata": {},
   "outputs": [],
   "source": [
    "# LLamamos a la funcion para obtener la informacion de los tickers de los exchanges\n",
    "exchanges_centralized_info = get_tickers_by_exchange(exchanges_centralized_info) \n",
    "exchanges_decentralized_info = get_tickers_by_exchange(exchanges_decentralized_info) "
   ]
  },
  {
   "cell_type": "code",
   "execution_count": 44,
   "metadata": {},
   "outputs": [],
   "source": [
    "# Guardamos los exchanges\n",
    "save_json(exchanges_centralized_info, \"../../data/json/coingecko/exchanges_centralized.json\")\n",
    "save_json(exchanges_decentralized_info, \"../../data/json/coingecko/exchanges_decentralized.json\")"
   ]
  },
  {
   "cell_type": "markdown",
   "metadata": {},
   "source": [
    "## Obtener la info de las coins en base a los exchanges principales "
   ]
  },
  {
   "cell_type": "markdown",
   "metadata": {},
   "source": [
    "Creamos un set para guardar las coins id que existen"
   ]
  },
  {
   "cell_type": "code",
   "execution_count": 51,
   "metadata": {},
   "outputs": [],
   "source": [
    "coins_centralized_id = set() # Conjunto para almacenar los id de las monedas\n",
    "coins_decentralized_id = set() # Conjunto para almacenar los id de las monedas\n",
    "\n",
    "N_EXCHANGES = 20 # Número de exchanges (20 mas importantes)\n",
    "\n",
    "for exchange in exchanges_centralized_info[:N_EXCHANGES]: # Recorremos las categorias\n",
    "    for coin in exchange[\"tickers\"]:\n",
    "        coins_centralized_id.add((coin[\"coin_id\"],exchange[\"id\"]))\n",
    "        \n",
    "for exchange in exchanges_decentralized_info[:N_EXCHANGES]: # Recorremos las categorias\n",
    "    for coin in exchange[\"tickers\"]:\n",
    "        coins_decentralized_id.add((coin[\"coin_id\"],exchange[\"id\"]))"
   ]
  },
  {
   "cell_type": "code",
   "execution_count": 59,
   "metadata": {},
   "outputs": [
    {
     "data": {
      "text/plain": [
       "(9739, 7318)"
      ]
     },
     "execution_count": 59,
     "metadata": {},
     "output_type": "execute_result"
    }
   ],
   "source": [
    "len(coins_centralized_id), len(coins_decentralized_id)"
   ]
  },
  {
   "cell_type": "code",
   "execution_count": 53,
   "metadata": {},
   "outputs": [],
   "source": [
    "def is_in_set(set_coins_id: set[tuple[str,str]], coin_id: str):\n",
    "    for coin in set_coins_id:\n",
    "        if coin[0] == coin_id:\n",
    "            return (coin_id,True)\n",
    "    return (\"_\",False)"
   ]
  },
  {
   "cell_type": "markdown",
   "metadata": {},
   "source": [
    "Creamos una funcion que añadira el nuevo atributo `exchange_id` y `exchange_centralized` a las coins"
   ]
  },
  {
   "cell_type": "code",
   "execution_count": 54,
   "metadata": {},
   "outputs": [],
   "source": [
    "def get_coins_by_exchange(\n",
    "    coins_info: list[dict]\n",
    ") -> list[dict]:\n",
    "    new_coins_info = [] # Lista para almacenar la información de los exchanges\n",
    "    for coin in coins_info:\n",
    "        new_coin = coin.copy()\n",
    "        id_exchange, is_centralized = is_in_set(coins_centralized_id, coin[\"id\"])\n",
    "        if is_centralized:\n",
    "            new_coin[\"exchange_centralized\"] = True\n",
    "            new_coin[\"exchange_id\"] = id_exchange\n",
    "            new_coins_info.append(new_coin)\n",
    "        else:\n",
    "            id_exchange, is_decentralized = is_in_set(coins_decentralized_id, coin[\"id\"])\n",
    "            if is_decentralized:\n",
    "                new_coin[\"exchange_centralized\"] = False\n",
    "                new_coin[\"exchange_id\"] = id_exchange\n",
    "                new_coins_info.append(new_coin)\n",
    "    return new_coins_info"
   ]
  },
  {
   "cell_type": "code",
   "execution_count": 55,
   "metadata": {},
   "outputs": [],
   "source": [
    "# Llamamos a la función para obtener la información de las monedas de los exchanges\n",
    "new_coins_info = get_coins_by_exchange(coins_info)"
   ]
  },
  {
   "cell_type": "code",
   "execution_count": 57,
   "metadata": {},
   "outputs": [
    {
     "data": {
      "text/plain": [
       "8453"
      ]
     },
     "execution_count": 57,
     "metadata": {},
     "output_type": "execute_result"
    }
   ],
   "source": [
    "len(new_coins_info)"
   ]
  },
  {
   "cell_type": "code",
   "execution_count": 56,
   "metadata": {},
   "outputs": [],
   "source": [
    "# Guardamos la información en un archivo JSON\n",
    "save_json(new_coins_info, f\"../../data/json/coingecko/new_coins.json\")"
   ]
  }
 ],
 "metadata": {
  "kernelspec": {
   "display_name": ".env",
   "language": "python",
   "name": "python3"
  },
  "language_info": {
   "codemirror_mode": {
    "name": "ipython",
    "version": 3
   },
   "file_extension": ".py",
   "mimetype": "text/x-python",
   "name": "python",
   "nbconvert_exporter": "python",
   "pygments_lexer": "ipython3",
   "version": "3.12.2"
  }
 },
 "nbformat": 4,
 "nbformat_minor": 2
}
