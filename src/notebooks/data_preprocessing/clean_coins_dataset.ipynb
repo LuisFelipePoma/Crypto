{
 "cells": [
  {
   "cell_type": "markdown",
   "metadata": {},
   "source": [
    "# **Importamos la librerias necesarias**"
   ]
  },
  {
   "cell_type": "code",
   "execution_count": 1,
   "metadata": {},
   "outputs": [],
   "source": [
    "from _utils import *"
   ]
  },
  {
   "cell_type": "markdown",
   "metadata": {},
   "source": [
    "# **Ahora cargamos los dataset necesarios**"
   ]
  },
  {
   "cell_type": "code",
   "execution_count": 25,
   "metadata": {},
   "outputs": [],
   "source": [
    "df = pd.DataFrame(read_json(\"../../datasets/json/coins.json\"))"
   ]
  },
  {
   "cell_type": "markdown",
   "metadata": {},
   "source": [
    "# **Inspeccion de Datos**\n"
   ]
  },
  {
   "cell_type": "markdown",
   "metadata": {},
   "source": [
    "Ahora le damos una vista general de los datos y se limpiaran los datos "
   ]
  },
  {
   "cell_type": "markdown",
   "metadata": {},
   "source": [
    "`df_coins`"
   ]
  },
  {
   "cell_type": "code",
   "execution_count": 26,
   "metadata": {},
   "outputs": [
    {
     "data": {
      "text/html": [
       "<div>\n",
       "<style scoped>\n",
       "    .dataframe tbody tr th:only-of-type {\n",
       "        vertical-align: middle;\n",
       "    }\n",
       "\n",
       "    .dataframe tbody tr th {\n",
       "        vertical-align: top;\n",
       "    }\n",
       "\n",
       "    .dataframe thead th {\n",
       "        text-align: right;\n",
       "    }\n",
       "</style>\n",
       "<table border=\"1\" class=\"dataframe\">\n",
       "  <thead>\n",
       "    <tr style=\"text-align: right;\">\n",
       "      <th></th>\n",
       "      <th>id</th>\n",
       "      <th>symbol</th>\n",
       "      <th>name</th>\n",
       "      <th>image</th>\n",
       "      <th>current_price</th>\n",
       "      <th>market_cap</th>\n",
       "      <th>market_cap_rank</th>\n",
       "      <th>fully_diluted_valuation</th>\n",
       "      <th>total_volume</th>\n",
       "      <th>high_24h</th>\n",
       "      <th>...</th>\n",
       "      <th>ath_date</th>\n",
       "      <th>atl</th>\n",
       "      <th>atl_change_percentage</th>\n",
       "      <th>atl_date</th>\n",
       "      <th>roi</th>\n",
       "      <th>last_updated</th>\n",
       "      <th>category</th>\n",
       "      <th>category_id</th>\n",
       "      <th>exchanges_centralized</th>\n",
       "      <th>exchanges_decentralized</th>\n",
       "    </tr>\n",
       "  </thead>\n",
       "  <tbody>\n",
       "    <tr>\n",
       "      <th>0</th>\n",
       "      <td>bitcoin</td>\n",
       "      <td>btc</td>\n",
       "      <td>Bitcoin</td>\n",
       "      <td>https://assets.coingecko.com/coins/images/1/la...</td>\n",
       "      <td>62485.000000</td>\n",
       "      <td>1.234314e+12</td>\n",
       "      <td>1.0</td>\n",
       "      <td>1.316328e+12</td>\n",
       "      <td>1.745832e+10</td>\n",
       "      <td>64258.000</td>\n",
       "      <td>...</td>\n",
       "      <td>2024-03-14T07:10:36.635Z</td>\n",
       "      <td>67.810000</td>\n",
       "      <td>9.233951e+04</td>\n",
       "      <td>2013-07-06T00:00:00.000Z</td>\n",
       "      <td>None</td>\n",
       "      <td>2024-04-29T03:07:50.739Z</td>\n",
       "      <td>Pixels Game</td>\n",
       "      <td>pixels-game</td>\n",
       "      <td>[binance, bybit_spot, nami_exchange, upbit, ok...</td>\n",
       "      <td>[thorswap]</td>\n",
       "    </tr>\n",
       "    <tr>\n",
       "      <th>1</th>\n",
       "      <td>ethereum</td>\n",
       "      <td>eth</td>\n",
       "      <td>Ethereum</td>\n",
       "      <td>https://assets.coingecko.com/coins/images/279/...</td>\n",
       "      <td>3204.580000</td>\n",
       "      <td>3.933157e+11</td>\n",
       "      <td>2.0</td>\n",
       "      <td>3.933157e+11</td>\n",
       "      <td>1.234581e+10</td>\n",
       "      <td>3345.290</td>\n",
       "      <td>...</td>\n",
       "      <td>2021-11-10T14:24:19.604Z</td>\n",
       "      <td>0.432979</td>\n",
       "      <td>7.444012e+05</td>\n",
       "      <td>2015-10-20T00:00:00.000Z</td>\n",
       "      <td>{'times': 67.51867213370284, 'currency': 'btc'...</td>\n",
       "      <td>2024-04-29T03:07:34.938Z</td>\n",
       "      <td>Pixels Game</td>\n",
       "      <td>pixels-game</td>\n",
       "      <td>[binance, bybit_spot, nami_exchange, upbit, ok...</td>\n",
       "      <td>[curve_ethereum, thorswap, openocean_finance]</td>\n",
       "    </tr>\n",
       "    <tr>\n",
       "      <th>2</th>\n",
       "      <td>tether</td>\n",
       "      <td>usdt</td>\n",
       "      <td>Tether</td>\n",
       "      <td>https://assets.coingecko.com/coins/images/325/...</td>\n",
       "      <td>0.999644</td>\n",
       "      <td>1.104947e+11</td>\n",
       "      <td>3.0</td>\n",
       "      <td>1.104947e+11</td>\n",
       "      <td>2.619696e+10</td>\n",
       "      <td>1.001</td>\n",
       "      <td>...</td>\n",
       "      <td>2018-07-24T00:00:00.000Z</td>\n",
       "      <td>0.572521</td>\n",
       "      <td>7.468564e+01</td>\n",
       "      <td>2015-03-02T00:00:00.000Z</td>\n",
       "      <td>None</td>\n",
       "      <td>2024-04-29T03:05:41.166Z</td>\n",
       "      <td>Pixels Game</td>\n",
       "      <td>pixels-game</td>\n",
       "      <td>[binance, bybit_spot, nami_exchange, okex, huo...</td>\n",
       "      <td>[jupiter, raydium2, curve_ethereum, meteora, t...</td>\n",
       "    </tr>\n",
       "    <tr>\n",
       "      <th>3</th>\n",
       "      <td>binancecoin</td>\n",
       "      <td>bnb</td>\n",
       "      <td>BNB</td>\n",
       "      <td>https://assets.coingecko.com/coins/images/825/...</td>\n",
       "      <td>592.640000</td>\n",
       "      <td>9.147265e+10</td>\n",
       "      <td>4.0</td>\n",
       "      <td>9.147265e+10</td>\n",
       "      <td>7.763166e+08</td>\n",
       "      <td>606.920</td>\n",
       "      <td>...</td>\n",
       "      <td>2021-05-10T07:24:17.097Z</td>\n",
       "      <td>0.039818</td>\n",
       "      <td>1.493039e+06</td>\n",
       "      <td>2017-10-19T00:00:00.000Z</td>\n",
       "      <td>None</td>\n",
       "      <td>2024-04-29T03:07:39.939Z</td>\n",
       "      <td>Pixels Game</td>\n",
       "      <td>pixels-game</td>\n",
       "      <td>[binance, bybit_spot, nami_exchange, okex, huo...</td>\n",
       "      <td>[uniswap_v3, thorswap, openocean_finance]</td>\n",
       "    </tr>\n",
       "    <tr>\n",
       "      <th>4</th>\n",
       "      <td>solana</td>\n",
       "      <td>sol</td>\n",
       "      <td>Solana</td>\n",
       "      <td>https://assets.coingecko.com/coins/images/4128...</td>\n",
       "      <td>135.710000</td>\n",
       "      <td>6.090000e+10</td>\n",
       "      <td>5.0</td>\n",
       "      <td>7.827803e+10</td>\n",
       "      <td>2.231952e+09</td>\n",
       "      <td>144.580</td>\n",
       "      <td>...</td>\n",
       "      <td>2021-11-06T21:54:35.825Z</td>\n",
       "      <td>0.500801</td>\n",
       "      <td>2.710871e+04</td>\n",
       "      <td>2020-05-11T19:35:23.449Z</td>\n",
       "      <td>None</td>\n",
       "      <td>2024-04-29T03:07:43.805Z</td>\n",
       "      <td>Pixels Game</td>\n",
       "      <td>pixels-game</td>\n",
       "      <td>[binance, bybit_spot, nami_exchange, upbit, ok...</td>\n",
       "      <td>[]</td>\n",
       "    </tr>\n",
       "  </tbody>\n",
       "</table>\n",
       "<p>5 rows × 30 columns</p>\n",
       "</div>"
      ],
      "text/plain": [
       "            id symbol      name  \\\n",
       "0      bitcoin    btc   Bitcoin   \n",
       "1     ethereum    eth  Ethereum   \n",
       "2       tether   usdt    Tether   \n",
       "3  binancecoin    bnb       BNB   \n",
       "4       solana    sol    Solana   \n",
       "\n",
       "                                               image  current_price  \\\n",
       "0  https://assets.coingecko.com/coins/images/1/la...   62485.000000   \n",
       "1  https://assets.coingecko.com/coins/images/279/...    3204.580000   \n",
       "2  https://assets.coingecko.com/coins/images/325/...       0.999644   \n",
       "3  https://assets.coingecko.com/coins/images/825/...     592.640000   \n",
       "4  https://assets.coingecko.com/coins/images/4128...     135.710000   \n",
       "\n",
       "     market_cap  market_cap_rank  fully_diluted_valuation  total_volume  \\\n",
       "0  1.234314e+12              1.0             1.316328e+12  1.745832e+10   \n",
       "1  3.933157e+11              2.0             3.933157e+11  1.234581e+10   \n",
       "2  1.104947e+11              3.0             1.104947e+11  2.619696e+10   \n",
       "3  9.147265e+10              4.0             9.147265e+10  7.763166e+08   \n",
       "4  6.090000e+10              5.0             7.827803e+10  2.231952e+09   \n",
       "\n",
       "    high_24h  ...                  ath_date        atl  atl_change_percentage  \\\n",
       "0  64258.000  ...  2024-03-14T07:10:36.635Z  67.810000           9.233951e+04   \n",
       "1   3345.290  ...  2021-11-10T14:24:19.604Z   0.432979           7.444012e+05   \n",
       "2      1.001  ...  2018-07-24T00:00:00.000Z   0.572521           7.468564e+01   \n",
       "3    606.920  ...  2021-05-10T07:24:17.097Z   0.039818           1.493039e+06   \n",
       "4    144.580  ...  2021-11-06T21:54:35.825Z   0.500801           2.710871e+04   \n",
       "\n",
       "                   atl_date  \\\n",
       "0  2013-07-06T00:00:00.000Z   \n",
       "1  2015-10-20T00:00:00.000Z   \n",
       "2  2015-03-02T00:00:00.000Z   \n",
       "3  2017-10-19T00:00:00.000Z   \n",
       "4  2020-05-11T19:35:23.449Z   \n",
       "\n",
       "                                                 roi  \\\n",
       "0                                               None   \n",
       "1  {'times': 67.51867213370284, 'currency': 'btc'...   \n",
       "2                                               None   \n",
       "3                                               None   \n",
       "4                                               None   \n",
       "\n",
       "               last_updated     category  category_id  \\\n",
       "0  2024-04-29T03:07:50.739Z  Pixels Game  pixels-game   \n",
       "1  2024-04-29T03:07:34.938Z  Pixels Game  pixels-game   \n",
       "2  2024-04-29T03:05:41.166Z  Pixels Game  pixels-game   \n",
       "3  2024-04-29T03:07:39.939Z  Pixels Game  pixels-game   \n",
       "4  2024-04-29T03:07:43.805Z  Pixels Game  pixels-game   \n",
       "\n",
       "                               exchanges_centralized  \\\n",
       "0  [binance, bybit_spot, nami_exchange, upbit, ok...   \n",
       "1  [binance, bybit_spot, nami_exchange, upbit, ok...   \n",
       "2  [binance, bybit_spot, nami_exchange, okex, huo...   \n",
       "3  [binance, bybit_spot, nami_exchange, okex, huo...   \n",
       "4  [binance, bybit_spot, nami_exchange, upbit, ok...   \n",
       "\n",
       "                             exchanges_decentralized  \n",
       "0                                         [thorswap]  \n",
       "1      [curve_ethereum, thorswap, openocean_finance]  \n",
       "2  [jupiter, raydium2, curve_ethereum, meteora, t...  \n",
       "3          [uniswap_v3, thorswap, openocean_finance]  \n",
       "4                                                 []  \n",
       "\n",
       "[5 rows x 30 columns]"
      ]
     },
     "execution_count": 26,
     "metadata": {},
     "output_type": "execute_result"
    }
   ],
   "source": [
    "df.head(5)"
   ]
  },
  {
   "cell_type": "code",
   "execution_count": 11,
   "metadata": {},
   "outputs": [
    {
     "name": "stdout",
     "output_type": "stream",
     "text": [
      "<class 'pandas.core.frame.DataFrame'>\n",
      "RangeIndex: 7575 entries, 0 to 7574\n",
      "Data columns (total 30 columns):\n",
      " #   Column                            Non-Null Count  Dtype  \n",
      "---  ------                            --------------  -----  \n",
      " 0   id                                7575 non-null   object \n",
      " 1   symbol                            7575 non-null   object \n",
      " 2   name                              7575 non-null   object \n",
      " 3   image                             7575 non-null   object \n",
      " 4   current_price                     7573 non-null   float64\n",
      " 5   market_cap                        7574 non-null   float64\n",
      " 6   market_cap_rank                   3622 non-null   float64\n",
      " 7   fully_diluted_valuation           6961 non-null   float64\n",
      " 8   total_volume                      7574 non-null   float64\n",
      " 9   high_24h                          7321 non-null   float64\n",
      " 10  low_24h                           7321 non-null   float64\n",
      " 11  price_change_24h                  7321 non-null   float64\n",
      " 12  price_change_percentage_24h       7321 non-null   float64\n",
      " 13  market_cap_change_24h             7319 non-null   float64\n",
      " 14  market_cap_change_percentage_24h  7319 non-null   float64\n",
      " 15  circulating_supply                7574 non-null   float64\n",
      " 16  total_supply                      7070 non-null   float64\n",
      " 17  max_supply                        5297 non-null   float64\n",
      " 18  ath                               7574 non-null   float64\n",
      " 19  ath_change_percentage             7575 non-null   float64\n",
      " 20  ath_date                          7574 non-null   object \n",
      " 21  atl                               7574 non-null   float64\n",
      " 22  atl_change_percentage             7575 non-null   float64\n",
      " 23  atl_date                          7574 non-null   object \n",
      " 24  roi                               273 non-null    object \n",
      " 25  last_updated                      7574 non-null   object \n",
      " 26  category                          7575 non-null   object \n",
      " 27  category_id                       7575 non-null   object \n",
      " 28  exchanges_centralized             7575 non-null   object \n",
      " 29  exchanges_decentralized           7575 non-null   object \n",
      "dtypes: float64(18), object(12)\n",
      "memory usage: 1.7+ MB\n"
     ]
    }
   ],
   "source": [
    "df.info()"
   ]
  },
  {
   "cell_type": "markdown",
   "metadata": {},
   "source": [
    "Observamos la frecuencia de las exchanges que pertenece cada moneda"
   ]
  },
  {
   "cell_type": "code",
   "execution_count": 20,
   "metadata": {},
   "outputs": [
    {
     "data": {
      "text/plain": [
       "exchanges_centralized\n",
       "0    3376\n",
       "1    2166\n",
       "2     608\n",
       "3     316\n",
       "4     206\n",
       "5     113\n",
       "6     110\n",
       "9      66\n",
       "7      65\n",
       "8      58\n",
       "Name: count, dtype: int64"
      ]
     },
     "execution_count": 20,
     "metadata": {},
     "output_type": "execute_result"
    }
   ],
   "source": [
    "# Cantidad de exchanges centralizados (frecuencia)\n",
    "df[\"exchanges_centralized\"].apply(lambda x: len(x)).value_counts()[:10]"
   ]
  },
  {
   "cell_type": "code",
   "execution_count": 21,
   "metadata": {},
   "outputs": [
    {
     "data": {
      "text/plain": [
       "exchanges_decentralized\n",
       "1    3193\n",
       "0    2438\n",
       "2    1110\n",
       "3     428\n",
       "4     225\n",
       "5     102\n",
       "6      34\n",
       "9      11\n",
       "8      11\n",
       "7      10\n",
       "Name: count, dtype: int64"
      ]
     },
     "execution_count": 21,
     "metadata": {},
     "output_type": "execute_result"
    }
   ],
   "source": [
    "# Cantidad de exchanges descentralizados (frecuencia)\n",
    "df[\"exchanges_decentralized\"].apply(lambda x: len(x)).value_counts()[:10]"
   ]
  },
  {
   "cell_type": "markdown",
   "metadata": {},
   "source": [
    "## Caso especial"
   ]
  },
  {
   "cell_type": "markdown",
   "metadata": {},
   "source": [
    "Antes de realizar la limpieza de los datos, podemos observar los siguiente del `JSON` del dataset:\n",
    "- La exchange a la cual pertenece es una version de esta pasada `uniswap_v2`, ya que actualmente esta la version 3.\n",
    "- La criptomoneda no ha tenido movimiento las ultimas 24 horas.\n",
    "- No tiene maximos ni minimos historicos.\n",
    "  \n",
    "Por lo cual podemos deducir que se debe a un error en el registro de la moneda o un problema con la version de la exchange de donde la API nos proporciono esta información "
   ]
  },
  {
   "cell_type": "markdown",
   "metadata": {},
   "source": [
    "```json\n",
    "{\n",
    "\t\"id\": \"party\",\n",
    "\t\"symbol\": \"party\",\n",
    "\t\"name\": \"PARTY\",\n",
    "\t\"image\": \"https://assets.coingecko.com/coins/images/33550/large/party-logo-200x200.png?1702397278\",\n",
    "\t\"current_price\": null,\n",
    "\t\"market_cap\": null,\n",
    "\t\"market_cap_rank\": null,\n",
    "\t\"fully_diluted_valuation\": null,\n",
    "\t\"total_volume\": null,\n",
    "\t\"high_24h\": null,\n",
    "\t\"low_24h\": null,\n",
    "\t\"price_change_24h\": null,\n",
    "\t\"price_change_percentage_24h\": null,\n",
    "\t\"market_cap_change_24h\": null,\n",
    "\t\"market_cap_change_percentage_24h\": null,\n",
    "\t\"circulating_supply\": null,\n",
    "\t\"total_supply\": 420177600000000.0,\n",
    "\t\"max_supply\": 420177600000000.0,\n",
    "\t\"ath\": null,\n",
    "\t\"ath_change_percentage\": 0.0,\n",
    "\t\"ath_date\": null,\n",
    "\t\"atl\": null,\n",
    "\t\"atl_change_percentage\": 0.0,\n",
    "\t\"atl_date\": null,\n",
    "\t\"roi\": null,\n",
    "\t\"last_updated\": null,\n",
    "\t\"category\": \"Pixels Game\",\n",
    "\t\"category_id\": \"pixels-game\",\n",
    "\t\"exchanges_centralized\": [],\n",
    "\t\"exchanges_decentralized\": [\n",
    "\t\t\"uniswap_v2\"\n",
    "\t]\n",
    "}\n",
    "```"
   ]
  },
  {
   "cell_type": "markdown",
   "metadata": {},
   "source": [
    "Este caso especial se tendra que eliminar del dataset "
   ]
  },
  {
   "cell_type": "code",
   "execution_count": 28,
   "metadata": {},
   "outputs": [],
   "source": [
    "# Eliminar la fila con id \"party\"\n",
    "df = df[df[\"id\"] != \"party\"]"
   ]
  },
  {
   "cell_type": "code",
   "execution_count": 30,
   "metadata": {},
   "outputs": [
    {
     "data": {
      "text/html": [
       "<div>\n",
       "<style scoped>\n",
       "    .dataframe tbody tr th:only-of-type {\n",
       "        vertical-align: middle;\n",
       "    }\n",
       "\n",
       "    .dataframe tbody tr th {\n",
       "        vertical-align: top;\n",
       "    }\n",
       "\n",
       "    .dataframe thead th {\n",
       "        text-align: right;\n",
       "    }\n",
       "</style>\n",
       "<table border=\"1\" class=\"dataframe\">\n",
       "  <thead>\n",
       "    <tr style=\"text-align: right;\">\n",
       "      <th></th>\n",
       "      <th>id</th>\n",
       "      <th>symbol</th>\n",
       "      <th>name</th>\n",
       "      <th>image</th>\n",
       "      <th>current_price</th>\n",
       "      <th>market_cap</th>\n",
       "      <th>market_cap_rank</th>\n",
       "      <th>fully_diluted_valuation</th>\n",
       "      <th>total_volume</th>\n",
       "      <th>high_24h</th>\n",
       "      <th>...</th>\n",
       "      <th>ath_date</th>\n",
       "      <th>atl</th>\n",
       "      <th>atl_change_percentage</th>\n",
       "      <th>atl_date</th>\n",
       "      <th>roi</th>\n",
       "      <th>last_updated</th>\n",
       "      <th>category</th>\n",
       "      <th>category_id</th>\n",
       "      <th>exchanges_centralized</th>\n",
       "      <th>exchanges_decentralized</th>\n",
       "    </tr>\n",
       "  </thead>\n",
       "  <tbody>\n",
       "  </tbody>\n",
       "</table>\n",
       "<p>0 rows × 30 columns</p>\n",
       "</div>"
      ],
      "text/plain": [
       "Empty DataFrame\n",
       "Columns: [id, symbol, name, image, current_price, market_cap, market_cap_rank, fully_diluted_valuation, total_volume, high_24h, low_24h, price_change_24h, price_change_percentage_24h, market_cap_change_24h, market_cap_change_percentage_24h, circulating_supply, total_supply, max_supply, ath, ath_change_percentage, ath_date, atl, atl_change_percentage, atl_date, roi, last_updated, category, category_id, exchanges_centralized, exchanges_decentralized]\n",
       "Index: []\n",
       "\n",
       "[0 rows x 30 columns]"
      ]
     },
     "execution_count": 30,
     "metadata": {},
     "output_type": "execute_result"
    }
   ],
   "source": [
    "# Validamos que no existe ese json\n",
    "df[df[\"id\"] == \"party\"]"
   ]
  },
  {
   "cell_type": "markdown",
   "metadata": {},
   "source": [
    "# **Preprocesamiento de los Datos**"
   ]
  },
  {
   "cell_type": "code",
   "execution_count": 22,
   "metadata": {},
   "outputs": [
    {
     "data": {
      "text/plain": [
       "[('current_price', 2),\n",
       " ('market_cap', 1),\n",
       " ('market_cap_rank', 3953),\n",
       " ('fully_diluted_valuation', 614),\n",
       " ('total_volume', 1),\n",
       " ('high_24h', 254),\n",
       " ('low_24h', 254),\n",
       " ('price_change_24h', 254),\n",
       " ('price_change_percentage_24h', 254),\n",
       " ('market_cap_change_24h', 256),\n",
       " ('market_cap_change_percentage_24h', 256),\n",
       " ('circulating_supply', 1),\n",
       " ('total_supply', 505),\n",
       " ('max_supply', 2278),\n",
       " ('ath', 1),\n",
       " ('ath_date', 1),\n",
       " ('atl', 1),\n",
       " ('atl_date', 1),\n",
       " ('roi', 7302),\n",
       " ('last_updated', 1)]"
      ]
     },
     "execution_count": 22,
     "metadata": {},
     "output_type": "execute_result"
    }
   ],
   "source": [
    "find_columns_with_nulls(df)"
   ]
  }
 ],
 "metadata": {
  "kernelspec": {
   "display_name": ".env",
   "language": "python",
   "name": "python3"
  },
  "language_info": {
   "codemirror_mode": {
    "name": "ipython",
    "version": 3
   },
   "file_extension": ".py",
   "mimetype": "text/x-python",
   "name": "python",
   "nbconvert_exporter": "python",
   "pygments_lexer": "ipython3",
   "version": "3.12.2"
  }
 },
 "nbformat": 4,
 "nbformat_minor": 2
}
