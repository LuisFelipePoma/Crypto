{
 "cells": [
  {
   "cell_type": "markdown",
   "metadata": {},
   "source": [
    "# **Importamos la librerias necesarias**"
   ]
  },
  {
   "cell_type": "code",
   "execution_count": 1,
   "metadata": {},
   "outputs": [],
   "source": [
    "from _utils import *"
   ]
  },
  {
   "cell_type": "markdown",
   "metadata": {},
   "source": [
    "# **Ahora cargamos los dataset necesarios**"
   ]
  },
  {
   "cell_type": "code",
   "execution_count": 17,
   "metadata": {},
   "outputs": [],
   "source": [
    "df_coins = pd.DataFrame(read_json(\"../../data/json/coingecko/new_coins.json\"))"
   ]
  },
  {
   "cell_type": "markdown",
   "metadata": {},
   "source": [
    "# **Inspeccion de Datos y Preprocesamiento de los Datos**\n"
   ]
  },
  {
   "cell_type": "markdown",
   "metadata": {},
   "source": [
    "Ahora le damos una vista general de los datos y se limpiaran los datos "
   ]
  },
  {
   "cell_type": "markdown",
   "metadata": {},
   "source": [
    "`df_coins`"
   ]
  },
  {
   "cell_type": "code",
   "execution_count": 18,
   "metadata": {},
   "outputs": [
    {
     "data": {
      "text/html": [
       "<div>\n",
       "<style scoped>\n",
       "    .dataframe tbody tr th:only-of-type {\n",
       "        vertical-align: middle;\n",
       "    }\n",
       "\n",
       "    .dataframe tbody tr th {\n",
       "        vertical-align: top;\n",
       "    }\n",
       "\n",
       "    .dataframe thead th {\n",
       "        text-align: right;\n",
       "    }\n",
       "</style>\n",
       "<table border=\"1\" class=\"dataframe\">\n",
       "  <thead>\n",
       "    <tr style=\"text-align: right;\">\n",
       "      <th></th>\n",
       "      <th>id</th>\n",
       "      <th>symbol</th>\n",
       "      <th>name</th>\n",
       "      <th>image</th>\n",
       "      <th>current_price</th>\n",
       "      <th>market_cap</th>\n",
       "      <th>market_cap_rank</th>\n",
       "      <th>fully_diluted_valuation</th>\n",
       "      <th>total_volume</th>\n",
       "      <th>high_24h</th>\n",
       "      <th>...</th>\n",
       "      <th>ath_date</th>\n",
       "      <th>atl</th>\n",
       "      <th>atl_change_percentage</th>\n",
       "      <th>atl_date</th>\n",
       "      <th>roi</th>\n",
       "      <th>last_updated</th>\n",
       "      <th>category</th>\n",
       "      <th>category_id</th>\n",
       "      <th>exchange_centralized</th>\n",
       "      <th>exchange_id</th>\n",
       "    </tr>\n",
       "  </thead>\n",
       "  <tbody>\n",
       "    <tr>\n",
       "      <th>0</th>\n",
       "      <td>illuvium</td>\n",
       "      <td>ilv</td>\n",
       "      <td>Illuvium</td>\n",
       "      <td>https://assets.coingecko.com/coins/images/1446...</td>\n",
       "      <td>101.140000</td>\n",
       "      <td>648969604.0</td>\n",
       "      <td>132.0</td>\n",
       "      <td>973810125.0</td>\n",
       "      <td>7296580.0</td>\n",
       "      <td>105.470000</td>\n",
       "      <td>...</td>\n",
       "      <td>2021-11-30T15:18:57.382Z</td>\n",
       "      <td>29.230000</td>\n",
       "      <td>246.81593</td>\n",
       "      <td>2021-06-22T14:11:59.151Z</td>\n",
       "      <td>None</td>\n",
       "      <td>2024-04-29T03:05:17.714Z</td>\n",
       "      <td>Adventure Games</td>\n",
       "      <td>adventure-games</td>\n",
       "      <td>True</td>\n",
       "      <td>illuvium</td>\n",
       "    </tr>\n",
       "    <tr>\n",
       "      <th>1</th>\n",
       "      <td>aurory</td>\n",
       "      <td>aury</td>\n",
       "      <td>Aurory</td>\n",
       "      <td>https://assets.coingecko.com/coins/images/1932...</td>\n",
       "      <td>0.529247</td>\n",
       "      <td>29028107.0</td>\n",
       "      <td>924.0</td>\n",
       "      <td>52789276.0</td>\n",
       "      <td>243170.0</td>\n",
       "      <td>0.547194</td>\n",
       "      <td>...</td>\n",
       "      <td>2021-11-08T16:04:04.494Z</td>\n",
       "      <td>0.310679</td>\n",
       "      <td>70.45106</td>\n",
       "      <td>2022-11-18T22:18:37.175Z</td>\n",
       "      <td>None</td>\n",
       "      <td>2024-04-29T03:05:05.806Z</td>\n",
       "      <td>Adventure Games</td>\n",
       "      <td>adventure-games</td>\n",
       "      <td>True</td>\n",
       "      <td>aurory</td>\n",
       "    </tr>\n",
       "    <tr>\n",
       "      <th>2</th>\n",
       "      <td>bullieverse</td>\n",
       "      <td>bull</td>\n",
       "      <td>Bullieverse</td>\n",
       "      <td>https://assets.coingecko.com/coins/images/2417...</td>\n",
       "      <td>0.007393</td>\n",
       "      <td>5328881.0</td>\n",
       "      <td>1773.0</td>\n",
       "      <td>7396653.0</td>\n",
       "      <td>70911.0</td>\n",
       "      <td>0.007743</td>\n",
       "      <td>...</td>\n",
       "      <td>2022-03-09T13:10:35.955Z</td>\n",
       "      <td>0.000731</td>\n",
       "      <td>909.13361</td>\n",
       "      <td>2023-08-19T02:45:15.229Z</td>\n",
       "      <td>None</td>\n",
       "      <td>2024-04-29T03:05:00.575Z</td>\n",
       "      <td>Adventure Games</td>\n",
       "      <td>adventure-games</td>\n",
       "      <td>True</td>\n",
       "      <td>bullieverse</td>\n",
       "    </tr>\n",
       "    <tr>\n",
       "      <th>3</th>\n",
       "      <td>eldarune</td>\n",
       "      <td>elda</td>\n",
       "      <td>Eldarune</td>\n",
       "      <td>https://assets.coingecko.com/coins/images/3033...</td>\n",
       "      <td>0.011672</td>\n",
       "      <td>2447421.0</td>\n",
       "      <td>2188.0</td>\n",
       "      <td>6887250.0</td>\n",
       "      <td>356979.0</td>\n",
       "      <td>0.012363</td>\n",
       "      <td>...</td>\n",
       "      <td>2024-01-02T08:40:27.468Z</td>\n",
       "      <td>0.002532</td>\n",
       "      <td>358.39700</td>\n",
       "      <td>2023-09-26T08:18:38.855Z</td>\n",
       "      <td>None</td>\n",
       "      <td>2024-04-29T03:05:18.145Z</td>\n",
       "      <td>Adventure Games</td>\n",
       "      <td>adventure-games</td>\n",
       "      <td>True</td>\n",
       "      <td>eldarune</td>\n",
       "    </tr>\n",
       "    <tr>\n",
       "      <th>4</th>\n",
       "      <td>mch-coin</td>\n",
       "      <td>mchc</td>\n",
       "      <td>MCH Coin</td>\n",
       "      <td>https://assets.coingecko.com/coins/images/1539...</td>\n",
       "      <td>0.068604</td>\n",
       "      <td>2347623.0</td>\n",
       "      <td>2209.0</td>\n",
       "      <td>2418531.0</td>\n",
       "      <td>63599.0</td>\n",
       "      <td>0.070353</td>\n",
       "      <td>...</td>\n",
       "      <td>2021-07-30T05:15:27.404Z</td>\n",
       "      <td>0.022968</td>\n",
       "      <td>198.90621</td>\n",
       "      <td>2022-06-18T20:17:17.271Z</td>\n",
       "      <td>None</td>\n",
       "      <td>2024-04-29T03:04:39.536Z</td>\n",
       "      <td>Adventure Games</td>\n",
       "      <td>adventure-games</td>\n",
       "      <td>True</td>\n",
       "      <td>mch-coin</td>\n",
       "    </tr>\n",
       "  </tbody>\n",
       "</table>\n",
       "<p>5 rows × 30 columns</p>\n",
       "</div>"
      ],
      "text/plain": [
       "            id symbol         name  \\\n",
       "0     illuvium    ilv     Illuvium   \n",
       "1       aurory   aury       Aurory   \n",
       "2  bullieverse   bull  Bullieverse   \n",
       "3     eldarune   elda     Eldarune   \n",
       "4     mch-coin   mchc     MCH Coin   \n",
       "\n",
       "                                               image  current_price  \\\n",
       "0  https://assets.coingecko.com/coins/images/1446...     101.140000   \n",
       "1  https://assets.coingecko.com/coins/images/1932...       0.529247   \n",
       "2  https://assets.coingecko.com/coins/images/2417...       0.007393   \n",
       "3  https://assets.coingecko.com/coins/images/3033...       0.011672   \n",
       "4  https://assets.coingecko.com/coins/images/1539...       0.068604   \n",
       "\n",
       "    market_cap  market_cap_rank  fully_diluted_valuation  total_volume  \\\n",
       "0  648969604.0            132.0              973810125.0     7296580.0   \n",
       "1   29028107.0            924.0               52789276.0      243170.0   \n",
       "2    5328881.0           1773.0                7396653.0       70911.0   \n",
       "3    2447421.0           2188.0                6887250.0      356979.0   \n",
       "4    2347623.0           2209.0                2418531.0       63599.0   \n",
       "\n",
       "     high_24h  ...                  ath_date        atl  \\\n",
       "0  105.470000  ...  2021-11-30T15:18:57.382Z  29.230000   \n",
       "1    0.547194  ...  2021-11-08T16:04:04.494Z   0.310679   \n",
       "2    0.007743  ...  2022-03-09T13:10:35.955Z   0.000731   \n",
       "3    0.012363  ...  2024-01-02T08:40:27.468Z   0.002532   \n",
       "4    0.070353  ...  2021-07-30T05:15:27.404Z   0.022968   \n",
       "\n",
       "   atl_change_percentage                  atl_date   roi  \\\n",
       "0              246.81593  2021-06-22T14:11:59.151Z  None   \n",
       "1               70.45106  2022-11-18T22:18:37.175Z  None   \n",
       "2              909.13361  2023-08-19T02:45:15.229Z  None   \n",
       "3              358.39700  2023-09-26T08:18:38.855Z  None   \n",
       "4              198.90621  2022-06-18T20:17:17.271Z  None   \n",
       "\n",
       "               last_updated         category      category_id  \\\n",
       "0  2024-04-29T03:05:17.714Z  Adventure Games  adventure-games   \n",
       "1  2024-04-29T03:05:05.806Z  Adventure Games  adventure-games   \n",
       "2  2024-04-29T03:05:00.575Z  Adventure Games  adventure-games   \n",
       "3  2024-04-29T03:05:18.145Z  Adventure Games  adventure-games   \n",
       "4  2024-04-29T03:04:39.536Z  Adventure Games  adventure-games   \n",
       "\n",
       "   exchange_centralized  exchange_id  \n",
       "0                  True     illuvium  \n",
       "1                  True       aurory  \n",
       "2                  True  bullieverse  \n",
       "3                  True     eldarune  \n",
       "4                  True     mch-coin  \n",
       "\n",
       "[5 rows x 30 columns]"
      ]
     },
     "execution_count": 18,
     "metadata": {},
     "output_type": "execute_result"
    }
   ],
   "source": [
    "df_coins.head(5)"
   ]
  },
  {
   "cell_type": "code",
   "execution_count": 19,
   "metadata": {},
   "outputs": [
    {
     "name": "stdout",
     "output_type": "stream",
     "text": [
      "<class 'pandas.core.frame.DataFrame'>\n",
      "RangeIndex: 8453 entries, 0 to 8452\n",
      "Data columns (total 30 columns):\n",
      " #   Column                            Non-Null Count  Dtype  \n",
      "---  ------                            --------------  -----  \n",
      " 0   id                                8453 non-null   object \n",
      " 1   symbol                            8453 non-null   object \n",
      " 2   name                              8453 non-null   object \n",
      " 3   image                             8453 non-null   object \n",
      " 4   current_price                     8451 non-null   float64\n",
      " 5   market_cap                        8452 non-null   float64\n",
      " 6   market_cap_rank                   4087 non-null   float64\n",
      " 7   fully_diluted_valuation           7800 non-null   float64\n",
      " 8   total_volume                      8452 non-null   float64\n",
      " 9   high_24h                          8050 non-null   float64\n",
      " 10  low_24h                           8050 non-null   float64\n",
      " 11  price_change_24h                  8050 non-null   float64\n",
      " 12  price_change_percentage_24h       8050 non-null   float64\n",
      " 13  market_cap_change_24h             8048 non-null   float64\n",
      " 14  market_cap_change_percentage_24h  8048 non-null   float64\n",
      " 15  circulating_supply                8452 non-null   float64\n",
      " 16  total_supply                      7906 non-null   float64\n",
      " 17  max_supply                        6010 non-null   float64\n",
      " 18  ath                               8449 non-null   float64\n",
      " 19  ath_change_percentage             8453 non-null   float64\n",
      " 20  ath_date                          8449 non-null   object \n",
      " 21  atl                               8449 non-null   float64\n",
      " 22  atl_change_percentage             8453 non-null   float64\n",
      " 23  atl_date                          8449 non-null   object \n",
      " 24  roi                               275 non-null    object \n",
      " 25  last_updated                      8452 non-null   object \n",
      " 26  category                          8453 non-null   object \n",
      " 27  category_id                       8453 non-null   object \n",
      " 28  exchange_centralized              8453 non-null   bool   \n",
      " 29  exchange_id                       8453 non-null   object \n",
      "dtypes: bool(1), float64(18), object(11)\n",
      "memory usage: 1.9+ MB\n"
     ]
    }
   ],
   "source": [
    "df_coins.info()"
   ]
  },
  {
   "cell_type": "code",
   "execution_count": 20,
   "metadata": {},
   "outputs": [
    {
     "data": {
      "text/plain": [
       "(4446, 4007)"
      ]
     },
     "execution_count": 20,
     "metadata": {},
     "output_type": "execute_result"
    }
   ],
   "source": [
    "# Cuantas monedas de exchanges centralizados y decentralizados\n",
    "df_coins[df_coins[\"exchange_centralized\"] == True].shape[0], df_coins[df_coins[\"exchange_centralized\"] == False].shape[0]"
   ]
  },
  {
   "cell_type": "markdown",
   "metadata": {},
   "source": [
    "## Casos especiales"
   ]
  },
  {
   "cell_type": "markdown",
   "metadata": {},
   "source": [
    "```json\n",
    "{\n",
    "\t\"id\": \"mother-of-memes-2\",\n",
    "\t\"symbol\": \"haha\",\n",
    "\t\"name\": \"Mother of Memes\",\n",
    "\t\"image\": \"https://assets.coingecko.com/coins/images/36245/large/HAHA_Logo.png?1710921482\",\n",
    "\t\"current_price\": null,\n",
    "\t\"market_cap\": null,\n",
    "\t\"market_cap_rank\": null,\n",
    "\t\"fully_diluted_valuation\": null,\n",
    "\t\"total_volume\": 0.0,\n",
    "\t\"high_24h\": null,\n",
    "\t\"low_24h\": null,\n",
    "\t\"price_change_24h\": null,\n",
    "\t\"price_change_percentage_24h\": null,\n",
    "\t\"market_cap_change_24h\": null,\n",
    "\t\"market_cap_change_percentage_24h\": null,\n",
    "\t\"circulating_supply\": null,\n",
    "\t\"total_supply\": 100000000000000.0,\n",
    "\t\"max_supply\": 100000000000000.0,\n",
    "\t\"ath\": null,\n",
    "\t\"ath_change_percentage\": 0.0,\n",
    "\t\"ath_date\": null,\n",
    "\t\"atl\": null,\n",
    "\t\"atl_change_percentage\": 0.0,\n",
    "\t\"atl_date\": null,\n",
    "\t\"roi\": null,\n",
    "\t\"last_updated\": \"2024-04-29T03:03:26.289Z\",\n",
    "\t\"category\": \"Meme\",\n",
    "\t\"category_id\": \"meme-token\"\n",
    "}\n",
    "```"
   ]
  },
  {
   "cell_type": "code",
   "execution_count": 21,
   "metadata": {},
   "outputs": [
    {
     "data": {
      "text/plain": [
       "[('current_price', 2),\n",
       " ('market_cap', 1),\n",
       " ('market_cap_rank', 4366),\n",
       " ('fully_diluted_valuation', 653),\n",
       " ('total_volume', 1),\n",
       " ('high_24h', 403),\n",
       " ('low_24h', 403),\n",
       " ('price_change_24h', 403),\n",
       " ('price_change_percentage_24h', 403),\n",
       " ('market_cap_change_24h', 405),\n",
       " ('market_cap_change_percentage_24h', 405),\n",
       " ('circulating_supply', 1),\n",
       " ('total_supply', 547),\n",
       " ('max_supply', 2443),\n",
       " ('ath', 4),\n",
       " ('ath_date', 4),\n",
       " ('atl', 4),\n",
       " ('atl_date', 4),\n",
       " ('roi', 8178),\n",
       " ('last_updated', 1)]"
      ]
     },
     "execution_count": 21,
     "metadata": {},
     "output_type": "execute_result"
    }
   ],
   "source": [
    "find_columns_with_nulls(df_coins)"
   ]
  }
 ],
 "metadata": {
  "kernelspec": {
   "display_name": ".env",
   "language": "python",
   "name": "python3"
  },
  "language_info": {
   "codemirror_mode": {
    "name": "ipython",
    "version": 3
   },
   "file_extension": ".py",
   "mimetype": "text/x-python",
   "name": "python",
   "nbconvert_exporter": "python",
   "pygments_lexer": "ipython3",
   "version": "3.12.2"
  }
 },
 "nbformat": 4,
 "nbformat_minor": 2
}
