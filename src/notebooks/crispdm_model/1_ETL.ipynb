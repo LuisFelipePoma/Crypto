{
 "cells": [
  {
   "cell_type": "markdown",
   "metadata": {},
   "source": [
    "# ETL (Extract Transform Load)\n",
    "\n",
    "Aqui vamos a ***extraer*** los datos de la api de `Messari API` para obtener series de tiempo de precios de criptomonedas y luego ***transformar*** esos datos en un formato que sea útil para el análisis. Finalmente, ***cargar*** esos datos en un archivo `json` para su posterior análisis."
   ]
  },
  {
   "cell_type": "markdown",
   "metadata": {},
   "source": [
    "## Importamos las librerias"
   ]
  },
  {
   "cell_type": "code",
   "execution_count": 3,
   "metadata": {},
   "outputs": [],
   "source": [
    "from _utils import *"
   ]
  },
  {
   "cell_type": "markdown",
   "metadata": {},
   "source": [
    "## Usamos la `API` de **Messari** para obtener data en intervalos de tiempo de los halvings"
   ]
  },
  {
   "cell_type": "markdown",
   "metadata": {},
   "source": [
    "Obtenemos las monedas mediante un endpoint del plan gratuito"
   ]
  },
  {
   "cell_type": "code",
   "execution_count": 4,
   "metadata": {},
   "outputs": [],
   "source": [
    "coins_list = fetch_data(api=APIS.MESSARI,uri=\"marketdata/v1/assets/ath\", parameters={})"
   ]
  },
  {
   "cell_type": "code",
   "execution_count": 5,
   "metadata": {},
   "outputs": [],
   "source": [
    "coins_list = coins_list[\"data\"]"
   ]
  },
  {
   "cell_type": "code",
   "execution_count": 6,
   "metadata": {},
   "outputs": [
    {
     "data": {
      "text/plain": [
       "15471"
      ]
     },
     "execution_count": 6,
     "metadata": {},
     "output_type": "execute_result"
    }
   ],
   "source": [
    "len(coins_list)"
   ]
  },
  {
   "cell_type": "markdown",
   "metadata": {},
   "source": [
    "Tambien cargamos el dataset de `coins_info` para utilizar la informacion del `market_cap`, esta info ya esta limpia(notebook `eda_coins_exchanges/2_clean_dataset.ipynb`) por lo que solo se encuentran monedas con `market_cap` mayores a `0.0` y no nulos "
   ]
  },
  {
   "cell_type": "code",
   "execution_count": 7,
   "metadata": {},
   "outputs": [],
   "source": [
    "coins_info = read_json(\"../../datasets/json/coins.json\")"
   ]
  },
  {
   "cell_type": "code",
   "execution_count": 8,
   "metadata": {},
   "outputs": [
    {
     "data": {
      "text/plain": [
       "7862"
      ]
     },
     "execution_count": 8,
     "metadata": {},
     "output_type": "execute_result"
    }
   ],
   "source": [
    "len(coins_info)"
   ]
  },
  {
   "cell_type": "markdown",
   "metadata": {},
   "source": [
    "Ahora obtenemos los names en base a `low_cap_coins` y `high_cap_coins` para filtrar `coins_list`"
   ]
  },
  {
   "cell_type": "code",
   "execution_count": 9,
   "metadata": {},
   "outputs": [
    {
     "data": {
      "text/plain": [
       "3391"
      ]
     },
     "execution_count": 9,
     "metadata": {},
     "output_type": "execute_result"
    }
   ],
   "source": [
    "# Creamos el set para los `names` \n",
    "coins_info_names = set()\n",
    "list(map(lambda x: coins_info_names.add(x[\"name\"]), coins_info))\n",
    "# Obtenemos el tamaño \n",
    "len(coins_info_names)"
   ]
  },
  {
   "cell_type": "markdown",
   "metadata": {},
   "source": [
    "Ahora que tenemos `low_coins_info_names` y `high_coins_info_names` podemos filtrar `coins_list` para obtener `low_coins_list` y `high_coins_list`"
   ]
  },
  {
   "cell_type": "code",
   "execution_count": 10,
   "metadata": {},
   "outputs": [
    {
     "data": {
      "text/plain": [
       "2130"
      ]
     },
     "execution_count": 10,
     "metadata": {},
     "output_type": "execute_result"
    }
   ],
   "source": [
    "coins = list(filter(lambda x: x[\"name\"] in coins_info_names, coins_list))\n",
    "len(coins)"
   ]
  },
  {
   "cell_type": "markdown",
   "metadata": {},
   "source": [
    "Usamos el endpoint `marketdata/v1/assets/{assetId}/price/time-series` para obtener la datafr los 4 halvings"
   ]
  },
  {
   "cell_type": "code",
   "execution_count": 11,
   "metadata": {},
   "outputs": [],
   "source": [
    "def get_marketdata_per_halving(days:int, interval:str, coins: list)->dict[str,list]:\n",
    "    halving_data: dict[str,list] = {}\n",
    "    for halving in HALVINGS_DATE:\n",
    "        print(f\"halving {halving} \")\n",
    "        halving_data[halving] = [] \n",
    "        start_timestamp, end_timestamp = get_start_end_timestamps(halving, days)\n",
    "        print(f\"star: {start_timestamp}, end: {end_timestamp}\")\n",
    "        for coin in coins:\n",
    "            new_coin = coin.copy()\n",
    "            endpoint = f\"marketdata/v1/assets/{coin[\"id\"]}/price/time-series?interval={interval}&startTime={start_timestamp}&endTime={end_timestamp}\"\n",
    "            response = fetch_data(APIS.MESSARI, endpoint, parameters={})\n",
    "            new_coin[\"halving\"] = response[\"data\"]\n",
    "            halving_data[halving].append(new_coin)\n",
    "    return halving_data"
   ]
  },
  {
   "cell_type": "code",
   "execution_count": 10,
   "metadata": {},
   "outputs": [
    {
     "name": "stdout",
     "output_type": "stream",
     "text": [
      "halving 2/12/2012 \n",
      "star: 1354424400, end: 1385528400\n",
      "halving 2/07/2016 \n",
      "star: 1467435600, end: 1498539600\n",
      "halving 3/05/2020 \n",
      "star: 1588482000, end: 1619586000\n",
      "halving 20/04/2024 \n",
      "star: 1713589200, end: 1744693200\n"
     ]
    }
   ],
   "source": [
    "DAYS_INTERVAL = 360\n",
    "halving_data: dict[str,list] = get_marketdata_per_halving(DAYS_INTERVAL, \"1d\", coins)\n",
    "save_json(halving_data, \"./metadata/halving.json\")\n",
    "del halving_data"
   ]
  },
  {
   "cell_type": "markdown",
   "metadata": {},
   "source": [
    "Ahora obtenemos la data por año para tener mayor informacion"
   ]
  },
  {
   "cell_type": "code",
   "execution_count": 32,
   "metadata": {},
   "outputs": [],
   "source": [
    "def get_marketdata_per_year(start_date:str,n_years:int,interval:str, coins: list)->None:\n",
    "    year = start_date\n",
    "    for _ in range(n_years):\n",
    "        print(f\"retrieving -> {year} \")\n",
    "        marketdata = [] \n",
    "        start_timestamp, end_timestamp = get_start_end_timestamps(year, 360)\n",
    "        print(f\"star: {start_timestamp}, end: {end_timestamp}\")\n",
    "        for coin in coins:\n",
    "            new_coin = coin.copy()\n",
    "            endpoint = f\"marketdata/v1/assets/{coin[\"id\"]}/price/time-series?interval={interval}&startTime={start_timestamp}&endTime={end_timestamp}\"\n",
    "            response = fetch_data(APIS.MESSARI, endpoint, parameters={})\n",
    "            new_coin[\"halving\"] = response[\"data\"]\n",
    "            marketdata.append(new_coin)\n",
    "        save_json(marketdata, f\"./metadata/market_data_{year[6:]}.json\")\n",
    "        # plust date 360 days\n",
    "        next_year: datetime = get_datetime(year)\n",
    "        # add X days to the date\n",
    "        next_year: datetime = next_year + timedelta(days=360)\n",
    "        # to str\n",
    "        year = next_year.strftime(\"%d/%m/%Y\")"
   ]
  },
  {
   "cell_type": "code",
   "execution_count": 31,
   "metadata": {},
   "outputs": [
    {
     "name": "stdout",
     "output_type": "stream",
     "text": [
      "retrieving -> 11/10/2022 \n",
      "star: 1665464400, end: 1696568400\n",
      "retrieving -> 06/10/2023 \n",
      "star: 1696568400, end: 1727672400\n",
      "retrieving -> 30/09/2024 \n",
      "star: 1727672400, end: 1758776400\n"
     ]
    }
   ],
   "source": [
    "get_marketdata_per_year(\"02/12/2012\", 13,\"1d\", coins)"
   ]
  }
 ],
 "metadata": {
  "kernelspec": {
   "display_name": ".env",
   "language": "python",
   "name": "python3"
  },
  "language_info": {
   "codemirror_mode": {
    "name": "ipython",
    "version": 3
   },
   "file_extension": ".py",
   "mimetype": "text/x-python",
   "name": "python",
   "nbconvert_exporter": "python",
   "pygments_lexer": "ipython3",
   "version": "3.12.2"
  }
 },
 "nbformat": 4,
 "nbformat_minor": 2
}
