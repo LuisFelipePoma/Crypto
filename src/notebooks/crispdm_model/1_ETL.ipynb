{
 "cells": [
  {
   "cell_type": "markdown",
   "metadata": {},
   "source": [
    "# Importamos las librerias"
   ]
  },
  {
   "cell_type": "code",
   "execution_count": 8,
   "metadata": {},
   "outputs": [],
   "source": [
    "from _utils import *"
   ]
  },
  {
   "cell_type": "markdown",
   "metadata": {},
   "source": [
    "# Usamos la `API` de **Messari** para obtener data en intervalos de tiempo de los halvings"
   ]
  },
  {
   "cell_type": "markdown",
   "metadata": {},
   "source": [
    "Obtenemos las monedas mediante un endpoint del plan gratuito"
   ]
  },
  {
   "cell_type": "code",
   "execution_count": 9,
   "metadata": {},
   "outputs": [],
   "source": [
    "coins_list = fetch_data(api=APIS.MESSARI,uri=\"marketdata/v1/assets/ath\", parameters={})"
   ]
  },
  {
   "cell_type": "code",
   "execution_count": 10,
   "metadata": {},
   "outputs": [],
   "source": [
    "coins_list = coins_list[\"data\"]"
   ]
  },
  {
   "cell_type": "code",
   "execution_count": 11,
   "metadata": {},
   "outputs": [
    {
     "data": {
      "text/plain": [
       "15449"
      ]
     },
     "execution_count": 11,
     "metadata": {},
     "output_type": "execute_result"
    }
   ],
   "source": [
    "len(coins_list)"
   ]
  },
  {
   "cell_type": "markdown",
   "metadata": {},
   "source": [
    "Tambien cargamos el dataset de `coins_info` para utilizar la informacion del `market_cap`, esta info ya esta limpia por lo que solo se encuentran monedas con `market_cap` mayores a `0.0` y no nulos "
   ]
  },
  {
   "cell_type": "code",
   "execution_count": 13,
   "metadata": {},
   "outputs": [],
   "source": [
    "coins_info = read_json(\"../../datasets/json/coins.json\")"
   ]
  },
  {
   "cell_type": "code",
   "execution_count": 14,
   "metadata": {},
   "outputs": [
    {
     "data": {
      "text/plain": [
       "7862"
      ]
     },
     "execution_count": 14,
     "metadata": {},
     "output_type": "execute_result"
    }
   ],
   "source": [
    "len(coins_info)"
   ]
  },
  {
   "cell_type": "markdown",
   "metadata": {},
   "source": [
    "Ahora filtramos los `coins_info` en base al `market_cap`"
   ]
  },
  {
   "cell_type": "code",
   "execution_count": 15,
   "metadata": {},
   "outputs": [
    {
     "data": {
      "text/plain": [
       "(4117, 3745)"
      ]
     },
     "execution_count": 15,
     "metadata": {},
     "output_type": "execute_result"
    }
   ],
   "source": [
    "MARKET_CAP = 7_000_000 # Limite de market_cap en dolares\n",
    "\n",
    "# Filtramos las monedas que no son mayores a X de market cap\n",
    "low_cap_coins = list(\n",
    "    filter(\n",
    "        lambda x: x[\"market_cap\"] <= MARKET_CAP, coins_info\n",
    "    )\n",
    ")\n",
    "# Filtramos las monedas que son mayores a X de market cap\n",
    "high_cap_coins = list(\n",
    "    filter(\n",
    "        lambda x: x[\"market_cap\"] >= MARKET_CAP, coins_info\n",
    "    )\n",
    ")\n",
    "# Observamos cuantas monedas hay en cada grupo\n",
    "len(low_cap_coins), len(high_cap_coins)"
   ]
  },
  {
   "cell_type": "markdown",
   "metadata": {},
   "source": [
    "Observamos el `max_cap` de `low_cap_coins` y lo comparamos con el `max_cap` de `high_cap_coins`"
   ]
  },
  {
   "cell_type": "code",
   "execution_count": 16,
   "metadata": {},
   "outputs": [
    {
     "data": {
      "text/plain": [
       "(6999005, 1368315899533)"
      ]
     },
     "execution_count": 16,
     "metadata": {},
     "output_type": "execute_result"
    }
   ],
   "source": [
    "max([x[\"market_cap\"] for x in low_cap_coins]),max([x[\"market_cap\"] for x in high_cap_coins])"
   ]
  },
  {
   "cell_type": "markdown",
   "metadata": {},
   "source": [
    "Ahora obtenemos los names en base a `low_cap_coins` y `high_cap_coins` para filtrar `coins_list`"
   ]
  },
  {
   "cell_type": "code",
   "execution_count": 17,
   "metadata": {},
   "outputs": [
    {
     "data": {
      "text/plain": [
       "(1847, 1547)"
      ]
     },
     "execution_count": 17,
     "metadata": {},
     "output_type": "execute_result"
    }
   ],
   "source": [
    "# Creamos el set para los `names` de low_cap\n",
    "low_coins_info_names = set()\n",
    "list(map(lambda x: low_coins_info_names.add(x[\"name\"]), low_cap_coins))\n",
    "\n",
    "# Creamos el set para los `names` de high_cap\n",
    "high_coins_info_names = set()\n",
    "list(map(lambda x: high_coins_info_names.add(x[\"name\"]), high_cap_coins))\n",
    "\n",
    "# Obtenemos el tamaño de cada set\n",
    "len(low_coins_info_names), len(high_coins_info_names)"
   ]
  },
  {
   "cell_type": "markdown",
   "metadata": {},
   "source": [
    "Ahora que tenemos `low_coins_info_names` y `high_coins_info_names` podemos filtrar `coins_list` para obtener `low_coins_list` y `high_coins_list`"
   ]
  },
  {
   "cell_type": "code",
   "execution_count": 18,
   "metadata": {},
   "outputs": [
    {
     "data": {
      "text/plain": [
       "1099"
      ]
     },
     "execution_count": 18,
     "metadata": {},
     "output_type": "execute_result"
    }
   ],
   "source": [
    "low_coins = list(filter(lambda x: x[\"name\"] in low_coins_info_names, coins_list))\n",
    "len(low_coins)"
   ]
  },
  {
   "cell_type": "code",
   "execution_count": 19,
   "metadata": {},
   "outputs": [
    {
     "data": {
      "text/plain": [
       "1030"
      ]
     },
     "execution_count": 19,
     "metadata": {},
     "output_type": "execute_result"
    }
   ],
   "source": [
    "high_coins = list(filter(lambda x: x[\"name\"] in high_coins_info_names, coins_list))\n",
    "len(high_coins)"
   ]
  },
  {
   "cell_type": "markdown",
   "metadata": {},
   "source": [
    "Usamos el endpoint `marketdata/v1/assets/{assetId}/price/time-series` para obtener la data"
   ]
  },
  {
   "cell_type": "code",
   "execution_count": 21,
   "metadata": {},
   "outputs": [],
   "source": [
    "def get_marketdata_per_halving(days:int, interval:str, coins: list)->dict[str,list]:\n",
    "    halving_data: dict[str,list] = {}\n",
    "    for halving in HALVINGS_DATE:\n",
    "        print(f\"halving {halving.value} \")\n",
    "        halving_data[halving.value] = [] \n",
    "        start_timestamp, end_timestamp = get_start_end_timestamps(halving.value, days)\n",
    "        print(f\"star: {start_timestamp}, end: {end_timestamp}\")\n",
    "        for coin in coins:\n",
    "            endpoint = f\"marketdata/v1/assets/{coin[\"id\"]}/price/time-series?interval={interval}&startTime={start_timestamp}&endTime={end_timestamp}\"\n",
    "            response = fetch_data(APIS.MESSARI, endpoint, parameters={})\n",
    "            coin[\"halving\"] = response[\"data\"]\n",
    "            halving_data[halving.value].append(coin)\n",
    "            time.sleep(0.8)\n",
    "    return halving_data"
   ]
  },
  {
   "cell_type": "code",
   "execution_count": 23,
   "metadata": {},
   "outputs": [
    {
     "name": "stdout",
     "output_type": "stream",
     "text": [
      "halving 2/12/2012 \n",
      "star: 1354424400, end: 1376024400\n",
      "halving 2/07/2016 \n",
      "star: 1467435600, end: 1489035600\n",
      "halving 3/05/2020 \n",
      "star: 1588482000, end: 1610082000\n",
      "halving 20/04/2024 \n",
      "star: 1713589200, end: 1735189200\n",
      "halving 2/12/2012 \n",
      "star: 1354424400, end: 1376024400\n",
      "halving 2/07/2016 \n",
      "star: 1467435600, end: 1489035600\n",
      "halving 3/05/2020 \n",
      "star: 1588482000, end: 1610082000\n",
      "halving 20/04/2024 \n",
      "star: 1713589200, end: 1735189200\n"
     ]
    }
   ],
   "source": [
    "halving_data: dict[str,list] = get_marketdata_per_halving(DAYS_INTERVAL, \"1d\", low_coins)\n",
    "save_json(halving_data, \"./metadata/low_halving.json\")\n",
    "halving_data = get_marketdata_per_halving(DAYS_INTERVAL, \"1d\", high_coins)\n",
    "save_json(halving_data, \"./metadata/high_halving.json\")"
   ]
  }
 ],
 "metadata": {
  "kernelspec": {
   "display_name": ".env",
   "language": "python",
   "name": "python3"
  },
  "language_info": {
   "codemirror_mode": {
    "name": "ipython",
    "version": 3
   },
   "file_extension": ".py",
   "mimetype": "text/x-python",
   "name": "python",
   "nbconvert_exporter": "python",
   "pygments_lexer": "ipython3",
   "version": "3.12.2"
  }
 },
 "nbformat": 4,
 "nbformat_minor": 2
}
