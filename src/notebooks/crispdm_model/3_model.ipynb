{
 "cells": [
  {
   "cell_type": "markdown",
   "metadata": {},
   "source": [
    "# MODEL "
   ]
  },
  {
   "cell_type": "markdown",
   "metadata": {},
   "source": [
    "Cargamos las librerias necesarias"
   ]
  },
  {
   "cell_type": "code",
   "execution_count": 61,
   "metadata": {},
   "outputs": [],
   "source": [
    "from _utils import *\n",
    "import pandas as pd"
   ]
  },
  {
   "cell_type": "markdown",
   "metadata": {},
   "source": [
    "## Cargamos la data"
   ]
  },
  {
   "cell_type": "code",
   "execution_count": 62,
   "metadata": {},
   "outputs": [],
   "source": [
    "df_1 = pd.read_json(\"./datasets/1_halving.json\")\n",
    "df_2 = pd.read_json(\"./datasets/2_halving.json\")\n",
    "df_3 = pd.read_json(\"./datasets/3_halving.json\")\n",
    "df_4 = pd.read_json(\"./datasets/4_halving.json\")"
   ]
  },
  {
   "cell_type": "markdown",
   "metadata": {},
   "source": [
    "## Preparamos la data"
   ]
  },
  {
   "cell_type": "code",
   "execution_count": 63,
   "metadata": {},
   "outputs": [],
   "source": [
    "def get_series_by_coin(coin: str, df: pd.DataFrame):\n",
    "    new_df = df.where(df[\"name\"] == coin).dropna()\n",
    "    return new_df"
   ]
  },
  {
   "cell_type": "code",
   "execution_count": 64,
   "metadata": {},
   "outputs": [],
   "source": [
    "dataset = pd.concat([df_1,df_2,df_3,df_4])"
   ]
  },
  {
   "cell_type": "code",
   "execution_count": 65,
   "metadata": {},
   "outputs": [
    {
     "data": {
      "text/html": [
       "<div>\n",
       "<style scoped>\n",
       "    .dataframe tbody tr th:only-of-type {\n",
       "        vertical-align: middle;\n",
       "    }\n",
       "\n",
       "    .dataframe tbody tr th {\n",
       "        vertical-align: top;\n",
       "    }\n",
       "\n",
       "    .dataframe thead th {\n",
       "        text-align: right;\n",
       "    }\n",
       "</style>\n",
       "<table border=\"1\" class=\"dataframe\">\n",
       "  <thead>\n",
       "    <tr style=\"text-align: right;\">\n",
       "      <th></th>\n",
       "      <th>id</th>\n",
       "      <th>serialId</th>\n",
       "      <th>symbol</th>\n",
       "      <th>name</th>\n",
       "      <th>slug</th>\n",
       "      <th>open</th>\n",
       "      <th>high</th>\n",
       "      <th>low</th>\n",
       "      <th>close</th>\n",
       "      <th>volume</th>\n",
       "    </tr>\n",
       "    <tr>\n",
       "      <th>datetime</th>\n",
       "      <th></th>\n",
       "      <th></th>\n",
       "      <th></th>\n",
       "      <th></th>\n",
       "      <th></th>\n",
       "      <th></th>\n",
       "      <th></th>\n",
       "      <th></th>\n",
       "      <th></th>\n",
       "      <th></th>\n",
       "    </tr>\n",
       "  </thead>\n",
       "  <tbody>\n",
       "    <tr>\n",
       "      <th>2012-12-01 19:00:00</th>\n",
       "      <td>1e31218a-e44e-4285-820c-8282ee222035</td>\n",
       "      <td>6057.0</td>\n",
       "      <td>BTC</td>\n",
       "      <td>Bitcoin</td>\n",
       "      <td>bitcoin</td>\n",
       "      <td>12.665000</td>\n",
       "      <td>12.679990</td>\n",
       "      <td>12.261722</td>\n",
       "      <td>12.500020</td>\n",
       "      <td>1.966736e+05</td>\n",
       "    </tr>\n",
       "    <tr>\n",
       "      <th>2012-12-02 19:00:00</th>\n",
       "      <td>1e31218a-e44e-4285-820c-8282ee222035</td>\n",
       "      <td>6057.0</td>\n",
       "      <td>BTC</td>\n",
       "      <td>Bitcoin</td>\n",
       "      <td>bitcoin</td>\n",
       "      <td>12.490810</td>\n",
       "      <td>12.678990</td>\n",
       "      <td>12.320000</td>\n",
       "      <td>12.678990</td>\n",
       "      <td>3.983061e+05</td>\n",
       "    </tr>\n",
       "    <tr>\n",
       "      <th>2012-12-03 19:00:00</th>\n",
       "      <td>1e31218a-e44e-4285-820c-8282ee222035</td>\n",
       "      <td>6057.0</td>\n",
       "      <td>BTC</td>\n",
       "      <td>Bitcoin</td>\n",
       "      <td>bitcoin</td>\n",
       "      <td>12.678990</td>\n",
       "      <td>13.499263</td>\n",
       "      <td>12.433030</td>\n",
       "      <td>13.409927</td>\n",
       "      <td>8.839310e+05</td>\n",
       "    </tr>\n",
       "    <tr>\n",
       "      <th>2012-12-04 19:00:00</th>\n",
       "      <td>1e31218a-e44e-4285-820c-8282ee222035</td>\n",
       "      <td>6057.0</td>\n",
       "      <td>BTC</td>\n",
       "      <td>Bitcoin</td>\n",
       "      <td>bitcoin</td>\n",
       "      <td>13.400557</td>\n",
       "      <td>13.420000</td>\n",
       "      <td>12.700000</td>\n",
       "      <td>13.375447</td>\n",
       "      <td>4.366438e+05</td>\n",
       "    </tr>\n",
       "    <tr>\n",
       "      <th>2012-12-05 19:00:00</th>\n",
       "      <td>1e31218a-e44e-4285-820c-8282ee222035</td>\n",
       "      <td>6057.0</td>\n",
       "      <td>BTC</td>\n",
       "      <td>Bitcoin</td>\n",
       "      <td>bitcoin</td>\n",
       "      <td>13.300010</td>\n",
       "      <td>13.688800</td>\n",
       "      <td>12.908408</td>\n",
       "      <td>13.232808</td>\n",
       "      <td>6.775296e+05</td>\n",
       "    </tr>\n",
       "    <tr>\n",
       "      <th>...</th>\n",
       "      <td>...</td>\n",
       "      <td>...</td>\n",
       "      <td>...</td>\n",
       "      <td>...</td>\n",
       "      <td>...</td>\n",
       "      <td>...</td>\n",
       "      <td>...</td>\n",
       "      <td>...</td>\n",
       "      <td>...</td>\n",
       "      <td>...</td>\n",
       "    </tr>\n",
       "    <tr>\n",
       "      <th>2024-06-03 19:00:00</th>\n",
       "      <td>1e31218a-e44e-4285-820c-8282ee222035</td>\n",
       "      <td>6057.0</td>\n",
       "      <td>BTC</td>\n",
       "      <td>Bitcoin</td>\n",
       "      <td>bitcoin</td>\n",
       "      <td>68797.103953</td>\n",
       "      <td>71043.410229</td>\n",
       "      <td>68558.999100</td>\n",
       "      <td>70544.378768</td>\n",
       "      <td>1.920820e+10</td>\n",
       "    </tr>\n",
       "    <tr>\n",
       "      <th>2024-06-04 19:00:00</th>\n",
       "      <td>1e31218a-e44e-4285-820c-8282ee222035</td>\n",
       "      <td>6057.0</td>\n",
       "      <td>BTC</td>\n",
       "      <td>Bitcoin</td>\n",
       "      <td>bitcoin</td>\n",
       "      <td>70546.222290</td>\n",
       "      <td>71740.526715</td>\n",
       "      <td>70391.398455</td>\n",
       "      <td>71106.456344</td>\n",
       "      <td>1.960925e+10</td>\n",
       "    </tr>\n",
       "    <tr>\n",
       "      <th>2024-06-05 19:00:00</th>\n",
       "      <td>1e31218a-e44e-4285-820c-8282ee222035</td>\n",
       "      <td>6057.0</td>\n",
       "      <td>BTC</td>\n",
       "      <td>Bitcoin</td>\n",
       "      <td>bitcoin</td>\n",
       "      <td>71097.537698</td>\n",
       "      <td>71608.150190</td>\n",
       "      <td>70183.051691</td>\n",
       "      <td>70772.259202</td>\n",
       "      <td>1.498466e+10</td>\n",
       "    </tr>\n",
       "    <tr>\n",
       "      <th>2024-06-06 19:00:00</th>\n",
       "      <td>1e31218a-e44e-4285-820c-8282ee222035</td>\n",
       "      <td>6057.0</td>\n",
       "      <td>BTC</td>\n",
       "      <td>Bitcoin</td>\n",
       "      <td>bitcoin</td>\n",
       "      <td>70772.034120</td>\n",
       "      <td>71923.585995</td>\n",
       "      <td>68582.338502</td>\n",
       "      <td>69335.019537</td>\n",
       "      <td>2.227691e+10</td>\n",
       "    </tr>\n",
       "    <tr>\n",
       "      <th>2024-06-07 19:00:00</th>\n",
       "      <td>1e31218a-e44e-4285-820c-8282ee222035</td>\n",
       "      <td>6057.0</td>\n",
       "      <td>BTC</td>\n",
       "      <td>Bitcoin</td>\n",
       "      <td>bitcoin</td>\n",
       "      <td>69375.812486</td>\n",
       "      <td>69560.980696</td>\n",
       "      <td>69214.268161</td>\n",
       "      <td>69443.766519</td>\n",
       "      <td>6.717644e+09</td>\n",
       "    </tr>\n",
       "  </tbody>\n",
       "</table>\n",
       "<p>803 rows × 10 columns</p>\n",
       "</div>"
      ],
      "text/plain": [
       "                                                       id  serialId symbol  \\\n",
       "datetime                                                                     \n",
       "2012-12-01 19:00:00  1e31218a-e44e-4285-820c-8282ee222035    6057.0    BTC   \n",
       "2012-12-02 19:00:00  1e31218a-e44e-4285-820c-8282ee222035    6057.0    BTC   \n",
       "2012-12-03 19:00:00  1e31218a-e44e-4285-820c-8282ee222035    6057.0    BTC   \n",
       "2012-12-04 19:00:00  1e31218a-e44e-4285-820c-8282ee222035    6057.0    BTC   \n",
       "2012-12-05 19:00:00  1e31218a-e44e-4285-820c-8282ee222035    6057.0    BTC   \n",
       "...                                                   ...       ...    ...   \n",
       "2024-06-03 19:00:00  1e31218a-e44e-4285-820c-8282ee222035    6057.0    BTC   \n",
       "2024-06-04 19:00:00  1e31218a-e44e-4285-820c-8282ee222035    6057.0    BTC   \n",
       "2024-06-05 19:00:00  1e31218a-e44e-4285-820c-8282ee222035    6057.0    BTC   \n",
       "2024-06-06 19:00:00  1e31218a-e44e-4285-820c-8282ee222035    6057.0    BTC   \n",
       "2024-06-07 19:00:00  1e31218a-e44e-4285-820c-8282ee222035    6057.0    BTC   \n",
       "\n",
       "                        name     slug          open          high  \\\n",
       "datetime                                                            \n",
       "2012-12-01 19:00:00  Bitcoin  bitcoin     12.665000     12.679990   \n",
       "2012-12-02 19:00:00  Bitcoin  bitcoin     12.490810     12.678990   \n",
       "2012-12-03 19:00:00  Bitcoin  bitcoin     12.678990     13.499263   \n",
       "2012-12-04 19:00:00  Bitcoin  bitcoin     13.400557     13.420000   \n",
       "2012-12-05 19:00:00  Bitcoin  bitcoin     13.300010     13.688800   \n",
       "...                      ...      ...           ...           ...   \n",
       "2024-06-03 19:00:00  Bitcoin  bitcoin  68797.103953  71043.410229   \n",
       "2024-06-04 19:00:00  Bitcoin  bitcoin  70546.222290  71740.526715   \n",
       "2024-06-05 19:00:00  Bitcoin  bitcoin  71097.537698  71608.150190   \n",
       "2024-06-06 19:00:00  Bitcoin  bitcoin  70772.034120  71923.585995   \n",
       "2024-06-07 19:00:00  Bitcoin  bitcoin  69375.812486  69560.980696   \n",
       "\n",
       "                              low         close        volume  \n",
       "datetime                                                       \n",
       "2012-12-01 19:00:00     12.261722     12.500020  1.966736e+05  \n",
       "2012-12-02 19:00:00     12.320000     12.678990  3.983061e+05  \n",
       "2012-12-03 19:00:00     12.433030     13.409927  8.839310e+05  \n",
       "2012-12-04 19:00:00     12.700000     13.375447  4.366438e+05  \n",
       "2012-12-05 19:00:00     12.908408     13.232808  6.775296e+05  \n",
       "...                           ...           ...           ...  \n",
       "2024-06-03 19:00:00  68558.999100  70544.378768  1.920820e+10  \n",
       "2024-06-04 19:00:00  70391.398455  71106.456344  1.960925e+10  \n",
       "2024-06-05 19:00:00  70183.051691  70772.259202  1.498466e+10  \n",
       "2024-06-06 19:00:00  68582.338502  69335.019537  2.227691e+10  \n",
       "2024-06-07 19:00:00  69214.268161  69443.766519  6.717644e+09  \n",
       "\n",
       "[803 rows x 10 columns]"
      ]
     },
     "execution_count": 65,
     "metadata": {},
     "output_type": "execute_result"
    }
   ],
   "source": [
    "df_bitcoin = get_series_by_coin(\"Bitcoin\",dataset)\n",
    "df_bitcoin.set_index(\"datetime\", inplace=True)\n",
    "df_bitcoin = df_bitcoin.sort_index()\n",
    "df_bitcoin"
   ]
  },
  {
   "cell_type": "code",
   "execution_count": 66,
   "metadata": {},
   "outputs": [
    {
     "name": "stdout",
     "output_type": "stream",
     "text": [
      "['volume', 'close', 'low', 'high', 'open']\n"
     ]
    }
   ],
   "source": [
    "#Variables for training\n",
    "cols = list(df_bitcoin)[-1:4:-1]\n",
    "#Date and volume columns are not used in training. \n",
    "print(cols) "
   ]
  },
  {
   "cell_type": "code",
   "execution_count": 67,
   "metadata": {},
   "outputs": [],
   "source": [
    "import numpy as np\n",
    "from tensorflow.keras.models import Sequential\n",
    "from tensorflow.keras.layers import LSTM\n",
    "from tensorflow.keras.layers import Dense, Dropout\n",
    "import pandas as pd\n",
    "from matplotlib import pyplot as plt\n",
    "from sklearn.preprocessing import StandardScaler\n",
    "import seaborn as sns"
   ]
  },
  {
   "cell_type": "code",
   "execution_count": 68,
   "metadata": {},
   "outputs": [
    {
     "data": {
      "text/plain": [
       "<Axes: xlabel='datetime'>"
      ]
     },
     "execution_count": 68,
     "metadata": {},
     "output_type": "execute_result"
    },
    {
     "data": {
      "image/png": "[encoded data removed]",
      "text/plain": [
       "<Figure size 640x480 with 1 Axes>"
      ]
     },
     "metadata": {},
     "output_type": "display_data"
    }
   ],
   "source": [
    "#New dataframe with only training data - 5 columns\n",
    "df_for_training = df_bitcoin[cols].astype(float)\n",
    "\n",
    "df_for_plot=df_for_training.tail(5000)\n",
    "df_for_plot[\"close\"].plot.line()"
   ]
  },
  {
   "cell_type": "code",
   "execution_count": 146,
   "metadata": {},
   "outputs": [
    {
     "data": {
      "text/plain": [
       "[Timestamp('2012-12-01 19:00:00'),\n",
       " Timestamp('2012-12-02 19:00:00'),\n",
       " Timestamp('2012-12-03 19:00:00'),\n",
       " Timestamp('2012-12-04 19:00:00'),\n",
       " Timestamp('2012-12-05 19:00:00')]"
      ]
     },
     "execution_count": 146,
     "metadata": {},
     "output_type": "execute_result"
    }
   ],
   "source": [
    "#Separate dates for future plotting\n",
    "train_dates = pd.to_datetime(df_for_plot.index.values).to_list()\n",
    "train_dates[:5]"
   ]
  },
  {
   "cell_type": "code",
   "execution_count": 108,
   "metadata": {},
   "outputs": [
    {
     "data": {
      "text/plain": [
       "array([[-0.653124  , -0.52504459, -0.52323427, -0.52527078, -0.52421293],\n",
       "       [-0.65309502, -0.52503357, -0.52323059, -0.52527084, -0.52422371],\n",
       "       [-0.65302521, -0.52498855, -0.52322347, -0.52522117, -0.52421207],\n",
       "       ...,\n",
       "       [ 1.50091304,  3.83289765,  3.89860009,  3.81005917,  3.87107945],\n",
       "       [ 2.54918274,  3.74438113,  3.79773064,  3.8291598 ,  3.85095304],\n",
       "       [ 0.31251792,  3.75107862,  3.83755189,  3.68609665,  3.7646224 ]])"
      ]
     },
     "execution_count": 108,
     "metadata": {},
     "output_type": "execute_result"
    }
   ],
   "source": [
    "#LSTM uses sigmoid and tanh that are sensitive to magnitude so values need to be normalized\n",
    "# normalize the dataset\n",
    "scaler = StandardScaler()\n",
    "df_for_training_scaled = scaler.fit_transform(df_for_training)\n",
    "df_for_training_scaled"
   ]
  },
  {
   "cell_type": "code",
   "execution_count": 91,
   "metadata": {},
   "outputs": [
    {
     "name": "stdout",
     "output_type": "stream",
     "text": [
      "trainX shape == (789, 14, 5).\n",
      "trainY shape == (789, 1).\n"
     ]
    }
   ],
   "source": [
    "#Empty lists to be populated using formatted training data\n",
    "trainX = []\n",
    "trainY = []\n",
    "\n",
    "n_future = 1   # Number of days we want to look into the future based on the past days.\n",
    "n_past = 14  # Number of past days we want to use to predict the future.\n",
    "\n",
    "for i in range(n_past, len(df_for_training_scaled) - n_future +1):\n",
    "    trainX.append(df_for_training_scaled[i - n_past:i, 0:df_for_training.shape[1]])\n",
    "    trainY.append(df_for_training_scaled[i + n_future - 1:i + n_future, 0])\n",
    "\n",
    "trainX, trainY = np.array(trainX), np.array(trainY)\n",
    "\n",
    "print('trainX shape == {}.'.format(trainX.shape))\n",
    "print('trainY shape == {}.'.format(trainY.shape))"
   ]
  },
  {
   "cell_type": "code",
   "execution_count": 92,
   "metadata": {},
   "outputs": [
    {
     "name": "stderr",
     "output_type": "stream",
     "text": [
      "d:\\Codes\\Crypto\\.env\\Lib\\site-packages\\keras\\src\\layers\\rnn\\rnn.py:204: UserWarning: Do not pass an `input_shape`/`input_dim` argument to a layer. When using Sequential models, prefer using an `Input(shape)` object as the first layer in the model instead.\n",
      "  super().__init__(**kwargs)\n"
     ]
    },
    {
     "data": {
      "text/html": [
       "<pre style=\"white-space:pre;overflow-x:auto;line-height:normal;font-family:Menlo,'DejaVu Sans Mono',consolas,'Courier New',monospace\"><span style=\"font-weight: bold\">Model: \"sequential_2\"</span>\n",
       "</pre>\n"
      ],
      "text/plain": [
       "\u001b[1mModel: \"sequential_2\"\u001b[0m\n"
      ]
     },
     "metadata": {},
     "output_type": "display_data"
    },
    {
     "data": {
      "text/html": [
       "<pre style=\"white-space:pre;overflow-x:auto;line-height:normal;font-family:Menlo,'DejaVu Sans Mono',consolas,'Courier New',monospace\">┏━━━━━━━━━━━━━━━━━━━━━━━━━━━━━━━━━┳━━━━━━━━━━━━━━━━━━━━━━━━┳━━━━━━━━━━━━━━━┓\n",
       "┃<span style=\"font-weight: bold\"> Layer (type)                    </span>┃<span style=\"font-weight: bold\"> Output Shape           </span>┃<span style=\"font-weight: bold\">       Param # </span>┃\n",
       "┡━━━━━━━━━━━━━━━━━━━━━━━━━━━━━━━━━╇━━━━━━━━━━━━━━━━━━━━━━━━╇━━━━━━━━━━━━━━━┩\n",
       "│ lstm_4 (<span style=\"color: #0087ff; text-decoration-color: #0087ff\">LSTM</span>)                   │ (<span style=\"color: #00d7ff; text-decoration-color: #00d7ff\">None</span>, <span style=\"color: #00af00; text-decoration-color: #00af00\">14</span>, <span style=\"color: #00af00; text-decoration-color: #00af00\">64</span>)         │        <span style=\"color: #00af00; text-decoration-color: #00af00\">17,920</span> │\n",
       "├─────────────────────────────────┼────────────────────────┼───────────────┤\n",
       "│ lstm_5 (<span style=\"color: #0087ff; text-decoration-color: #0087ff\">LSTM</span>)                   │ (<span style=\"color: #00d7ff; text-decoration-color: #00d7ff\">None</span>, <span style=\"color: #00af00; text-decoration-color: #00af00\">32</span>)             │        <span style=\"color: #00af00; text-decoration-color: #00af00\">12,416</span> │\n",
       "├─────────────────────────────────┼────────────────────────┼───────────────┤\n",
       "│ dropout_2 (<span style=\"color: #0087ff; text-decoration-color: #0087ff\">Dropout</span>)             │ (<span style=\"color: #00d7ff; text-decoration-color: #00d7ff\">None</span>, <span style=\"color: #00af00; text-decoration-color: #00af00\">32</span>)             │             <span style=\"color: #00af00; text-decoration-color: #00af00\">0</span> │\n",
       "├─────────────────────────────────┼────────────────────────┼───────────────┤\n",
       "│ dense_2 (<span style=\"color: #0087ff; text-decoration-color: #0087ff\">Dense</span>)                 │ (<span style=\"color: #00d7ff; text-decoration-color: #00d7ff\">None</span>, <span style=\"color: #00af00; text-decoration-color: #00af00\">1</span>)              │            <span style=\"color: #00af00; text-decoration-color: #00af00\">33</span> │\n",
       "└─────────────────────────────────┴────────────────────────┴───────────────┘\n",
       "</pre>\n"
      ],
      "text/plain": [
       "┏━━━━━━━━━━━━━━━━━━━━━━━━━━━━━━━━━┳━━━━━━━━━━━━━━━━━━━━━━━━┳━━━━━━━━━━━━━━━┓\n",
       "┃\u001b[1m \u001b[0m\u001b[1mLayer (type)                   \u001b[0m\u001b[1m \u001b[0m┃\u001b[1m \u001b[0m\u001b[1mOutput Shape          \u001b[0m\u001b[1m \u001b[0m┃\u001b[1m \u001b[0m\u001b[1m      Param #\u001b[0m\u001b[1m \u001b[0m┃\n",
       "┡━━━━━━━━━━━━━━━━━━━━━━━━━━━━━━━━━╇━━━━━━━━━━━━━━━━━━━━━━━━╇━━━━━━━━━━━━━━━┩\n",
       "│ lstm_4 (\u001b[38;5;33mLSTM\u001b[0m)                   │ (\u001b[38;5;45mNone\u001b[0m, \u001b[38;5;34m14\u001b[0m, \u001b[38;5;34m64\u001b[0m)         │        \u001b[38;5;34m17,920\u001b[0m │\n",
       "├─────────────────────────────────┼────────────────────────┼───────────────┤\n",
       "│ lstm_5 (\u001b[38;5;33mLSTM\u001b[0m)                   │ (\u001b[38;5;45mNone\u001b[0m, \u001b[38;5;34m32\u001b[0m)             │        \u001b[38;5;34m12,416\u001b[0m │\n",
       "├─────────────────────────────────┼────────────────────────┼───────────────┤\n",
       "│ dropout_2 (\u001b[38;5;33mDropout\u001b[0m)             │ (\u001b[38;5;45mNone\u001b[0m, \u001b[38;5;34m32\u001b[0m)             │             \u001b[38;5;34m0\u001b[0m │\n",
       "├─────────────────────────────────┼────────────────────────┼───────────────┤\n",
       "│ dense_2 (\u001b[38;5;33mDense\u001b[0m)                 │ (\u001b[38;5;45mNone\u001b[0m, \u001b[38;5;34m1\u001b[0m)              │            \u001b[38;5;34m33\u001b[0m │\n",
       "└─────────────────────────────────┴────────────────────────┴───────────────┘\n"
      ]
     },
     "metadata": {},
     "output_type": "display_data"
    },
    {
     "data": {
      "text/html": [
       "<pre style=\"white-space:pre;overflow-x:auto;line-height:normal;font-family:Menlo,'DejaVu Sans Mono',consolas,'Courier New',monospace\"><span style=\"font-weight: bold\"> Total params: </span><span style=\"color: #00af00; text-decoration-color: #00af00\">30,369</span> (118.63 KB)\n",
       "</pre>\n"
      ],
      "text/plain": [
       "\u001b[1m Total params: \u001b[0m\u001b[38;5;34m30,369\u001b[0m (118.63 KB)\n"
      ]
     },
     "metadata": {},
     "output_type": "display_data"
    },
    {
     "data": {
      "text/html": [
       "<pre style=\"white-space:pre;overflow-x:auto;line-height:normal;font-family:Menlo,'DejaVu Sans Mono',consolas,'Courier New',monospace\"><span style=\"font-weight: bold\"> Trainable params: </span><span style=\"color: #00af00; text-decoration-color: #00af00\">30,369</span> (118.63 KB)\n",
       "</pre>\n"
      ],
      "text/plain": [
       "\u001b[1m Trainable params: \u001b[0m\u001b[38;5;34m30,369\u001b[0m (118.63 KB)\n"
      ]
     },
     "metadata": {},
     "output_type": "display_data"
    },
    {
     "data": {
      "text/html": [
       "<pre style=\"white-space:pre;overflow-x:auto;line-height:normal;font-family:Menlo,'DejaVu Sans Mono',consolas,'Courier New',monospace\"><span style=\"font-weight: bold\"> Non-trainable params: </span><span style=\"color: #00af00; text-decoration-color: #00af00\">0</span> (0.00 B)\n",
       "</pre>\n"
      ],
      "text/plain": [
       "\u001b[1m Non-trainable params: \u001b[0m\u001b[38;5;34m0\u001b[0m (0.00 B)\n"
      ]
     },
     "metadata": {},
     "output_type": "display_data"
    }
   ],
   "source": [
    "# define the Autoencoder model\n",
    "model = Sequential()\n",
    "model.add(LSTM(64, activation='relu', input_shape=(trainX.shape[1], trainX.shape[2]), return_sequences=True))\n",
    "model.add(LSTM(32, activation='relu', return_sequences=False))\n",
    "model.add(Dropout(0.2))\n",
    "model.add(Dense(trainY.shape[1]))\n",
    "\n",
    "model.compile(optimizer='adam', loss='mse')\n",
    "model.summary()"
   ]
  },
  {
   "cell_type": "code",
   "execution_count": 93,
   "metadata": {},
   "outputs": [
    {
     "name": "stdout",
     "output_type": "stream",
     "text": [
      "Epoch 1/5\n",
      "\u001b[1m45/45\u001b[0m \u001b[32m━━━━━━━━━━━━━━━━━━━━\u001b[0m\u001b[37m\u001b[0m \u001b[1m3s\u001b[0m 13ms/step - loss: 0.1509 - val_loss: 6.0317\n",
      "Epoch 2/5\n",
      "\u001b[1m45/45\u001b[0m \u001b[32m━━━━━━━━━━━━━━━━━━━━\u001b[0m\u001b[37m\u001b[0m \u001b[1m0s\u001b[0m 7ms/step - loss: 0.0757 - val_loss: 2.1780\n",
      "Epoch 3/5\n",
      "\u001b[1m45/45\u001b[0m \u001b[32m━━━━━━━━━━━━━━━━━━━━\u001b[0m\u001b[37m\u001b[0m \u001b[1m0s\u001b[0m 7ms/step - loss: 0.0736 - val_loss: 2.2490\n",
      "Epoch 4/5\n",
      "\u001b[1m45/45\u001b[0m \u001b[32m━━━━━━━━━━━━━━━━━━━━\u001b[0m\u001b[37m\u001b[0m \u001b[1m0s\u001b[0m 7ms/step - loss: 0.0521 - val_loss: 2.2772\n",
      "Epoch 5/5\n",
      "\u001b[1m45/45\u001b[0m \u001b[32m━━━━━━━━━━━━━━━━━━━━\u001b[0m\u001b[37m\u001b[0m \u001b[1m0s\u001b[0m 8ms/step - loss: 0.0503 - val_loss: 2.1107\n"
     ]
    }
   ],
   "source": [
    "history = model.fit(trainX, trainY, epochs=5, batch_size=16, validation_split=0.1, verbose=1)"
   ]
  },
  {
   "cell_type": "code",
   "execution_count": 139,
   "metadata": {},
   "outputs": [
    {
     "data": {
      "image/png": "[encoded data removed]",
      "text/plain": [
       "<Figure size 1200x600 with 1 Axes>"
      ]
     },
     "metadata": {},
     "output_type": "display_data"
    }
   ],
   "source": [
    "# Visualize train process\n",
    "plt.figure(figsize=(12, 6))\n",
    "plt.plot(history.history[\"loss\"], label=\"Training Loss\")\n",
    "plt.plot(history.history[\"val_loss\"], label=\"Validation Loss\")\n",
    "plt.legend()\n",
    "plt.show()"
   ]
  },
  {
   "cell_type": "code",
   "execution_count": 95,
   "metadata": {},
   "outputs": [
    {
     "name": "stdout",
     "output_type": "stream",
     "text": [
      "[Timestamp('2024-05-23 19:00:00'), Timestamp('2024-05-24 19:00:00'), Timestamp('2024-05-25 19:00:00'), Timestamp('2024-05-26 19:00:00'), Timestamp('2024-05-27 19:00:00'), Timestamp('2024-05-28 19:00:00'), Timestamp('2024-05-29 19:00:00'), Timestamp('2024-05-30 19:00:00'), Timestamp('2024-05-31 19:00:00'), Timestamp('2024-06-01 19:00:00'), Timestamp('2024-06-02 19:00:00'), Timestamp('2024-06-03 19:00:00'), Timestamp('2024-06-04 19:00:00'), Timestamp('2024-06-05 19:00:00'), Timestamp('2024-06-06 19:00:00')]\n"
     ]
    }
   ],
   "source": [
    "#Remember that we can only predict one day in future as our model needs 5 variables\n",
    "#as inputs for prediction. We only have all 5 variables until the last day in our dataset.\n",
    "n_past = 16\n",
    "n_days_for_prediction=15  #let us predict past 15 days\n",
    "\n",
    "predict_period_dates = pd.date_range(list(train_dates)[-n_past], periods=n_days_for_prediction, freq=\"1d\").tolist()\n",
    "print(predict_period_dates)"
   ]
  },
  {
   "cell_type": "code",
   "execution_count": 142,
   "metadata": {},
   "outputs": [
    {
     "name": "stdout",
     "output_type": "stream",
     "text": [
      "\u001b[1m1/1\u001b[0m \u001b[32m━━━━━━━━━━━━━━━━━━━━\u001b[0m\u001b[37m\u001b[0m \u001b[1m0s\u001b[0m 36ms/step\n",
      "[39367.207 37112.492 34925.098 34274.188 34812.934 34915.203 34786.652\n",
      " 34442.902 32903.46  31792.572 32307.49  33121.2   33872.383 34106.08\n",
      " 34926.098]\n"
     ]
    }
   ],
   "source": [
    "#Make prediction\n",
    "prediction = model.predict(trainX[-n_days_for_prediction:]) #shape = (n, 1) where n is the n_days_for_prediction\n",
    "\n",
    "#Perform inverse transformation to rescale back to original range\n",
    "#Since we used 5 variables for transform, the inverse expects same dimensions\n",
    "#Therefore, let us copy our values 5 times and discard them after inverse transform\n",
    "prediction_copies = np.repeat(prediction, df_for_training.shape[1], axis=-1)\n",
    "y_pred_future = scaler.inverse_transform(prediction_copies)[:,4]\n",
    "print(y_pred_future)"
   ]
  },
  {
   "cell_type": "code",
   "execution_count": 143,
   "metadata": {},
   "outputs": [
    {
     "data": {
      "text/plain": [
       "<Axes: xlabel='datetime', ylabel='open'>"
      ]
     },
     "execution_count": 143,
     "metadata": {},
     "output_type": "execute_result"
    },
    {
     "data": {
      "image/png": "[encoded data removed]",
      "text/plain": [
       "<Figure size 640x480 with 1 Axes>"
      ]
     },
     "metadata": {},
     "output_type": "display_data"
    }
   ],
   "source": [
    "# Convert timestamp to date\n",
    "forecast_dates = []\n",
    "for time_i in predict_period_dates:\n",
    "    forecast_dates.append(time_i.date())\n",
    "    \n",
    "df_forecast = pd.DataFrame({'date':np.array(forecast_dates), 'open':y_pred_future})\n",
    "df_forecast.set_index('date', inplace=True)\n",
    "\n",
    "original = df_bitcoin[['open']]\n",
    "original = original.loc[(original.index < '2024-06-08') & (original.index > '2023-05-24')]\n",
    "\n",
    "sns.lineplot(original['open'])\n",
    "sns.lineplot( df_forecast['open'])"
   ]
  }
 ],
 "metadata": {
  "kernelspec": {
   "display_name": ".env",
   "language": "python",
   "name": "python3"
  },
  "language_info": {
   "codemirror_mode": {
    "name": "ipython",
    "version": 3
   },
   "file_extension": ".py",
   "mimetype": "text/x-python",
   "name": "python",
   "nbconvert_exporter": "python",
   "pygments_lexer": "ipython3",
   "version": "3.12.2"
  }
 },
 "nbformat": 4,
 "nbformat_minor": 2
}
