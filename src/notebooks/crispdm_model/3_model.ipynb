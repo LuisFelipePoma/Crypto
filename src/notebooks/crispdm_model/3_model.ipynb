{
 "cells": [
  {
   "cell_type": "markdown",
   "metadata": {},
   "source": [
    "# MODEL "
   ]
  },
  {
   "cell_type": "markdown",
   "metadata": {},
   "source": [
    "Cargamos las librerias necesarias"
   ]
  },
  {
   "cell_type": "code",
   "execution_count": 1,
   "metadata": {},
   "outputs": [],
   "source": [
    "from _utils import *\n",
    "import pandas as pd"
   ]
  },
  {
   "cell_type": "markdown",
   "metadata": {},
   "source": [
    "## Cargamos la data"
   ]
  },
  {
   "cell_type": "code",
   "execution_count": 2,
   "metadata": {},
   "outputs": [],
   "source": [
    "# dataset = pd.read_json(\"./datasets/market_data.json\", orient=\"records\")\n",
    "df_coin = pd.read_json(\"./datasets/coin.json\")\n",
    "df_coin.set_index(\"datetime\", inplace=True)\n"
   ]
  },
  {
   "cell_type": "markdown",
   "metadata": {},
   "source": [
    "## Preparamos la data"
   ]
  },
  {
   "cell_type": "code",
   "execution_count": 3,
   "metadata": {},
   "outputs": [],
   "source": [
    "import numpy as np\n",
    "from matplotlib import pyplot as plt"
   ]
  },
  {
   "cell_type": "code",
   "execution_count": 4,
   "metadata": {},
   "outputs": [],
   "source": [
    "def get_series_by_coin(coin: str, df: pd.DataFrame):\n",
    "    new_df = df.where(df[\"name\"] == coin).dropna()\n",
    "    return new_df"
   ]
  },
  {
   "cell_type": "code",
   "execution_count": 5,
   "metadata": {},
   "outputs": [
    {
     "data": {
      "text/html": [
       "<div>\n",
       "<style scoped>\n",
       "    .dataframe tbody tr th:only-of-type {\n",
       "        vertical-align: middle;\n",
       "    }\n",
       "\n",
       "    .dataframe tbody tr th {\n",
       "        vertical-align: top;\n",
       "    }\n",
       "\n",
       "    .dataframe thead th {\n",
       "        text-align: right;\n",
       "    }\n",
       "</style>\n",
       "<table border=\"1\" class=\"dataframe\">\n",
       "  <thead>\n",
       "    <tr style=\"text-align: right;\">\n",
       "      <th></th>\n",
       "      <th>id</th>\n",
       "      <th>serialId</th>\n",
       "      <th>symbol</th>\n",
       "      <th>name</th>\n",
       "      <th>slug</th>\n",
       "      <th>open</th>\n",
       "      <th>high</th>\n",
       "      <th>low</th>\n",
       "      <th>close</th>\n",
       "      <th>volume</th>\n",
       "      <th>change_open</th>\n",
       "      <th>change_high</th>\n",
       "      <th>change_low</th>\n",
       "      <th>change_close</th>\n",
       "      <th>change_volume</th>\n",
       "    </tr>\n",
       "    <tr>\n",
       "      <th>datetime</th>\n",
       "      <th></th>\n",
       "      <th></th>\n",
       "      <th></th>\n",
       "      <th></th>\n",
       "      <th></th>\n",
       "      <th></th>\n",
       "      <th></th>\n",
       "      <th></th>\n",
       "      <th></th>\n",
       "      <th></th>\n",
       "      <th></th>\n",
       "      <th></th>\n",
       "      <th></th>\n",
       "      <th></th>\n",
       "      <th></th>\n",
       "    </tr>\n",
       "  </thead>\n",
       "  <tbody>\n",
       "    <tr>\n",
       "      <th>2016-02-08</th>\n",
       "      <td>1e31218a-e44e-4285-820c-8282ee222035</td>\n",
       "      <td>6057</td>\n",
       "      <td>BTC</td>\n",
       "      <td>Bitcoin</td>\n",
       "      <td>bitcoin</td>\n",
       "      <td>377.824362</td>\n",
       "      <td>382.104274</td>\n",
       "      <td>371.106554</td>\n",
       "      <td>373.071537</td>\n",
       "      <td>4.539467e+08</td>\n",
       "      <td>0.004771</td>\n",
       "      <td>-0.000815</td>\n",
       "      <td>-0.003770</td>\n",
       "      <td>-0.009574</td>\n",
       "      <td>0.001442</td>\n",
       "    </tr>\n",
       "    <tr>\n",
       "      <th>2016-02-09</th>\n",
       "      <td>1e31218a-e44e-4285-820c-8282ee222035</td>\n",
       "      <td>6057</td>\n",
       "      <td>BTC</td>\n",
       "      <td>Bitcoin</td>\n",
       "      <td>bitcoin</td>\n",
       "      <td>374.366660</td>\n",
       "      <td>377.633699</td>\n",
       "      <td>371.134725</td>\n",
       "      <td>374.419881</td>\n",
       "      <td>4.221380e+08</td>\n",
       "      <td>-0.009152</td>\n",
       "      <td>-0.011700</td>\n",
       "      <td>0.000076</td>\n",
       "      <td>0.003614</td>\n",
       "      <td>-0.070071</td>\n",
       "    </tr>\n",
       "    <tr>\n",
       "      <th>2016-02-10</th>\n",
       "      <td>1e31218a-e44e-4285-820c-8282ee222035</td>\n",
       "      <td>6057</td>\n",
       "      <td>BTC</td>\n",
       "      <td>Bitcoin</td>\n",
       "      <td>bitcoin</td>\n",
       "      <td>375.245206</td>\n",
       "      <td>385.045611</td>\n",
       "      <td>373.279047</td>\n",
       "      <td>380.798141</td>\n",
       "      <td>6.877410e+08</td>\n",
       "      <td>0.002347</td>\n",
       "      <td>0.019627</td>\n",
       "      <td>0.005778</td>\n",
       "      <td>0.017035</td>\n",
       "      <td>0.629185</td>\n",
       "    </tr>\n",
       "    <tr>\n",
       "      <th>2016-02-11</th>\n",
       "      <td>1e31218a-e44e-4285-820c-8282ee222035</td>\n",
       "      <td>6057</td>\n",
       "      <td>BTC</td>\n",
       "      <td>Bitcoin</td>\n",
       "      <td>bitcoin</td>\n",
       "      <td>380.679593</td>\n",
       "      <td>384.303153</td>\n",
       "      <td>373.702775</td>\n",
       "      <td>379.643758</td>\n",
       "      <td>4.435501e+08</td>\n",
       "      <td>0.014482</td>\n",
       "      <td>-0.001928</td>\n",
       "      <td>0.001135</td>\n",
       "      <td>-0.003031</td>\n",
       "      <td>-0.355062</td>\n",
       "    </tr>\n",
       "    <tr>\n",
       "      <th>2016-02-12</th>\n",
       "      <td>1e31218a-e44e-4285-820c-8282ee222035</td>\n",
       "      <td>6057</td>\n",
       "      <td>BTC</td>\n",
       "      <td>Bitcoin</td>\n",
       "      <td>bitcoin</td>\n",
       "      <td>379.713533</td>\n",
       "      <td>386.464192</td>\n",
       "      <td>377.246035</td>\n",
       "      <td>384.791546</td>\n",
       "      <td>5.429746e+08</td>\n",
       "      <td>-0.002538</td>\n",
       "      <td>0.005623</td>\n",
       "      <td>0.009481</td>\n",
       "      <td>0.013560</td>\n",
       "      <td>0.224156</td>\n",
       "    </tr>\n",
       "  </tbody>\n",
       "</table>\n",
       "</div>"
      ],
      "text/plain": [
       "                                              id  serialId symbol     name  \\\n",
       "datetime                                                                     \n",
       "2016-02-08  1e31218a-e44e-4285-820c-8282ee222035      6057    BTC  Bitcoin   \n",
       "2016-02-09  1e31218a-e44e-4285-820c-8282ee222035      6057    BTC  Bitcoin   \n",
       "2016-02-10  1e31218a-e44e-4285-820c-8282ee222035      6057    BTC  Bitcoin   \n",
       "2016-02-11  1e31218a-e44e-4285-820c-8282ee222035      6057    BTC  Bitcoin   \n",
       "2016-02-12  1e31218a-e44e-4285-820c-8282ee222035      6057    BTC  Bitcoin   \n",
       "\n",
       "               slug        open        high         low       close  \\\n",
       "datetime                                                              \n",
       "2016-02-08  bitcoin  377.824362  382.104274  371.106554  373.071537   \n",
       "2016-02-09  bitcoin  374.366660  377.633699  371.134725  374.419881   \n",
       "2016-02-10  bitcoin  375.245206  385.045611  373.279047  380.798141   \n",
       "2016-02-11  bitcoin  380.679593  384.303153  373.702775  379.643758   \n",
       "2016-02-12  bitcoin  379.713533  386.464192  377.246035  384.791546   \n",
       "\n",
       "                  volume  change_open  change_high  change_low  change_close  \\\n",
       "datetime                                                                       \n",
       "2016-02-08  4.539467e+08     0.004771    -0.000815   -0.003770     -0.009574   \n",
       "2016-02-09  4.221380e+08    -0.009152    -0.011700    0.000076      0.003614   \n",
       "2016-02-10  6.877410e+08     0.002347     0.019627    0.005778      0.017035   \n",
       "2016-02-11  4.435501e+08     0.014482    -0.001928    0.001135     -0.003031   \n",
       "2016-02-12  5.429746e+08    -0.002538     0.005623    0.009481      0.013560   \n",
       "\n",
       "            change_volume  \n",
       "datetime                   \n",
       "2016-02-08       0.001442  \n",
       "2016-02-09      -0.070071  \n",
       "2016-02-10       0.629185  \n",
       "2016-02-11      -0.355062  \n",
       "2016-02-12       0.224156  "
      ]
     },
     "execution_count": 5,
     "metadata": {},
     "output_type": "execute_result"
    }
   ],
   "source": [
    "# df_bitcoin = get_series_by_coin(\"Bitcoin\",dataset)\n",
    "df_bitcoin = pd.read_json(\"./datasets/bitcoin.json\")\n",
    "df_bitcoin.set_index(\"datetime\", inplace=True)\n",
    "df_bitcoin = df_bitcoin.sort_index()\n",
    "df_bitcoin.head(5)"
   ]
  },
  {
   "cell_type": "markdown",
   "metadata": {},
   "source": [
    "# Estacionalidad"
   ]
  },
  {
   "cell_type": "code",
   "execution_count": 6,
   "metadata": {},
   "outputs": [
    {
     "name": "stdout",
     "output_type": "stream",
     "text": [
      "2016-02-08 00:00:00\n",
      "2020-03-05 00:00:00\n",
      "1487 days 00:00:00\n"
     ]
    }
   ],
   "source": [
    "# Va del 1 de enero de 2009 al 24 de septiembre de 2014\n",
    "# Es decir casi 6 años\n",
    "print(df_bitcoin.index[0])\n",
    "print(df_bitcoin.index[-1])\n",
    "print(df_bitcoin.index[-1]-df_bitcoin.index[0])"
   ]
  },
  {
   "cell_type": "code",
   "execution_count": 7,
   "metadata": {},
   "outputs": [
    {
     "data": {
      "image/png": "[encoded data removed]",
      "text/plain": [
       "<Figure size 1200x500 with 1 Axes>"
      ]
     },
     "metadata": {},
     "output_type": "display_data"
    }
   ],
   "source": [
    "# Importar seaborn\n",
    "import plotly.express as px\n",
    "import numpy as np\n",
    "import seaborn as sns\n",
    "sns.set()\n",
    "\n",
    "# Extraer\n",
    "temp = df_bitcoin['close']\n",
    "\n",
    "# Y graficarla\n",
    "fig, ax = plt.subplots(figsize=(12,5))\n",
    "sns.lineplot(temp, ax=ax);"
   ]
  },
  {
   "cell_type": "code",
   "execution_count": 8,
   "metadata": {},
   "outputs": [
    {
     "data": {
      "application/vnd.plotly.v1+json": {
       "config": {
        "plotlyServerURL": "https://plot.ly"
       },
       "data": [
        {
         "hovertemplate": "x=%{x}<br>y=%{y}<extra></extra>",
         "legendgroup": "",
         "line": {
          "color": "#636efa",
          "dash": "solid"
         },
         "marker": {
          "symbol": "circle"
         },
         "mode": "lines",
         "name": "",
         "orientation": "v",
         "showlegend": false,
         "type": "scatter",
         "x": [
          0,
          0.0006702412868632708,
          0.0013404825737265416,
          0.0020107238605898124,
          0.002680965147453083,
          0.003351206434316354,
          0.004021447721179625,
          0.004691689008042895,
          0.005361930294906166,
          0.0060321715817694375,
          0.006702412868632708,
          0.007372654155495978,
          0.00804289544235925,
          0.00871313672922252,
          0.00938337801608579,
          0.010053619302949061,
          0.010723860589812333,
          0.011394101876675604,
          0.012064343163538875,
          0.012734584450402145,
          0.013404825737265416,
          0.014075067024128687,
          0.014745308310991957,
          0.015415549597855228,
          0.0160857908847185,
          0.01675603217158177,
          0.01742627345844504,
          0.018096514745308313,
          0.01876675603217158,
          0.01943699731903485,
          0.020107238605898123,
          0.020777479892761394,
          0.021447721179624665,
          0.022117962466487937,
          0.022788203753351208,
          0.02345844504021448,
          0.02412868632707775,
          0.024798927613941018,
          0.02546916890080429,
          0.02613941018766756,
          0.02680965147453083,
          0.027479892761394103,
          0.028150134048257374,
          0.028820375335120645,
          0.029490616621983913,
          0.030160857908847184,
          0.030831099195710455,
          0.03150134048257373,
          0.032171581769437,
          0.03284182305630027,
          0.03351206434316354,
          0.03418230563002681,
          0.03485254691689008,
          0.035522788203753354,
          0.036193029490616625,
          0.036863270777479897,
          0.03753351206434316,
          0.03820375335120643,
          0.0388739946380697,
          0.039544235924932974,
          0.040214477211796246,
          0.04088471849865952,
          0.04155495978552279,
          0.04222520107238606,
          0.04289544235924933,
          0.0435656836461126,
          0.04423592493297587,
          0.044906166219839144,
          0.045576407506702415,
          0.04624664879356569,
          0.04691689008042896,
          0.04758713136729223,
          0.0482573726541555,
          0.048927613941018765,
          0.049597855227882036,
          0.05026809651474531,
          0.05093833780160858,
          0.05160857908847185,
          0.05227882037533512,
          0.05294906166219839,
          0.05361930294906166,
          0.054289544235924934,
          0.054959785522788206,
          0.05563002680965148,
          0.05630026809651475,
          0.05697050938337802,
          0.05764075067024129,
          0.05831099195710456,
          0.058981233243967826,
          0.0596514745308311,
          0.06032171581769437,
          0.06099195710455764,
          0.06166219839142091,
          0.06233243967828418,
          0.06300268096514745,
          0.06367292225201072,
          0.064343163538874,
          0.06501340482573727,
          0.06568364611260054,
          0.06635388739946381,
          0.06702412868632708,
          0.06769436997319035,
          0.06836461126005362,
          0.0690348525469169,
          0.06970509383378017,
          0.07037533512064344,
          0.07104557640750671,
          0.07171581769436998,
          0.07238605898123325,
          0.07305630026809652,
          0.07372654155495979,
          0.07439678284182306,
          0.07506702412868632,
          0.07573726541554959,
          0.07640750670241286,
          0.07707774798927614,
          0.0777479892761394,
          0.07841823056300268,
          0.07908847184986595,
          0.07975871313672922,
          0.08042895442359249,
          0.08109919571045576,
          0.08176943699731903,
          0.0824396782841823,
          0.08310991957104558,
          0.08378016085790885,
          0.08445040214477212,
          0.08512064343163539,
          0.08579088471849866,
          0.08646112600536193,
          0.0871313672922252,
          0.08780160857908847,
          0.08847184986595175,
          0.08914209115281502,
          0.08981233243967829,
          0.09048257372654156,
          0.09115281501340483,
          0.0918230563002681,
          0.09249329758713137,
          0.09316353887399464,
          0.09383378016085792,
          0.09450402144772119,
          0.09517426273458446,
          0.09584450402144773,
          0.096514745308311,
          0.09718498659517426,
          0.09785522788203753,
          0.0985254691689008,
          0.09919571045576407,
          0.09986595174262734,
          0.10053619302949061,
          0.10120643431635389,
          0.10187667560321716,
          0.10254691689008043,
          0.1032171581769437,
          0.10388739946380697,
          0.10455764075067024,
          0.10522788203753351,
          0.10589812332439678,
          0.10656836461126006,
          0.10723860589812333,
          0.1079088471849866,
          0.10857908847184987,
          0.10924932975871314,
          0.10991957104557641,
          0.11058981233243968,
          0.11126005361930295,
          0.11193029490616623,
          0.1126005361930295,
          0.11327077747989277,
          0.11394101876675604,
          0.11461126005361931,
          0.11528150134048258,
          0.11595174262734585,
          0.11662198391420912,
          0.1172922252010724,
          0.11796246648793565,
          0.11863270777479892,
          0.1193029490616622,
          0.11997319034852547,
          0.12064343163538874,
          0.12131367292225201,
          0.12198391420911528,
          0.12265415549597855,
          0.12332439678284182,
          0.1239946380697051,
          0.12466487935656836,
          0.12533512064343164,
          0.1260053619302949,
          0.12667560321715818,
          0.12734584450402145,
          0.12801608579088472,
          0.128686327077748,
          0.12935656836461126,
          0.13002680965147453,
          0.1306970509383378,
          0.13136729222520108,
          0.13203753351206435,
          0.13270777479892762,
          0.1333780160857909,
          0.13404825737265416,
          0.13471849865951743,
          0.1353887399463807,
          0.13605898123324398,
          0.13672922252010725,
          0.13739946380697052,
          0.1380697050938338,
          0.13873994638069706,
          0.13941018766756033,
          0.1400804289544236,
          0.14075067024128687,
          0.14142091152815014,
          0.14209115281501342,
          0.1427613941018767,
          0.14343163538873996,
          0.14410187667560323,
          0.1447721179624665,
          0.14544235924932977,
          0.14611260053619304,
          0.14678284182305631,
          0.14745308310991959,
          0.14812332439678286,
          0.14879356568364613,
          0.1494638069705094,
          0.15013404825737264,
          0.15080428954423591,
          0.15147453083109919,
          0.15214477211796246,
          0.15281501340482573,
          0.153485254691689,
          0.15415549597855227,
          0.15482573726541554,
          0.1554959785522788,
          0.15616621983914208,
          0.15683646112600536,
          0.15750670241286863,
          0.1581769436997319,
          0.15884718498659517,
          0.15951742627345844,
          0.1601876675603217,
          0.16085790884718498,
          0.16152815013404825,
          0.16219839142091153,
          0.1628686327077748,
          0.16353887399463807,
          0.16420911528150134,
          0.1648793565683646,
          0.16554959785522788,
          0.16621983914209115,
          0.16689008042895442,
          0.1675603217158177,
          0.16823056300268097,
          0.16890080428954424,
          0.1695710455764075,
          0.17024128686327078,
          0.17091152815013405,
          0.17158176943699732,
          0.1722520107238606,
          0.17292225201072386,
          0.17359249329758714,
          0.1742627345844504,
          0.17493297587131368,
          0.17560321715817695,
          0.17627345844504022,
          0.1769436997319035,
          0.17761394101876676,
          0.17828418230563003,
          0.1789544235924933,
          0.17962466487935658,
          0.18029490616621985,
          0.18096514745308312,
          0.1816353887399464,
          0.18230563002680966,
          0.18297587131367293,
          0.1836461126005362,
          0.18431635388739948,
          0.18498659517426275,
          0.18565683646112602,
          0.1863270777479893,
          0.18699731903485256,
          0.18766756032171583,
          0.1883378016085791,
          0.18900804289544237,
          0.18967828418230565,
          0.19034852546916892,
          0.1910187667560322,
          0.19168900804289546,
          0.19235924932975873,
          0.193029490616622,
          0.19369973190348524,
          0.19436997319034852,
          0.1950402144772118,
          0.19571045576407506,
          0.19638069705093833,
          0.1970509383378016,
          0.19772117962466487,
          0.19839142091152814,
          0.19906166219839141,
          0.19973190348525469,
          0.20040214477211796,
          0.20107238605898123,
          0.2017426273458445,
          0.20241286863270777,
          0.20308310991957104,
          0.2037533512064343,
          0.20442359249329758,
          0.20509383378016086,
          0.20576407506702413,
          0.2064343163538874,
          0.20710455764075067,
          0.20777479892761394,
          0.2084450402144772,
          0.20911528150134048,
          0.20978552278820375,
          0.21045576407506703,
          0.2111260053619303,
          0.21179624664879357,
          0.21246648793565684,
          0.2131367292225201,
          0.21380697050938338,
          0.21447721179624665,
          0.21514745308310992,
          0.2158176943699732,
          0.21648793565683647,
          0.21715817694369974,
          0.217828418230563,
          0.21849865951742628,
          0.21916890080428955,
          0.21983914209115282,
          0.2205093833780161,
          0.22117962466487937,
          0.22184986595174264,
          0.2225201072386059,
          0.22319034852546918,
          0.22386058981233245,
          0.22453083109919572,
          0.225201072386059,
          0.22587131367292226,
          0.22654155495978553,
          0.2272117962466488,
          0.22788203753351208,
          0.22855227882037535,
          0.22922252010723862,
          0.2298927613941019,
          0.23056300268096516,
          0.23123324396782843,
          0.2319034852546917,
          0.23257372654155498,
          0.23324396782841825,
          0.23391420911528152,
          0.2345844504021448,
          0.23525469168900806,
          0.2359249329758713,
          0.23659517426273458,
          0.23726541554959785,
          0.23793565683646112,
          0.2386058981233244,
          0.23927613941018766,
          0.23994638069705093,
          0.2406166219839142,
          0.24128686327077747,
          0.24195710455764075,
          0.24262734584450402,
          0.2432975871313673,
          0.24396782841823056,
          0.24463806970509383,
          0.2453083109919571,
          0.24597855227882037,
          0.24664879356568364,
          0.24731903485254692,
          0.2479892761394102,
          0.24865951742627346,
          0.24932975871313673,
          0.25,
          0.25067024128686327,
          0.25134048257372654,
          0.2520107238605898,
          0.2526809651474531,
          0.25335120643431636,
          0.2540214477211796,
          0.2546916890080429,
          0.25536193029490617,
          0.25603217158176944,
          0.2567024128686327,
          0.257372654155496,
          0.25804289544235925,
          0.2587131367292225,
          0.2593833780160858,
          0.26005361930294907,
          0.26072386058981234,
          0.2613941018766756,
          0.2620643431635389,
          0.26273458445040215,
          0.2634048257372654,
          0.2640750670241287,
          0.26474530831099197,
          0.26541554959785524,
          0.2660857908847185,
          0.2667560321715818,
          0.26742627345844505,
          0.2680965147453083,
          0.2687667560321716,
          0.26943699731903487,
          0.27010723860589814,
          0.2707774798927614,
          0.2714477211796247,
          0.27211796246648795,
          0.2727882037533512,
          0.2734584450402145,
          0.27412868632707776,
          0.27479892761394104,
          0.2754691689008043,
          0.2761394101876676,
          0.27680965147453085,
          0.2774798927613941,
          0.2781501340482574,
          0.27882037533512066,
          0.27949061662198393,
          0.2801608579088472,
          0.2808310991957105,
          0.28150134048257375,
          0.282171581769437,
          0.2828418230563003,
          0.28351206434316356,
          0.28418230563002683,
          0.2848525469168901,
          0.2855227882037534,
          0.28619302949061665,
          0.2868632707774799,
          0.2875335120643432,
          0.28820375335120646,
          0.28887399463806973,
          0.289544235924933,
          0.2902144772117963,
          0.29088471849865954,
          0.2915549597855228,
          0.2922252010723861,
          0.29289544235924936,
          0.29356568364611263,
          0.2942359249329759,
          0.29490616621983917,
          0.29557640750670244,
          0.2962466487935657,
          0.296916890080429,
          0.29758713136729226,
          0.29825737265415553,
          0.2989276139410188,
          0.29959785522788207,
          0.3002680965147453,
          0.30093833780160856,
          0.30160857908847183,
          0.3022788203753351,
          0.30294906166219837,
          0.30361930294906164,
          0.3042895442359249,
          0.3049597855227882,
          0.30563002680965146,
          0.3063002680965147,
          0.306970509383378,
          0.30764075067024127,
          0.30831099195710454,
          0.3089812332439678,
          0.3096514745308311,
          0.31032171581769435,
          0.3109919571045576,
          0.3116621983914209,
          0.31233243967828417,
          0.31300268096514744,
          0.3136729222520107,
          0.314343163538874,
          0.31501340482573725,
          0.3156836461126005,
          0.3163538873994638,
          0.31702412868632707,
          0.31769436997319034,
          0.3183646112600536,
          0.3190348525469169,
          0.31970509383378015,
          0.3203753351206434,
          0.3210455764075067,
          0.32171581769436997,
          0.32238605898123324,
          0.3230563002680965,
          0.3237265415549598,
          0.32439678284182305,
          0.3250670241286863,
          0.3257372654155496,
          0.32640750670241286,
          0.32707774798927614,
          0.3277479892761394,
          0.3284182305630027,
          0.32908847184986595,
          0.3297587131367292,
          0.3304289544235925,
          0.33109919571045576,
          0.33176943699731903,
          0.3324396782841823,
          0.3331099195710456,
          0.33378016085790885,
          0.3344504021447721,
          0.3351206434316354,
          0.33579088471849866,
          0.33646112600536193,
          0.3371313672922252,
          0.3378016085790885,
          0.33847184986595175,
          0.339142091152815,
          0.3398123324396783,
          0.34048257372654156,
          0.34115281501340483,
          0.3418230563002681,
          0.3424932975871314,
          0.34316353887399464,
          0.3438337801608579,
          0.3445040214477212,
          0.34517426273458446,
          0.34584450402144773,
          0.346514745308311,
          0.34718498659517427,
          0.34785522788203754,
          0.3485254691689008,
          0.3491957104557641,
          0.34986595174262736,
          0.35053619302949063,
          0.3512064343163539,
          0.35187667560321717,
          0.35254691689008044,
          0.3532171581769437,
          0.353887399463807,
          0.35455764075067026,
          0.3552278820375335,
          0.3558981233243968,
          0.35656836461126007,
          0.35723860589812334,
          0.3579088471849866,
          0.3585790884718499,
          0.35924932975871315,
          0.3599195710455764,
          0.3605898123324397,
          0.36126005361930297,
          0.36193029490616624,
          0.3626005361930295,
          0.3632707774798928,
          0.36394101876675605,
          0.3646112600536193,
          0.3652815013404826,
          0.36595174262734587,
          0.36662198391420914,
          0.3672922252010724,
          0.3679624664879357,
          0.36863270777479895,
          0.3693029490616622,
          0.3699731903485255,
          0.37064343163538876,
          0.37131367292225204,
          0.3719839142091153,
          0.3726541554959786,
          0.37332439678284185,
          0.3739946380697051,
          0.3746648793565684,
          0.37533512064343166,
          0.37600536193029493,
          0.3766756032171582,
          0.3773458445040215,
          0.37801608579088475,
          0.378686327077748,
          0.3793565683646113,
          0.38002680965147456,
          0.38069705093833783,
          0.3813672922252011,
          0.3820375335120644,
          0.38270777479892765,
          0.3833780160857909,
          0.3840482573726542,
          0.38471849865951746,
          0.38538873994638073,
          0.386058981233244,
          0.3867292225201072,
          0.3873994638069705,
          0.38806970509383376,
          0.38873994638069703,
          0.3894101876675603,
          0.3900804289544236,
          0.39075067024128685,
          0.3914209115281501,
          0.3920911528150134,
          0.39276139410187666,
          0.39343163538873993,
          0.3941018766756032,
          0.3947721179624665,
          0.39544235924932974,
          0.396112600536193,
          0.3967828418230563,
          0.39745308310991956,
          0.39812332439678283,
          0.3987935656836461,
          0.39946380697050937,
          0.40013404825737264,
          0.4008042895442359,
          0.4014745308310992,
          0.40214477211796246,
          0.40281501340482573,
          0.403485254691689,
          0.40415549597855227,
          0.40482573726541554,
          0.4054959785522788,
          0.4061662198391421,
          0.40683646112600536,
          0.4075067024128686,
          0.4081769436997319,
          0.40884718498659517,
          0.40951742627345844,
          0.4101876675603217,
          0.410857908847185,
          0.41152815013404825,
          0.4121983914209115,
          0.4128686327077748,
          0.41353887399463807,
          0.41420911528150134,
          0.4148793565683646,
          0.4155495978552279,
          0.41621983914209115,
          0.4168900804289544,
          0.4175603217158177,
          0.41823056300268097,
          0.41890080428954424,
          0.4195710455764075,
          0.4202412868632708,
          0.42091152815013405,
          0.4215817694369973,
          0.4222520107238606,
          0.42292225201072386,
          0.42359249329758714,
          0.4242627345844504,
          0.4249329758713137,
          0.42560321715817695,
          0.4262734584450402,
          0.4269436997319035,
          0.42761394101876676,
          0.42828418230563003,
          0.4289544235924933,
          0.4296246648793566,
          0.43029490616621985,
          0.4309651474530831,
          0.4316353887399464,
          0.43230563002680966,
          0.43297587131367293,
          0.4336461126005362,
          0.4343163538873995,
          0.43498659517426275,
          0.435656836461126,
          0.4363270777479893,
          0.43699731903485256,
          0.43766756032171583,
          0.4383378016085791,
          0.4390080428954424,
          0.43967828418230565,
          0.4403485254691689,
          0.4410187667560322,
          0.44168900804289546,
          0.44235924932975873,
          0.443029490616622,
          0.4436997319034853,
          0.44436997319034854,
          0.4450402144772118,
          0.4457104557640751,
          0.44638069705093836,
          0.44705093833780163,
          0.4477211796246649,
          0.44839142091152817,
          0.44906166219839144,
          0.4497319034852547,
          0.450402144772118,
          0.45107238605898126,
          0.4517426273458445,
          0.4524128686327078,
          0.45308310991957107,
          0.45375335120643434,
          0.4544235924932976,
          0.4550938337801609,
          0.45576407506702415,
          0.4564343163538874,
          0.4571045576407507,
          0.45777479892761397,
          0.45844504021447724,
          0.4591152815013405,
          0.4597855227882038,
          0.46045576407506705,
          0.4611260053619303,
          0.4617962466487936,
          0.46246648793565687,
          0.46313672922252014,
          0.4638069705093834,
          0.4644772117962467,
          0.46514745308310995,
          0.4658176943699732,
          0.4664879356568365,
          0.46715817694369977,
          0.46782841823056304,
          0.4684986595174263,
          0.4691689008042896,
          0.46983914209115285,
          0.4705093833780161,
          0.4711796246648794,
          0.4718498659517426,
          0.4725201072386059,
          0.47319034852546915,
          0.4738605898123324,
          0.4745308310991957,
          0.47520107238605896,
          0.47587131367292224,
          0.4765415549597855,
          0.4772117962466488,
          0.47788203753351205,
          0.4785522788203753,
          0.4792225201072386,
          0.47989276139410186,
          0.48056300268096513,
          0.4812332439678284,
          0.4819034852546917,
          0.48257372654155495,
          0.4832439678284182,
          0.4839142091152815,
          0.48458445040214476,
          0.48525469168900803,
          0.4859249329758713,
          0.4865951742627346,
          0.48726541554959785,
          0.4879356568364611,
          0.4886058981233244,
          0.48927613941018766,
          0.48994638069705093,
          0.4906166219839142,
          0.4912868632707775,
          0.49195710455764075,
          0.492627345844504,
          0.4932975871313673,
          0.49396782841823056,
          0.49463806970509383,
          0.4953083109919571,
          0.4959785522788204,
          0.49664879356568364,
          0.4973190348525469,
          0.4979892761394102,
          0.49865951742627346,
          0.49932975871313673,
          0.5
         ],
         "xaxis": "x",
         "y": [
          7690985.270793953,
          2526934.14526602,
          2290871.972846415,
          1367253.6984562587,
          593041.6418905711,
          530245.0678054068,
          838970.3805428016,
          147108.1465673291,
          660833.8305396197,
          232160.28963639235,
          467595.22611035267,
          317026.0694768127,
          316784.5217266083,
          354161.75554930035,
          249993.03537596832,
          333218.74273893755,
          113360.67760910056,
          255640.34919181204,
          104371.25035840609,
          329930.02394773095,
          56791.45825223662,
          280280.45791474235,
          126356.56164083659,
          216847.82876962345,
          178299.12350289072,
          160535.6746948339,
          149944.7494629216,
          82853.64525992151,
          113637.01614483731,
          87427.61054213153,
          43126.329025860476,
          151238.85737280356,
          107280.38131383671,
          97684.87483491898,
          87310.1109982412,
          98856.74518037302,
          58768.15797695428,
          150732.5328605954,
          80480.99320494212,
          160410.29893438594,
          63639.57011533358,
          86357.89786058673,
          78019.73907008214,
          83838.44198754229,
          95212.31201765797,
          86197.14812955773,
          71477.48362040377,
          60750.732407466836,
          36622.5931980785,
          21441.21076283838,
          26156.978174175016,
          60556.90171317511,
          59715.77638604133,
          51423.85343327293,
          46359.80044306645,
          40332.21818203184,
          12640.842825636651,
          67969.31551823342,
          43517.95276653268,
          99697.83991187172,
          17828.005545920976,
          66994.23630697402,
          41328.743979402854,
          64502.40709389255,
          48996.0327766105,
          56190.02430493092,
          51498.97166962881,
          53334.797867936155,
          49745.45856200529,
          27346.57121082591,
          81351.89654603753,
          5629.204730633305,
          122298.77071905587,
          32399.743309848567,
          71727.19144973338,
          37129.15291236113,
          66271.81116155126,
          18870.898720153444,
          35232.836807675696,
          19345.051962189184,
          28105.478729573548,
          41936.56666259962,
          63298.30722670883,
          16049.70713378139,
          52338.34950943822,
          10278.653967660262,
          52694.584508607244,
          6215.06064478736,
          36017.50834540716,
          23232.091676030974,
          11764.879436424153,
          30850.26213009232,
          30830.113216007896,
          16310.17990131281,
          38317.9769519536,
          12932.1789008239,
          37255.426864636145,
          19692.17659164496,
          50548.64006328559,
          1104.0458413286665,
          54245.083850308925,
          32775.220622968416,
          23209.3383732603,
          19631.1882975731,
          11694.565058175887,
          32119.262953981684,
          36130.216283920345,
          50481.21805397635,
          42053.645458645806,
          31475.252909015988,
          4232.765866669902,
          3439.4525060253027,
          32776.9016224114,
          20517.052318181075,
          21213.728172344545,
          5213.290674108305,
          18735.250717080216,
          10789.104634468766,
          20080.017344987515,
          12444.628068050743,
          15987.783943640407,
          3040.533443590709,
          14654.971958260927,
          19737.072451643013,
          27918.676996962276,
          27451.654308043842,
          31824.31157062945,
          18277.3746113237,
          21449.13664502408,
          18823.28536309594,
          25683.510226031485,
          27998.397250604405,
          15748.7704230226,
          24791.062097687158,
          18772.13334288461,
          6023.175410815369,
          52483.84899992052,
          24337.39044411146,
          48156.796252636086,
          30198.239457148033,
          40563.00868451949,
          17372.84696916632,
          50047.50050365069,
          18569.340766210695,
          34356.171995502715,
          6915.605160476075,
          31362.297447741028,
          10588.61305101907,
          22873.16579710162,
          29604.942094140868,
          11966.993775165141,
          33191.43819613644,
          5346.559659262384,
          42598.10412631295,
          19994.270893101413,
          47984.35143456229,
          14367.093921506977,
          37712.80863823452,
          17985.190270023406,
          21025.461653929688,
          36847.745674680096,
          17634.79689373196,
          48076.78817640503,
          18401.53788939769,
          41589.565142463194,
          8222.735580362054,
          46368.02209489713,
          19207.335197160475,
          15280.167041823239,
          24182.433761005417,
          21553.555106123607,
          30945.23104534285,
          26295.62828296199,
          18476.85415744804,
          26834.62040434027,
          17268.07865472479,
          20839.427560195072,
          30169.832235852868,
          24253.134030542675,
          26542.44103884761,
          8871.797251824812,
          28601.26732403426,
          13442.763990658783,
          27419.136789576547,
          973.0197834921134,
          28491.946081535832,
          5655.013547823832,
          21952.986077730457,
          21157.54412699811,
          13543.91634471998,
          20004.181730848217,
          7725.198266007184,
          8329.181371603867,
          6356.093976047003,
          18570.476400212807,
          7170.329992308825,
          24125.30366421055,
          2438.7120370529265,
          13812.381701206636,
          4020.5914250387027,
          20543.99378828217,
          2023.7930823631366,
          24245.56174659182,
          4629.381913707974,
          17153.244804665635,
          8617.251566933292,
          18024.5592111891,
          11639.71740227205,
          22472.731020300827,
          11299.358717351237,
          23515.65239491792,
          12916.409483565565,
          17814.115266745128,
          4233.638931409596,
          9374.70457630329,
          10992.971936119171,
          13061.391351354037,
          13491.198433980402,
          16630.772321557546,
          8485.42077354398,
          17768.013101826386,
          9367.438762376061,
          15439.630541369159,
          6677.121132707098,
          5043.259630380222,
          22208.738180827335,
          637.7620829526638,
          28722.585116835897,
          11524.42651538433,
          15326.875052815889,
          12238.453163374716,
          18611.996810024506,
          10032.503745594333,
          19810.857811314556,
          4782.349102339264,
          10198.180032766832,
          8266.861763924137,
          21054.78418545152,
          13179.502902675315,
          16263.27634551654,
          17880.353883349224,
          9610.458805264927,
          24863.738810759758,
          15245.963796524902,
          11701.338773637586,
          10326.59783023187,
          11343.534988436926,
          8095.202752397701,
          22026.683219111444,
          3770.618057288682,
          10875.79694615454,
          1669.6523499074005,
          17306.516905970147,
          21077.118506644612,
          1975.7168172257277,
          23999.519857020256,
          7795.752016672435,
          2812.790355066626,
          10491.09372915907,
          345.3575896308037,
          16959.059389749436,
          11545.440966196715,
          15610.724739936242,
          8935.400829218694,
          6235.739083679178,
          6802.461129827805,
          1242.500961594561,
          17397.038449831467,
          6858.648703906232,
          9787.56027236771,
          8710.798588879152,
          16667.022348312064,
          14528.61911557926,
          27554.6458232934,
          14133.01165355266,
          22068.964132201618,
          8570.564985783765,
          385.82256853857155,
          19513.59112279757,
          3418.83867196845,
          24034.33690362002,
          13230.840190400097,
          19441.459094457707,
          10006.377755665544,
          21801.934290476547,
          4656.859301983734,
          13342.56813324393,
          11597.519518266683,
          4237.767064391472,
          13436.956293391166,
          6509.887248808042,
          20290.283176187473,
          6529.145654016913,
          21948.758288335855,
          4563.042800499569,
          4861.841227613501,
          18025.43434795526,
          6615.859559211594,
          18629.09925649289,
          5245.266858168831,
          19297.186455520507,
          10382.839244293687,
          21765.981584312234,
          8683.756055488,
          17247.493238352676,
          17138.343584877115,
          17816.754143056238,
          19680.33764968906,
          13905.32815862857,
          24738.58705023733,
          12185.304173330565,
          21575.211516844145,
          11046.565620291396,
          20077.435143877534,
          9931.216710999823,
          18800.153490180568,
          8482.998769580827,
          17822.08064722888,
          9748.885230682015,
          13389.335910921012,
          9674.938292149298,
          5081.31961874778,
          16810.249305156587,
          4526.312821954541,
          10123.398128207322,
          4056.812903942971,
          5353.3182991031745,
          9217.197480565106,
          13099.317344091512,
          12527.567853153592,
          3300.786958525975,
          8604.17045666755,
          8587.156743338968,
          12769.818639633442,
          9311.351457160301,
          13109.970501462103,
          3572.0947699446033,
          5887.357335169502,
          9602.15689809439,
          4048.7576763433244,
          17373.28581776042,
          1228.5091634646865,
          13153.397738078776,
          9447.978302748428,
          16679.984077086356,
          11447.218736981704,
          13713.17542376763,
          9911.295297824374,
          6626.689901843494,
          11675.309398831436,
          5235.356055088985,
          16030.594849129153,
          1574.9001788244987,
          19886.935157525975,
          974.5589651895531,
          12070.318807628213,
          6387.340316322569,
          4160.2112940460875,
          15169.772182828185,
          6185.760355793512,
          10234.61759802661,
          944.9893901183949,
          14072.86275120816,
          4118.982644493956,
          14784.391807574402,
          3345.366113273222,
          12269.5887044258,
          6899.488627722925,
          7109.9515164819095,
          12121.84073979098,
          6920.783197977521,
          10887.564098348756,
          2430.928826672218,
          5499.5063190321625,
          10016.646262167284,
          7947.343273307226,
          12042.315863744521,
          11247.293697606074,
          6423.807703795563,
          4739.359049524395,
          14558.524836405042,
          4219.94762710182,
          14418.067382585206,
          7541.121022155302,
          9537.565591948563,
          3644.2401550465306,
          6846.550341643354,
          6542.80717274653,
          11885.731343885805,
          12030.867900624782,
          8479.709707755246,
          8614.689557707206,
          2182.3369028658467,
          9854.40996587233,
          3790.128508612101,
          5724.167132861511,
          7373.120803698894,
          4184.5549785856565,
          10048.989475244081,
          8401.594467722287,
          10974.228864605562,
          12313.310175805438,
          7889.712697689682,
          12566.796742685616,
          14033.049346148844,
          10318.850164471018,
          15966.462006373595,
          6215.83015001654,
          8117.662659986167,
          17946.319043832467,
          8725.839553626018,
          19055.49842916061,
          10061.34602023754,
          11136.572125017197,
          3386.8344908802446,
          10077.107547620239,
          2821.46297960273,
          6842.720392695759,
          7792.6150951340605,
          11139.235130014042,
          5273.721011056039,
          7452.7400894650955,
          5856.684733444355,
          4670.332901891223,
          6493.999420568173,
          4846.531137003557,
          7139.537470406643,
          6266.763691266131,
          10144.97531769832,
          11063.37653820426,
          3192.8288664944193,
          2907.8665150859397,
          10960.9584335613,
          3133.3284738164143,
          15490.982625616025,
          7152.626633923621,
          9472.652180415565,
          7742.4122244315495,
          13348.02536067606,
          3692.601526502825,
          16299.344541393913,
          6466.624334548335,
          15110.103830230943,
          6801.59049788267,
          11196.372804713603,
          9192.377284230573,
          13303.664616985061,
          7572.0070790810405,
          6575.631292650289,
          2863.615432964562,
          6399.662684306874,
          10098.888185676251,
          9660.563179909841,
          7303.076166808279,
          6475.027705995948,
          8443.711096983974,
          11922.462939936797,
          1037.9204842617112,
          14144.29881507648,
          3682.184615300501,
          7796.4639526722885,
          2117.861217176341,
          8934.688707268213,
          11559.018728175062,
          17424.71203341205,
          5686.727141257956,
          14996.830308548862,
          4136.813404103945,
          5157.721057851124,
          9460.198371162976,
          9680.28498608806,
          10050.602568595903,
          7744.569520969397,
          4250.455531142956,
          1897.6435552759099,
          9240.412864565142,
          10583.166195502328,
          16091.782980227814,
          5423.289453236517,
          5373.6229597735955,
          7318.61588924175,
          3465.1469064104863,
          12056.166285751879,
          8206.550417803675,
          9000.284262655328,
          4718.440792407404,
          2878.6042031879065,
          12192.653492921927,
          4167.698760080001,
          12156.993203152942,
          6448.993072177649,
          3129.076166151448,
          5301.645361079514,
          4852.929429917812,
          6347.094300054227,
          7206.311816230095,
          9909.185246427705,
          10782.236029628268,
          9358.119776765825,
          8234.62093484372,
          4237.498701045918,
          1484.8257813994942,
          8402.867063485053,
          8512.45141016631,
          4657.589887205573,
          8794.998066643708,
          5869.479389335615,
          6143.908937291482,
          5000.554922495208,
          5605.620539839292,
          6137.099696818401,
          7772.758815473624,
          4403.48513711339,
          7028.731663848568,
          7130.453438437148,
          8685.489201184255,
          11503.052256507823,
          4770.326433290768,
          6236.759556910975,
          1912.1351020395948,
          4830.033949478487,
          8320.516941305774,
          6570.8736628498355,
          9636.06819623639,
          2548.0837902053245,
          5440.932808670474,
          11574.024630638625,
          8163.743026247951,
          11371.916043553665,
          11497.841261371708,
          9378.531924074485,
          7218.774719989402,
          17636.123521183465,
          4915.158959230952,
          16429.45005841468,
          7247.267989044203,
          7228.706659540734,
          2489.3336432378806,
          15051.182729624223,
          4145.691931319487,
          17141.749059403395,
          5973.210520862373,
          12325.752129381008,
          3953.189989108106,
          6845.181682630026,
          6183.535587877415,
          11484.501343788588,
          6085.612276338463,
          8225.226543140318,
          1641.2273089209039,
          9401.129212593552,
          10814.261794926098,
          10299.553806165697,
          6837.04210284473,
          6010.574347151931,
          5943.130189942604,
          4438.287555772999,
          9263.652461501404,
          7490.432458078874,
          5210.833740284028,
          10427.663742979761,
          2536.9841084044647,
          8089.847260859179,
          8296.38301537406,
          10974.653211813002,
          6299.342289585515,
          6768.506012970169,
          6247.521096150691,
          5333.961097886747,
          9022.721386638574,
          3407.037217006596,
          7383.68742984342,
          4737.897025512495,
          8691.899945545985,
          3259.161480126894,
          4367.77164763265,
          7939.610461074879,
          8991.577228982987,
          8292.902701043095,
          7870.938603717008,
          11169.653974045099,
          10332.308692397091,
          8384.749194689897,
          7802.843451703335,
          7176.151819605428,
          3953.553740332576,
          15410.542037630858,
          5345.2878926440735,
          11193.628706868567,
          6719.624344207002,
          6977.075634201524,
          10422.925580472089,
          13218.93768001793,
          9097.499622985031,
          14201.791735141924,
          11054.146736960956,
          12656.860920801879,
          19117.94382999659,
          11850.209085192531,
          12817.078506008256,
          9937.476268577671,
          10680.562819325292,
          2291.378467218571,
          11795.247581665119,
          1608.1024073844771,
          15863.06512639505,
          2983.329953673846,
          8806.141280308946,
          2984.965143547896,
          5332.060478041802,
          8512.496011577497,
          3700.8392790064777,
          10753.510834889468,
          4159.861046094246,
          7949.103490336352,
          5387.923859171513,
          11785.205888225117,
          2727.192966935323,
          14424.459763115525,
          9371.394740600752,
          7747.8038046191,
          12688.765046625778,
          13077.548214403882,
          7653.18070817919,
          10884.730381825286,
          2231.327435052875,
          3147.5724004714502,
          9905.27795866059,
          3243.617307271685,
          11250.077835394735,
          11815.207852756823,
          2631.738213605809,
          778.3480412051899,
          8666.404639315753,
          6378.471676965858,
          9891.998399251985,
          11005.30938323692,
          1984.9605895425977,
          5486.534860729968,
          11689.071792909,
          8412.228589189901,
          7986.538812374437,
          6204.067689061689,
          5168.791586123363,
          4661.499364265189,
          7833.536235204031,
          10170.763308830732,
          10762.728099738362,
          8751.673625979798,
          8252.911911725409,
          4210.753049086229,
          12057.73646106059,
          7250.44754840453,
          11936.097237021597,
          8088.457062137767,
          4466.225569114205,
          3048.553413987931,
          4836.171553228478,
          1649.7532367080476,
          8069.127940290755,
          2310.7074637375467,
          7988.040142278175,
          5137.889135661207,
          6048.768819174224,
          7082.643929027231,
          6792.317389639548,
          5962.365882909255,
          4282.651713384353,
          7469.336463339575,
          5987.0022862849855,
          7395.102382055735,
          8846.797641858057,
          3065.0603885519167,
          4240.680644384036,
          4416.458907483202,
          11101.152845928716,
          6562.392991040644,
          5328.660213830198,
          9679.666575871506,
          7183.59764770231,
          8703.518078207939,
          10295.367520265598,
          11848.61025008743,
          5686.20555383204,
          6001.256618727843,
          9023.26199697405,
          2792.9179095496834,
          10864.650647919663,
          2662.3436234226792,
          7389.0342984583585,
          2665.7399631563503,
          8532.468005239087,
          783.374702409885,
          10106.576807571922,
          2832.372710473097,
          8181.10381777317,
          2668.2842024152374,
          5878.388831468323,
          2632.3939308941003,
          3230.472556243974,
          5181.981379801236,
          741.7892687358332,
          3877.17494049719,
          2585.469340455301,
          6567.694821653191,
          5192.447489354605,
          6554.4402084186195,
          2890.0217785426594,
          2789.054533372367,
          3268.5516239653775,
          6886.971341642615,
          6746.37114646885,
          8186.37766276632,
          9328.496670285787,
          4284.927772210877,
          2460.53196804301,
          7088.006098527142,
          7710.848096413584,
          5409.881641365318,
          6157.021465133739,
          5713.519973192403,
          6210.104437110405,
          11188.135919057304,
          10297.544874155283,
          8282.82535004171,
          11715.331264095972,
          8635.086245107697,
          3694.773097188975,
          2076.7631465007626,
          4321.419624433995,
          10184.646330153535,
          6776.462544301933,
          8937.739173792737,
          5001.926445664735,
          3713.989151511678,
          5623.571716153098,
          7246.25990830844,
          2452.8853861001717,
          5067.477396956694,
          3118.779705531972,
          7865.466501904741,
          8137.1836346811,
          3431.1243106880675,
          5332.909707257497,
          3819.388359387703,
          10478.036274413986,
          1917.902206951927
         ],
         "yaxis": "y"
        }
       ],
       "layout": {
        "legend": {
         "tracegroupgap": 0
        },
        "margin": {
         "t": 60
        },
        "template": {
         "data": {
          "bar": [
           {
            "error_x": {
             "color": "#2a3f5f"
            },
            "error_y": {
             "color": "#2a3f5f"
            },
            "marker": {
             "line": {
              "color": "#E5ECF6",
              "width": 0.5
             },
             "pattern": {
              "fillmode": "overlay",
              "size": 10,
              "solidity": 0.2
             }
            },
            "type": "bar"
           }
          ],
          "barpolar": [
           {
            "marker": {
             "line": {
              "color": "#E5ECF6",
              "width": 0.5
             },
             "pattern": {
              "fillmode": "overlay",
              "size": 10,
              "solidity": 0.2
             }
            },
            "type": "barpolar"
           }
          ],
          "carpet": [
           {
            "aaxis": {
             "endlinecolor": "#2a3f5f",
             "gridcolor": "white",
             "linecolor": "white",
             "minorgridcolor": "white",
             "startlinecolor": "#2a3f5f"
            },
            "baxis": {
             "endlinecolor": "#2a3f5f",
             "gridcolor": "white",
             "linecolor": "white",
             "minorgridcolor": "white",
             "startlinecolor": "#2a3f5f"
            },
            "type": "carpet"
           }
          ],
          "choropleth": [
           {
            "colorbar": {
             "outlinewidth": 0,
             "ticks": ""
            },
            "type": "choropleth"
           }
          ],
          "contour": [
           {
            "colorbar": {
             "outlinewidth": 0,
             "ticks": ""
            },
            "colorscale": [
             [
              0,
              "#0d0887"
             ],
             [
              0.1111111111111111,
              "#46039f"
             ],
             [
              0.2222222222222222,
              "#7201a8"
             ],
             [
              0.3333333333333333,
              "#9c179e"
             ],
             [
              0.4444444444444444,
              "#bd3786"
             ],
             [
              0.5555555555555556,
              "#d8576b"
             ],
             [
              0.6666666666666666,
              "#ed7953"
             ],
             [
              0.7777777777777778,
              "#fb9f3a"
             ],
             [
              0.8888888888888888,
              "#fdca26"
             ],
             [
              1,
              "#f0f921"
             ]
            ],
            "type": "contour"
           }
          ],
          "contourcarpet": [
           {
            "colorbar": {
             "outlinewidth": 0,
             "ticks": ""
            },
            "type": "contourcarpet"
           }
          ],
          "heatmap": [
           {
            "colorbar": {
             "outlinewidth": 0,
             "ticks": ""
            },
            "colorscale": [
             [
              0,
              "#0d0887"
             ],
             [
              0.1111111111111111,
              "#46039f"
             ],
             [
              0.2222222222222222,
              "#7201a8"
             ],
             [
              0.3333333333333333,
              "#9c179e"
             ],
             [
              0.4444444444444444,
              "#bd3786"
             ],
             [
              0.5555555555555556,
              "#d8576b"
             ],
             [
              0.6666666666666666,
              "#ed7953"
             ],
             [
              0.7777777777777778,
              "#fb9f3a"
             ],
             [
              0.8888888888888888,
              "#fdca26"
             ],
             [
              1,
              "#f0f921"
             ]
            ],
            "type": "heatmap"
           }
          ],
          "heatmapgl": [
           {
            "colorbar": {
             "outlinewidth": 0,
             "ticks": ""
            },
            "colorscale": [
             [
              0,
              "#0d0887"
             ],
             [
              0.1111111111111111,
              "#46039f"
             ],
             [
              0.2222222222222222,
              "#7201a8"
             ],
             [
              0.3333333333333333,
              "#9c179e"
             ],
             [
              0.4444444444444444,
              "#bd3786"
             ],
             [
              0.5555555555555556,
              "#d8576b"
             ],
             [
              0.6666666666666666,
              "#ed7953"
             ],
             [
              0.7777777777777778,
              "#fb9f3a"
             ],
             [
              0.8888888888888888,
              "#fdca26"
             ],
             [
              1,
              "#f0f921"
             ]
            ],
            "type": "heatmapgl"
           }
          ],
          "histogram": [
           {
            "marker": {
             "pattern": {
              "fillmode": "overlay",
              "size": 10,
              "solidity": 0.2
             }
            },
            "type": "histogram"
           }
          ],
          "histogram2d": [
           {
            "colorbar": {
             "outlinewidth": 0,
             "ticks": ""
            },
            "colorscale": [
             [
              0,
              "#0d0887"
             ],
             [
              0.1111111111111111,
              "#46039f"
             ],
             [
              0.2222222222222222,
              "#7201a8"
             ],
             [
              0.3333333333333333,
              "#9c179e"
             ],
             [
              0.4444444444444444,
              "#bd3786"
             ],
             [
              0.5555555555555556,
              "#d8576b"
             ],
             [
              0.6666666666666666,
              "#ed7953"
             ],
             [
              0.7777777777777778,
              "#fb9f3a"
             ],
             [
              0.8888888888888888,
              "#fdca26"
             ],
             [
              1,
              "#f0f921"
             ]
            ],
            "type": "histogram2d"
           }
          ],
          "histogram2dcontour": [
           {
            "colorbar": {
             "outlinewidth": 0,
             "ticks": ""
            },
            "colorscale": [
             [
              0,
              "#0d0887"
             ],
             [
              0.1111111111111111,
              "#46039f"
             ],
             [
              0.2222222222222222,
              "#7201a8"
             ],
             [
              0.3333333333333333,
              "#9c179e"
             ],
             [
              0.4444444444444444,
              "#bd3786"
             ],
             [
              0.5555555555555556,
              "#d8576b"
             ],
             [
              0.6666666666666666,
              "#ed7953"
             ],
             [
              0.7777777777777778,
              "#fb9f3a"
             ],
             [
              0.8888888888888888,
              "#fdca26"
             ],
             [
              1,
              "#f0f921"
             ]
            ],
            "type": "histogram2dcontour"
           }
          ],
          "mesh3d": [
           {
            "colorbar": {
             "outlinewidth": 0,
             "ticks": ""
            },
            "type": "mesh3d"
           }
          ],
          "parcoords": [
           {
            "line": {
             "colorbar": {
              "outlinewidth": 0,
              "ticks": ""
             }
            },
            "type": "parcoords"
           }
          ],
          "pie": [
           {
            "automargin": true,
            "type": "pie"
           }
          ],
          "scatter": [
           {
            "fillpattern": {
             "fillmode": "overlay",
             "size": 10,
             "solidity": 0.2
            },
            "type": "scatter"
           }
          ],
          "scatter3d": [
           {
            "line": {
             "colorbar": {
              "outlinewidth": 0,
              "ticks": ""
             }
            },
            "marker": {
             "colorbar": {
              "outlinewidth": 0,
              "ticks": ""
             }
            },
            "type": "scatter3d"
           }
          ],
          "scattercarpet": [
           {
            "marker": {
             "colorbar": {
              "outlinewidth": 0,
              "ticks": ""
             }
            },
            "type": "scattercarpet"
           }
          ],
          "scattergeo": [
           {
            "marker": {
             "colorbar": {
              "outlinewidth": 0,
              "ticks": ""
             }
            },
            "type": "scattergeo"
           }
          ],
          "scattergl": [
           {
            "marker": {
             "colorbar": {
              "outlinewidth": 0,
              "ticks": ""
             }
            },
            "type": "scattergl"
           }
          ],
          "scattermapbox": [
           {
            "marker": {
             "colorbar": {
              "outlinewidth": 0,
              "ticks": ""
             }
            },
            "type": "scattermapbox"
           }
          ],
          "scatterpolar": [
           {
            "marker": {
             "colorbar": {
              "outlinewidth": 0,
              "ticks": ""
             }
            },
            "type": "scatterpolar"
           }
          ],
          "scatterpolargl": [
           {
            "marker": {
             "colorbar": {
              "outlinewidth": 0,
              "ticks": ""
             }
            },
            "type": "scatterpolargl"
           }
          ],
          "scatterternary": [
           {
            "marker": {
             "colorbar": {
              "outlinewidth": 0,
              "ticks": ""
             }
            },
            "type": "scatterternary"
           }
          ],
          "surface": [
           {
            "colorbar": {
             "outlinewidth": 0,
             "ticks": ""
            },
            "colorscale": [
             [
              0,
              "#0d0887"
             ],
             [
              0.1111111111111111,
              "#46039f"
             ],
             [
              0.2222222222222222,
              "#7201a8"
             ],
             [
              0.3333333333333333,
              "#9c179e"
             ],
             [
              0.4444444444444444,
              "#bd3786"
             ],
             [
              0.5555555555555556,
              "#d8576b"
             ],
             [
              0.6666666666666666,
              "#ed7953"
             ],
             [
              0.7777777777777778,
              "#fb9f3a"
             ],
             [
              0.8888888888888888,
              "#fdca26"
             ],
             [
              1,
              "#f0f921"
             ]
            ],
            "type": "surface"
           }
          ],
          "table": [
           {
            "cells": {
             "fill": {
              "color": "#EBF0F8"
             },
             "line": {
              "color": "white"
             }
            },
            "header": {
             "fill": {
              "color": "#C8D4E3"
             },
             "line": {
              "color": "white"
             }
            },
            "type": "table"
           }
          ]
         },
         "layout": {
          "annotationdefaults": {
           "arrowcolor": "#2a3f5f",
           "arrowhead": 0,
           "arrowwidth": 1
          },
          "autotypenumbers": "strict",
          "coloraxis": {
           "colorbar": {
            "outlinewidth": 0,
            "ticks": ""
           }
          },
          "colorscale": {
           "diverging": [
            [
             0,
             "#8e0152"
            ],
            [
             0.1,
             "#c51b7d"
            ],
            [
             0.2,
             "#de77ae"
            ],
            [
             0.3,
             "#f1b6da"
            ],
            [
             0.4,
             "#fde0ef"
            ],
            [
             0.5,
             "#f7f7f7"
            ],
            [
             0.6,
             "#e6f5d0"
            ],
            [
             0.7,
             "#b8e186"
            ],
            [
             0.8,
             "#7fbc41"
            ],
            [
             0.9,
             "#4d9221"
            ],
            [
             1,
             "#276419"
            ]
           ],
           "sequential": [
            [
             0,
             "#0d0887"
            ],
            [
             0.1111111111111111,
             "#46039f"
            ],
            [
             0.2222222222222222,
             "#7201a8"
            ],
            [
             0.3333333333333333,
             "#9c179e"
            ],
            [
             0.4444444444444444,
             "#bd3786"
            ],
            [
             0.5555555555555556,
             "#d8576b"
            ],
            [
             0.6666666666666666,
             "#ed7953"
            ],
            [
             0.7777777777777778,
             "#fb9f3a"
            ],
            [
             0.8888888888888888,
             "#fdca26"
            ],
            [
             1,
             "#f0f921"
            ]
           ],
           "sequentialminus": [
            [
             0,
             "#0d0887"
            ],
            [
             0.1111111111111111,
             "#46039f"
            ],
            [
             0.2222222222222222,
             "#7201a8"
            ],
            [
             0.3333333333333333,
             "#9c179e"
            ],
            [
             0.4444444444444444,
             "#bd3786"
            ],
            [
             0.5555555555555556,
             "#d8576b"
            ],
            [
             0.6666666666666666,
             "#ed7953"
            ],
            [
             0.7777777777777778,
             "#fb9f3a"
            ],
            [
             0.8888888888888888,
             "#fdca26"
            ],
            [
             1,
             "#f0f921"
            ]
           ]
          },
          "colorway": [
           "#636efa",
           "#EF553B",
           "#00cc96",
           "#ab63fa",
           "#FFA15A",
           "#19d3f3",
           "#FF6692",
           "#B6E880",
           "#FF97FF",
           "#FECB52"
          ],
          "font": {
           "color": "#2a3f5f"
          },
          "geo": {
           "bgcolor": "white",
           "lakecolor": "white",
           "landcolor": "#E5ECF6",
           "showlakes": true,
           "showland": true,
           "subunitcolor": "white"
          },
          "hoverlabel": {
           "align": "left"
          },
          "hovermode": "closest",
          "mapbox": {
           "style": "light"
          },
          "paper_bgcolor": "white",
          "plot_bgcolor": "#E5ECF6",
          "polar": {
           "angularaxis": {
            "gridcolor": "white",
            "linecolor": "white",
            "ticks": ""
           },
           "bgcolor": "#E5ECF6",
           "radialaxis": {
            "gridcolor": "white",
            "linecolor": "white",
            "ticks": ""
           }
          },
          "scene": {
           "xaxis": {
            "backgroundcolor": "#E5ECF6",
            "gridcolor": "white",
            "gridwidth": 2,
            "linecolor": "white",
            "showbackground": true,
            "ticks": "",
            "zerolinecolor": "white"
           },
           "yaxis": {
            "backgroundcolor": "#E5ECF6",
            "gridcolor": "white",
            "gridwidth": 2,
            "linecolor": "white",
            "showbackground": true,
            "ticks": "",
            "zerolinecolor": "white"
           },
           "zaxis": {
            "backgroundcolor": "#E5ECF6",
            "gridcolor": "white",
            "gridwidth": 2,
            "linecolor": "white",
            "showbackground": true,
            "ticks": "",
            "zerolinecolor": "white"
           }
          },
          "shapedefaults": {
           "line": {
            "color": "#2a3f5f"
           }
          },
          "ternary": {
           "aaxis": {
            "gridcolor": "white",
            "linecolor": "white",
            "ticks": ""
           },
           "baxis": {
            "gridcolor": "white",
            "linecolor": "white",
            "ticks": ""
           },
           "bgcolor": "#E5ECF6",
           "caxis": {
            "gridcolor": "white",
            "linecolor": "white",
            "ticks": ""
           }
          },
          "title": {
           "x": 0.05
          },
          "xaxis": {
           "automargin": true,
           "gridcolor": "white",
           "linecolor": "white",
           "ticks": "",
           "title": {
            "standoff": 15
           },
           "zerolinecolor": "white",
           "zerolinewidth": 2
          },
          "yaxis": {
           "automargin": true,
           "gridcolor": "white",
           "linecolor": "white",
           "ticks": "",
           "title": {
            "standoff": 15
           },
           "zerolinecolor": "white",
           "zerolinewidth": 2
          }
         }
        },
        "xaxis": {
         "anchor": "y",
         "domain": [
          0,
          1
         ],
         "title": {
          "text": "Frecuencia"
         },
         "type": "log"
        },
        "yaxis": {
         "anchor": "x",
         "domain": [
          0,
          1
         ],
         "title": {
          "text": "y"
         }
        }
       }
      }
     },
     "metadata": {},
     "output_type": "display_data"
    }
   ],
   "source": [
    "# 0. Parámetros de la serie de tiempo\n",
    "N = len(temp)      # Cantidad de muestras: [muestras]\n",
    "muestras = 1           # Número de muestras/horas: [muestras/h]\n",
    "\n",
    "# 1. Calcular la magnitud de la Transformada de Fourier derecha\n",
    "tf = np.abs(np.fft.rfft(temp,N))\n",
    "\n",
    "# 2. Calcular vector frecuencias (eje horizontal)\n",
    "frecs = np.fft.rfftfreq(N, d=1./muestras)\n",
    "\n",
    "# 3. Graficar\n",
    "# Como tenemos 1 muestra por hora pero la serie dura varios años\n",
    "# usaremos una escala logarítmica en el eje horizontal\n",
    "fig = px.line(x=frecs, y=tf, log_x=True)\n",
    "fig.update_layout(xaxis_title=f'Frecuencia')\n",
    "fig.show()"
   ]
  },
  {
   "cell_type": "code",
   "execution_count": 9,
   "metadata": {},
   "outputs": [
    {
     "name": "stdout",
     "output_type": "stream",
     "text": [
      "La frecuencia 0.004021 equivale a 248.6943546381497 dias\n",
      "La frecuencia 0.00134 equivale a 746.2686567164179 dias\n"
     ]
    }
   ],
   "source": [
    "frec1 = 0.004021\n",
    "frec2 = 0.001340\n",
    "\n",
    "print(f'La frecuencia {frec1} equivale a {1/frec1} dias')\n",
    "print(f'La frecuencia {frec2} equivale a {1/frec2} dias')"
   ]
  },
  {
   "cell_type": "code",
   "execution_count": 10,
   "metadata": {},
   "outputs": [
    {
     "name": "stdout",
     "output_type": "stream",
     "text": [
      "La frecuencia 0.004021 equivale a 0.680888034601368 años\n"
     ]
    }
   ],
   "source": [
    "resultado = (1/frec1)*(1/365.25)\n",
    "print(f'La frecuencia {frec1} equivale a {resultado} años')"
   ]
  },
  {
   "cell_type": "markdown",
   "metadata": {},
   "source": [
    "# Creado la variable"
   ]
  },
  {
   "cell_type": "code",
   "execution_count": 11,
   "metadata": {},
   "outputs": [
    {
     "data": {
      "text/plain": [
       "Index([1454976000.0, 1455062400.0, 1455148800.0, 1455235200.0, 1455321600.0,\n",
       "       1455408000.0, 1455494400.0, 1455580800.0, 1455667200.0, 1455753600.0,\n",
       "       ...\n",
       "       1582588800.0, 1582675200.0, 1582761600.0, 1582848000.0, 1582934400.0,\n",
       "       1583020800.0, 1583107200.0, 1583193600.0, 1583280000.0, 1583366400.0],\n",
       "      dtype='float64', name='datetime', length=1499)"
      ]
     },
     "execution_count": 11,
     "metadata": {},
     "output_type": "execute_result"
    }
   ],
   "source": [
    "# Codificar cada combinación AAAA-MM-DD HH:MM:SS a su representación\n",
    "# en segundos\n",
    "tiempo_s = df_coin.index.map(pd.Timestamp.timestamp)\n",
    "tiempo_s"
   ]
  },
  {
   "cell_type": "code",
   "execution_count": 12,
   "metadata": {},
   "outputs": [
    {
     "data": {
      "text/plain": [
       "<matplotlib.lines.Line2D at 0x18ede00c140>"
      ]
     },
     "execution_count": 12,
     "metadata": {},
     "output_type": "execute_result"
    },
    {
     "data": {
      "image/png": "[encoded data removed]",
      "text/plain": [
       "<Figure size 640x480 with 1 Axes>"
      ]
     },
     "metadata": {},
     "output_type": "display_data"
    }
   ],
   "source": [
    "# Definir 1 día en segundos como 24 horas x 60 min x 60 s\n",
    "dia = 24 * 60 * 60\n",
    "year = (365.2425) * dia / resultado  # Valor de un año en segundos\n",
    "# Representar el día senoidal y cosenoidalmente\n",
    "# La frecuencia de la función será 1/día\n",
    "\n",
    "# Representar la hora con senos y cosenos\n",
    "year_sin = np.sin(tiempo_s * (2 * np.pi / year))\n",
    "year_cos = np.cos(tiempo_s * (2 * np.pi / year))\n",
    "\n",
    "# Graficar 2 días (48 horas)\n",
    "fig, ax = plt.subplots()\n",
    "plt.plot(np.array(year_sin))\n",
    "plt.plot(np.array(year_cos))\n",
    "plt.xlabel(\"Tiempo [horas]\")\n",
    "plt.title(\"Representación senoidal/cosenoidal del año\")\n",
    "\n",
    "# Dibujar línea vertical en 24 horas\n",
    "ax.axvline(24, color=\"k\", linestyle=\"--\", alpha=0.8)"
   ]
  },
  {
   "cell_type": "markdown",
   "metadata": {},
   "source": [
    "# Preparacion"
   ]
  },
  {
   "cell_type": "code",
   "execution_count": 13,
   "metadata": {},
   "outputs": [],
   "source": [
    "df_coin.drop(columns=[\"name\",\"id\",\"serialId\",\"symbol\",\"slug\"], inplace=True)"
   ]
  },
  {
   "cell_type": "code",
   "execution_count": 14,
   "metadata": {},
   "outputs": [
    {
     "data": {
      "text/html": [
       "<div>\n",
       "<style scoped>\n",
       "    .dataframe tbody tr th:only-of-type {\n",
       "        vertical-align: middle;\n",
       "    }\n",
       "\n",
       "    .dataframe tbody tr th {\n",
       "        vertical-align: top;\n",
       "    }\n",
       "\n",
       "    .dataframe thead th {\n",
       "        text-align: right;\n",
       "    }\n",
       "</style>\n",
       "<table border=\"1\" class=\"dataframe\">\n",
       "  <thead>\n",
       "    <tr style=\"text-align: right;\">\n",
       "      <th></th>\n",
       "      <th>open</th>\n",
       "      <th>high</th>\n",
       "      <th>low</th>\n",
       "      <th>close</th>\n",
       "      <th>volume</th>\n",
       "      <th>change_open</th>\n",
       "      <th>change_high</th>\n",
       "      <th>change_low</th>\n",
       "      <th>change_close</th>\n",
       "      <th>change_volume</th>\n",
       "      <th>...</th>\n",
       "      <th>bitcoin_low</th>\n",
       "      <th>bitcoin_close</th>\n",
       "      <th>bitcoin_volume</th>\n",
       "      <th>bitcoin_change_open</th>\n",
       "      <th>bitcoin_change_high</th>\n",
       "      <th>bitcoin_change_low</th>\n",
       "      <th>bitcoin_change_close</th>\n",
       "      <th>bitcoin_change_volume</th>\n",
       "      <th>year_sin</th>\n",
       "      <th>year_cos</th>\n",
       "    </tr>\n",
       "    <tr>\n",
       "      <th>datetime</th>\n",
       "      <th></th>\n",
       "      <th></th>\n",
       "      <th></th>\n",
       "      <th></th>\n",
       "      <th></th>\n",
       "      <th></th>\n",
       "      <th></th>\n",
       "      <th></th>\n",
       "      <th></th>\n",
       "      <th></th>\n",
       "      <th></th>\n",
       "      <th></th>\n",
       "      <th></th>\n",
       "      <th></th>\n",
       "      <th></th>\n",
       "      <th></th>\n",
       "      <th></th>\n",
       "      <th></th>\n",
       "      <th></th>\n",
       "      <th></th>\n",
       "      <th></th>\n",
       "    </tr>\n",
       "  </thead>\n",
       "  <tbody>\n",
       "    <tr>\n",
       "      <th>2016-02-09</th>\n",
       "      <td>0.000547</td>\n",
       "      <td>0.000579</td>\n",
       "      <td>0.000543</td>\n",
       "      <td>0.000568</td>\n",
       "      <td>151.877384</td>\n",
       "      <td>0.003131</td>\n",
       "      <td>0.061787</td>\n",
       "      <td>-0.003744</td>\n",
       "      <td>0.042246</td>\n",
       "      <td>11.091772</td>\n",
       "      <td>...</td>\n",
       "      <td>371.134725</td>\n",
       "      <td>374.419881</td>\n",
       "      <td>4.221380e+08</td>\n",
       "      <td>-0.009152</td>\n",
       "      <td>-0.011700</td>\n",
       "      <td>0.000076</td>\n",
       "      <td>0.003614</td>\n",
       "      <td>-0.070071</td>\n",
       "      <td>0.621485</td>\n",
       "      <td>-0.783426</td>\n",
       "    </tr>\n",
       "    <tr>\n",
       "      <th>2016-02-10</th>\n",
       "      <td>0.000542</td>\n",
       "      <td>0.000612</td>\n",
       "      <td>0.000516</td>\n",
       "      <td>0.000577</td>\n",
       "      <td>321.547248</td>\n",
       "      <td>-0.009640</td>\n",
       "      <td>0.056935</td>\n",
       "      <td>-0.049481</td>\n",
       "      <td>0.015598</td>\n",
       "      <td>1.117150</td>\n",
       "      <td>...</td>\n",
       "      <td>373.279047</td>\n",
       "      <td>380.798141</td>\n",
       "      <td>6.877410e+08</td>\n",
       "      <td>0.002347</td>\n",
       "      <td>0.019627</td>\n",
       "      <td>0.005778</td>\n",
       "      <td>0.017035</td>\n",
       "      <td>0.629185</td>\n",
       "      <td>0.612267</td>\n",
       "      <td>-0.790651</td>\n",
       "    </tr>\n",
       "    <tr>\n",
       "      <th>2016-02-11</th>\n",
       "      <td>0.000540</td>\n",
       "      <td>0.000561</td>\n",
       "      <td>0.000524</td>\n",
       "      <td>0.000561</td>\n",
       "      <td>244.764341</td>\n",
       "      <td>-0.002907</td>\n",
       "      <td>-0.082669</td>\n",
       "      <td>0.015362</td>\n",
       "      <td>-0.027431</td>\n",
       "      <td>-0.238792</td>\n",
       "      <td>...</td>\n",
       "      <td>373.702775</td>\n",
       "      <td>379.643758</td>\n",
       "      <td>4.435501e+08</td>\n",
       "      <td>0.014482</td>\n",
       "      <td>-0.001928</td>\n",
       "      <td>0.001135</td>\n",
       "      <td>-0.003031</td>\n",
       "      <td>-0.355062</td>\n",
       "      <td>0.602964</td>\n",
       "      <td>-0.797769</td>\n",
       "    </tr>\n",
       "  </tbody>\n",
       "</table>\n",
       "<p>3 rows × 22 columns</p>\n",
       "</div>"
      ],
      "text/plain": [
       "                open      high       low     close      volume  change_open  \\\n",
       "datetime                                                                      \n",
       "2016-02-09  0.000547  0.000579  0.000543  0.000568  151.877384     0.003131   \n",
       "2016-02-10  0.000542  0.000612  0.000516  0.000577  321.547248    -0.009640   \n",
       "2016-02-11  0.000540  0.000561  0.000524  0.000561  244.764341    -0.002907   \n",
       "\n",
       "            change_high  change_low  change_close  change_volume  ...  \\\n",
       "datetime                                                          ...   \n",
       "2016-02-09     0.061787   -0.003744      0.042246      11.091772  ...   \n",
       "2016-02-10     0.056935   -0.049481      0.015598       1.117150  ...   \n",
       "2016-02-11    -0.082669    0.015362     -0.027431      -0.238792  ...   \n",
       "\n",
       "            bitcoin_low  bitcoin_close  bitcoin_volume  bitcoin_change_open  \\\n",
       "datetime                                                                      \n",
       "2016-02-09   371.134725     374.419881    4.221380e+08            -0.009152   \n",
       "2016-02-10   373.279047     380.798141    6.877410e+08             0.002347   \n",
       "2016-02-11   373.702775     379.643758    4.435501e+08             0.014482   \n",
       "\n",
       "            bitcoin_change_high  bitcoin_change_low  bitcoin_change_close  \\\n",
       "datetime                                                                    \n",
       "2016-02-09            -0.011700            0.000076              0.003614   \n",
       "2016-02-10             0.019627            0.005778              0.017035   \n",
       "2016-02-11            -0.001928            0.001135             -0.003031   \n",
       "\n",
       "            bitcoin_change_volume  year_sin  year_cos  \n",
       "datetime                                               \n",
       "2016-02-09              -0.070071  0.621485 -0.783426  \n",
       "2016-02-10               0.629185  0.612267 -0.790651  \n",
       "2016-02-11              -0.355062  0.602964 -0.797769  \n",
       "\n",
       "[3 rows x 22 columns]"
      ]
     },
     "execution_count": 14,
     "metadata": {},
     "output_type": "execute_result"
    }
   ],
   "source": [
    "df_coin['year_sin'] = np.sin(tiempo_s * (2 * np.pi / year))\n",
    "df_coin['year_cos'] = np.cos(tiempo_s * (2 * np.pi / year))\n",
    "df_coin.head(3)"
   ]
  },
  {
   "cell_type": "code",
   "execution_count": 15,
   "metadata": {},
   "outputs": [
    {
     "name": "stdout",
     "output_type": "stream",
     "text": [
      "Index(['open', 'high', 'low', 'close', 'volume', 'change_open', 'change_high',\n",
      "       'change_low', 'change_close', 'change_volume', 'bitcoin_open',\n",
      "       'bitcoin_high', 'bitcoin_low', 'bitcoin_close', 'bitcoin_volume',\n",
      "       'bitcoin_change_open', 'bitcoin_change_high', 'bitcoin_change_low',\n",
      "       'bitcoin_change_close', 'bitcoin_change_volume', 'year_sin',\n",
      "       'year_cos'],\n",
      "      dtype='object')\n"
     ]
    }
   ],
   "source": [
    "#Variables for training\n",
    "# numerical variables\n",
    "cols = df_coin.select_dtypes(include=[np.number]).columns\n",
    "print(cols) "
   ]
  },
  {
   "cell_type": "code",
   "execution_count": 16,
   "metadata": {},
   "outputs": [],
   "source": [
    "cols = [\n",
    "    # \"bitcoin_change_open\",\n",
    "    # \"bitcoin_change_high\",\n",
    "    # \"bitcoin_change_low\",\n",
    "    # \"bitcoin_change_close\",\n",
    "    # \"bitcoin_change_volume\",\n",
    "    \"year_sin\",\n",
    "    \"year_cos\",\n",
    "    # \"change_open\",\n",
    "    # \"change_high\",\n",
    "    # \"change_low\",\n",
    "    # \"change_close\",\n",
    "    # \"change_volume\",\n",
    "    \n",
    "    # \"bitcoin_open\",\n",
    "    # \"bitcoin_high\",\n",
    "    # \"bitcoin_low\",\n",
    "    # \"bitcoin_close\",\n",
    "    # \"bitcoin_volume\",\n",
    "    \"open\",\n",
    "    \"high\",\n",
    "    \"low\",\n",
    "    \"volume\",\n",
    "    \"close\",\n",
    "]"
   ]
  },
  {
   "cell_type": "code",
   "execution_count": 17,
   "metadata": {},
   "outputs": [
    {
     "name": "stdout",
     "output_type": "stream",
     "text": [
      "0 year_sin\n",
      "1 year_cos\n",
      "2 open\n",
      "3 high\n",
      "4 low\n",
      "5 volume\n",
      "6 close\n"
     ]
    }
   ],
   "source": [
    "for i, col in enumerate(cols):\n",
    "    print(i,col)"
   ]
  },
  {
   "cell_type": "code",
   "execution_count": 18,
   "metadata": {},
   "outputs": [
    {
     "data": {
      "text/html": [
       "<div>\n",
       "<style scoped>\n",
       "    .dataframe tbody tr th:only-of-type {\n",
       "        vertical-align: middle;\n",
       "    }\n",
       "\n",
       "    .dataframe tbody tr th {\n",
       "        vertical-align: top;\n",
       "    }\n",
       "\n",
       "    .dataframe thead th {\n",
       "        text-align: right;\n",
       "    }\n",
       "</style>\n",
       "<table border=\"1\" class=\"dataframe\">\n",
       "  <thead>\n",
       "    <tr style=\"text-align: right;\">\n",
       "      <th></th>\n",
       "      <th>year_sin</th>\n",
       "      <th>year_cos</th>\n",
       "      <th>open</th>\n",
       "      <th>high</th>\n",
       "      <th>low</th>\n",
       "      <th>volume</th>\n",
       "      <th>close</th>\n",
       "    </tr>\n",
       "    <tr>\n",
       "      <th>datetime</th>\n",
       "      <th></th>\n",
       "      <th></th>\n",
       "      <th></th>\n",
       "      <th></th>\n",
       "      <th></th>\n",
       "      <th></th>\n",
       "      <th></th>\n",
       "    </tr>\n",
       "  </thead>\n",
       "  <tbody>\n",
       "    <tr>\n",
       "      <th>2016-02-09</th>\n",
       "      <td>0.621485</td>\n",
       "      <td>-0.783426</td>\n",
       "      <td>0.000547</td>\n",
       "      <td>0.000579</td>\n",
       "      <td>0.000543</td>\n",
       "      <td>151.877384</td>\n",
       "      <td>0.000568</td>\n",
       "    </tr>\n",
       "    <tr>\n",
       "      <th>2016-02-10</th>\n",
       "      <td>0.612267</td>\n",
       "      <td>-0.790651</td>\n",
       "      <td>0.000542</td>\n",
       "      <td>0.000612</td>\n",
       "      <td>0.000516</td>\n",
       "      <td>321.547248</td>\n",
       "      <td>0.000577</td>\n",
       "    </tr>\n",
       "    <tr>\n",
       "      <th>2016-02-11</th>\n",
       "      <td>0.602964</td>\n",
       "      <td>-0.797769</td>\n",
       "      <td>0.000540</td>\n",
       "      <td>0.000561</td>\n",
       "      <td>0.000524</td>\n",
       "      <td>244.764341</td>\n",
       "      <td>0.000561</td>\n",
       "    </tr>\n",
       "    <tr>\n",
       "      <th>2016-02-12</th>\n",
       "      <td>0.593578</td>\n",
       "      <td>-0.804776</td>\n",
       "      <td>0.000558</td>\n",
       "      <td>0.000880</td>\n",
       "      <td>0.000558</td>\n",
       "      <td>419.989658</td>\n",
       "      <td>0.000880</td>\n",
       "    </tr>\n",
       "    <tr>\n",
       "      <th>2016-02-13</th>\n",
       "      <td>0.584111</td>\n",
       "      <td>-0.811674</td>\n",
       "      <td>0.000840</td>\n",
       "      <td>0.001172</td>\n",
       "      <td>0.000707</td>\n",
       "      <td>2369.789614</td>\n",
       "      <td>0.001069</td>\n",
       "    </tr>\n",
       "    <tr>\n",
       "      <th>...</th>\n",
       "      <td>...</td>\n",
       "      <td>...</td>\n",
       "      <td>...</td>\n",
       "      <td>...</td>\n",
       "      <td>...</td>\n",
       "      <td>...</td>\n",
       "      <td>...</td>\n",
       "    </tr>\n",
       "    <tr>\n",
       "      <th>2020-03-01</th>\n",
       "      <td>0.830670</td>\n",
       "      <td>0.556765</td>\n",
       "      <td>0.026979</td>\n",
       "      <td>0.030872</td>\n",
       "      <td>0.026729</td>\n",
       "      <td>913297.851168</td>\n",
       "      <td>0.028325</td>\n",
       "    </tr>\n",
       "    <tr>\n",
       "      <th>2020-03-02</th>\n",
       "      <td>0.837134</td>\n",
       "      <td>0.546997</td>\n",
       "      <td>0.028118</td>\n",
       "      <td>0.030428</td>\n",
       "      <td>0.028118</td>\n",
       "      <td>104528.176121</td>\n",
       "      <td>0.030044</td>\n",
       "    </tr>\n",
       "    <tr>\n",
       "      <th>2020-03-03</th>\n",
       "      <td>0.843484</td>\n",
       "      <td>0.537154</td>\n",
       "      <td>0.030152</td>\n",
       "      <td>0.030436</td>\n",
       "      <td>0.029141</td>\n",
       "      <td>60722.782486</td>\n",
       "      <td>0.029415</td>\n",
       "    </tr>\n",
       "    <tr>\n",
       "      <th>2020-03-04</th>\n",
       "      <td>0.849718</td>\n",
       "      <td>0.527238</td>\n",
       "      <td>0.029195</td>\n",
       "      <td>0.031548</td>\n",
       "      <td>0.028749</td>\n",
       "      <td>86797.282941</td>\n",
       "      <td>0.029773</td>\n",
       "    </tr>\n",
       "    <tr>\n",
       "      <th>2020-03-05</th>\n",
       "      <td>0.855835</td>\n",
       "      <td>0.517249</td>\n",
       "      <td>0.029951</td>\n",
       "      <td>0.031351</td>\n",
       "      <td>0.029753</td>\n",
       "      <td>55091.455863</td>\n",
       "      <td>0.030290</td>\n",
       "    </tr>\n",
       "  </tbody>\n",
       "</table>\n",
       "<p>1499 rows × 7 columns</p>\n",
       "</div>"
      ],
      "text/plain": [
       "            year_sin  year_cos      open      high       low         volume  \\\n",
       "datetime                                                                      \n",
       "2016-02-09  0.621485 -0.783426  0.000547  0.000579  0.000543     151.877384   \n",
       "2016-02-10  0.612267 -0.790651  0.000542  0.000612  0.000516     321.547248   \n",
       "2016-02-11  0.602964 -0.797769  0.000540  0.000561  0.000524     244.764341   \n",
       "2016-02-12  0.593578 -0.804776  0.000558  0.000880  0.000558     419.989658   \n",
       "2016-02-13  0.584111 -0.811674  0.000840  0.001172  0.000707    2369.789614   \n",
       "...              ...       ...       ...       ...       ...            ...   \n",
       "2020-03-01  0.830670  0.556765  0.026979  0.030872  0.026729  913297.851168   \n",
       "2020-03-02  0.837134  0.546997  0.028118  0.030428  0.028118  104528.176121   \n",
       "2020-03-03  0.843484  0.537154  0.030152  0.030436  0.029141   60722.782486   \n",
       "2020-03-04  0.849718  0.527238  0.029195  0.031548  0.028749   86797.282941   \n",
       "2020-03-05  0.855835  0.517249  0.029951  0.031351  0.029753   55091.455863   \n",
       "\n",
       "               close  \n",
       "datetime              \n",
       "2016-02-09  0.000568  \n",
       "2016-02-10  0.000577  \n",
       "2016-02-11  0.000561  \n",
       "2016-02-12  0.000880  \n",
       "2016-02-13  0.001069  \n",
       "...              ...  \n",
       "2020-03-01  0.028325  \n",
       "2020-03-02  0.030044  \n",
       "2020-03-03  0.029415  \n",
       "2020-03-04  0.029773  \n",
       "2020-03-05  0.030290  \n",
       "\n",
       "[1499 rows x 7 columns]"
      ]
     },
     "execution_count": 18,
     "metadata": {},
     "output_type": "execute_result"
    }
   ],
   "source": [
    "# Reorganize columns\n",
    "df_coin = df_coin[cols]\n",
    "df_coin"
   ]
  },
  {
   "cell_type": "markdown",
   "metadata": {},
   "source": [
    "Preparamos los datos para series de tiempo"
   ]
  },
  {
   "cell_type": "code",
   "execution_count": 19,
   "metadata": {},
   "outputs": [
    {
     "name": "stdout",
     "output_type": "stream",
     "text": [
      "Tamaño set de entrenamiento: (1199, 7)\n",
      "Tamaño set de validación: (149, 7)\n",
      "Tamaño set de prueba: (151, 7)\n"
     ]
    }
   ],
   "source": [
    "# Función para generar las particiones preservando las características\n",
    "# de la serie de tiempo\n",
    "def train_val_test_split(dataframe, tr_size=0.8, vl_size=0.1):\n",
    "    # Definir número de datos en cada subserie\n",
    "    N = dataframe.shape[0]\n",
    "    Ntrain = int(tr_size*N)  # Número de datos de entrenamiento\n",
    "    Nval = int(vl_size*N)    # Número de datos de validación\n",
    "\n",
    "    # Realizar partición\n",
    "    train = dataframe[0:Ntrain]\n",
    "    val = dataframe[Ntrain:Ntrain+Nval]\n",
    "    test = dataframe[Ntrain+Nval:]\n",
    "\n",
    "    return train, val, test\n",
    "\n",
    "# Prueba de la función\n",
    "tr, vl, ts = train_val_test_split(df_coin[cols])\n",
    "\n",
    "print(f'Tamaño set de entrenamiento: {tr.shape}')\n",
    "print(f'Tamaño set de validación: {vl.shape}')\n",
    "print(f'Tamaño set de prueba: {ts.shape}')"
   ]
  },
  {
   "cell_type": "code",
   "execution_count": 20,
   "metadata": {},
   "outputs": [
    {
     "data": {
      "image/png": "[encoded data removed]",
      "text/plain": [
       "<Figure size 1600x500 with 1 Axes>"
      ]
     },
     "metadata": {},
     "output_type": "display_data"
    }
   ],
   "source": [
    "covar = 3 # Índice de la covariable (columna del dataset) a graficar\n",
    "col = df_coin.columns[covar]\n",
    "\n",
    "# Dibujar los sets de entrenamiento/validación/prueba para la covariable\n",
    "fig, ax = plt.subplots(figsize = (16,5))\n",
    "ax.plot(tr[col], label='Train')\n",
    "ax.plot(vl[col], label='Val')\n",
    "ax.plot(ts[col], label='Test')\n",
    "ax.set_title(f'Covariable: {col}')\n",
    "plt.legend();"
   ]
  },
  {
   "cell_type": "code",
   "execution_count": 21,
   "metadata": {},
   "outputs": [],
   "source": [
    "def crear_dataset_supervisado(array, input_length, output_length):\n",
    "    '''Permite crear un dataset con las entradas (X) y salidas (Y)\n",
    "    requeridas por la Red LSTM.\n",
    "\n",
    "    Parámetros:\n",
    "    - array: arreglo numpy de tamaño N x features (N: cantidad de datos,\n",
    "      f: cantidad de features)\n",
    "    - input_length: instantes de tiempo consecutivos de la(s) serie(s) de tiempo\n",
    "      usados para alimentar el modelo\n",
    "    - output_length: instantes de tiempo a pronosticar (salida del modelo)\n",
    "    '''\n",
    "\n",
    "    # Inicialización\n",
    "    X, Y = [], []    # Listados que contendrán los datos de entrada y salida del modelo\n",
    "    shape = array.shape\n",
    "    if len(shape)==1: # Si tenemos sólo una serie (univariado)\n",
    "        fils, cols = array.shape[0], 1\n",
    "        array = array.reshape(fils,cols)\n",
    "    else: # Multivariado <-- <--- ¡esta parte de la función se ejecuta en este caso!\n",
    "        fils, cols = array.shape\n",
    "\n",
    "    # Generar los arreglos\n",
    "    for i in range(fils-input_length-output_length):\n",
    "        X.append(array[i:i+input_length,0:cols])\n",
    "        Y.append(array[i+input_length:i+input_length+output_length,-1].reshape(output_length,1))\n",
    "\n",
    "    # Convertir listas a arreglos de NumPy\n",
    "    X = np.array(X)\n",
    "    Y = np.array(Y)\n",
    "\n",
    "    return X, Y"
   ]
  },
  {
   "cell_type": "code",
   "execution_count": 22,
   "metadata": {},
   "outputs": [
    {
     "name": "stdout",
     "output_type": "stream",
     "text": [
      "Tamaños entrada (BATCHES x INPUT_LENGTH x FEATURES) y de salida (BATCHES x OUTPUT_LENGTH x FEATURES)\n",
      "Set de entrenamiento - x_tr: (1174, 24, 7), y_tr: (1174, 1, 1)\n",
      "Set de validación - x_vl: (124, 24, 7), y_vl: (124, 1, 1)\n",
      "Set de prueba - x_ts: (126, 24, 7), y_ts: (126, 1, 1)\n"
     ]
    }
   ],
   "source": [
    "# Crear los datasets de entrenamiento, prueba y validación y verificar sus tamaños\n",
    "INPUT_LENGTH = 24   # Hiperparámetro\n",
    "OUTPUT_LENGTH = 1    # Modelo multi-step\n",
    "\n",
    "x_tr, y_tr = crear_dataset_supervisado(tr.values, INPUT_LENGTH, OUTPUT_LENGTH)\n",
    "x_vl, y_vl = crear_dataset_supervisado(vl.values, INPUT_LENGTH, OUTPUT_LENGTH)\n",
    "x_ts, y_ts = crear_dataset_supervisado(ts.values, INPUT_LENGTH, OUTPUT_LENGTH)\n",
    "\n",
    "# Imprimir información en pantalla\n",
    "print('Tamaños entrada (BATCHES x INPUT_LENGTH x FEATURES) y de salida (BATCHES x OUTPUT_LENGTH x FEATURES)')\n",
    "print(f'Set de entrenamiento - x_tr: {x_tr.shape}, y_tr: {y_tr.shape}')\n",
    "print(f'Set de validación - x_vl: {x_vl.shape}, y_vl: {y_vl.shape}')\n",
    "print(f'Set de prueba - x_ts: {x_ts.shape}, y_ts: {y_ts.shape}')"
   ]
  },
  {
   "cell_type": "markdown",
   "metadata": {},
   "source": [
    "Index(['open', 'high', 'low', 'close', 'volume', 'change_open', 'change_high',\n",
    "       'change_low', 'change_close', 'change_volume', 'bitcoin_open',\n",
    "       'bitcoin_high', 'bitcoin_low', 'bitcoin_close', 'bitcoin_volume',\n",
    "       'bitcoin_change_open', 'bitcoin_change_high', 'bitcoin_change_low',\n",
    "       'bitcoin_change_close', 'bitcoin_change_volume', 'year_sin',\n",
    "       'year_cos'],\n",
    "      dtype='object')"
   ]
  },
  {
   "cell_type": "code",
   "execution_count": 23,
   "metadata": {},
   "outputs": [],
   "source": [
    "from sklearn.preprocessing import MinMaxScaler\n",
    "\n",
    "\n",
    "def escalar_dataset(data_input, col_ref):\n",
    "    \"\"\"Escala el dataset en el rango de -1 a 1.\n",
    "\n",
    "    Entradas:\n",
    "    - data_input: diccionario con los dataset de entrada y salida del modelo\n",
    "    (data_input = {'x_tr':x_tr, 'y_tr':y_tr, 'x_vl':x_vl, 'y_vl':y_vl,\n",
    "                    'y_ts':y_ts})\n",
    "    - col_ref: parámetro adicional para especificar la columna que contiene\n",
    "      la variable a predecir\n",
    "\n",
    "\n",
    "    Retorna:\n",
    "    - data_scaled: diccionario con los datasets de entrada y salida escalados\n",
    "      (tiene la misma estructura del diccionario de entrada)\n",
    "    - scaler: el escalador usado (requerido para las predicciones)\n",
    "    \"\"\"\n",
    "\n",
    "    # *** Implementación adicional: determinar el índice de la columna\n",
    "    # que contiene la variable a predecir\n",
    "    col_ref = df_coin.columns.get_loc(col_ref)\n",
    "    # col_ref = 3\n",
    "\n",
    "    # Número de instantes de tiempo de entrada y de covariables\n",
    "    NSAMPLES = data_input[\"x_tr\"].shape[1]\n",
    "    NFEATS = data_input[\"x_tr\"].shape[2]\n",
    "\n",
    "    # Generar listado con \"scalers\" (1 por cada covariable de entrada)\n",
    "    scalers = [MinMaxScaler(feature_range=(-1, 1)) for i in range(NFEATS)]\n",
    "\n",
    "    # Arreglos que contendrán los datasets escalados\n",
    "    x_tr_s = np.zeros(data_input[\"x_tr\"].shape)\n",
    "    x_vl_s = np.zeros(data_input[\"x_vl\"].shape)\n",
    "    x_ts_s = np.zeros(data_input[\"x_ts\"].shape)\n",
    "    y_tr_s = np.zeros(data_input[\"y_tr\"].shape)\n",
    "    y_vl_s = np.zeros(data_input[\"y_vl\"].shape)\n",
    "    y_ts_s = np.zeros(data_input[\"y_ts\"].shape)\n",
    "\n",
    "    # Escalamiento: se usarán los min/max del set de entrenamiento para\n",
    "    # escalar la totalidad de los datasets\n",
    "\n",
    "    # *************************************************\n",
    "    # Escalamiento Xs: porción de código modificada para no escalar las\n",
    "    # columnas con las variables temporales (columnas 11->14)\n",
    "    # *************************************************\n",
    "    FEAT_IDS = list(range(2,7)) # + list(range(10,14))  # Columnas 0->10 + 15-16\n",
    "    for i in FEAT_IDS:\n",
    "        x_tr_s[:, :, i] = scalers[i].fit_transform(x_tr[:, :, i])\n",
    "        x_vl_s[:, :, i] = scalers[i].transform(x_vl[:, :, i])\n",
    "        x_ts_s[:, :, i] = scalers[i].transform(x_ts[:, :, i])\n",
    "\n",
    "    # *************************************************\n",
    "    # Y dejar las columnas con variables temporales (13->16) intactas\n",
    "    # *************************************************\n",
    "    FEATS_TIME = list(range(2)) # Columnas 11-14\n",
    "    x_tr_s[:, :, FEATS_TIME] = x_tr[:, :, FEATS_TIME]\n",
    "    x_vl_s[:, :, FEATS_TIME] = x_vl[:, :, FEATS_TIME]\n",
    "    x_ts_s[:, :, FEATS_TIME] = x_ts[:, :, FEATS_TIME]\n",
    "\n",
    "    # Escalamiento Ys (teniendo en cuenta \"col_ind\")\n",
    "    y_tr_s[:, :, 0] = scalers[col_ref].fit_transform(y_tr[:, :, 0])\n",
    "    y_vl_s[:, :, 0] = scalers[col_ref].transform(y_vl[:, :, 0])\n",
    "    y_ts_s[:, :, 0] = scalers[col_ref].transform(y_ts[:, :, 0])\n",
    "\n",
    "    # Conformar diccionario de salida\n",
    "    data_scaled = {\n",
    "        \"x_tr_s\": x_tr_s,\n",
    "        \"y_tr_s\": y_tr_s,\n",
    "        \"x_vl_s\": x_vl_s,\n",
    "        \"y_vl_s\": y_vl_s,\n",
    "        \"x_ts_s\": x_ts_s,\n",
    "        \"y_ts_s\": y_ts_s,\n",
    "    }\n",
    "\n",
    "    return data_scaled, scalers[col_ref]"
   ]
  },
  {
   "cell_type": "code",
   "execution_count": 24,
   "metadata": {},
   "outputs": [],
   "source": [
    "# Escalamiento del dataset con la función anterior\n",
    "\n",
    "# Crear diccionario de entrada\n",
    "data_in = {\n",
    "    'x_tr': x_tr, 'y_tr': y_tr,\n",
    "    'x_vl': x_vl, 'y_vl': y_vl,\n",
    "    'x_ts': x_ts, 'y_ts': y_ts,\n",
    "}\n",
    "\n",
    "# Y escalar (especificando la columna con la variable a predecir)\n",
    "data_s, scaler = escalar_dataset(data_in, col_ref = 'close' )\n",
    "\n",
    "# Extraer subsets escalados\n",
    "x_tr_s, y_tr_s = data_s['x_tr_s'], data_s['y_tr_s']\n",
    "x_vl_s, y_vl_s = data_s['x_vl_s'], data_s['y_vl_s']\n",
    "x_ts_s, y_ts_s = data_s['x_ts_s'], data_s['y_ts_s']"
   ]
  },
  {
   "cell_type": "markdown",
   "metadata": {},
   "source": [
    "## Modelamos"
   ]
  },
  {
   "cell_type": "code",
   "execution_count": 25,
   "metadata": {},
   "outputs": [
    {
     "data": {
      "text/html": [
       "<pre style=\"white-space:pre;overflow-x:auto;line-height:normal;font-family:Menlo,'DejaVu Sans Mono',consolas,'Courier New',monospace\"><span style=\"font-weight: bold\">Model: \"sequential\"</span>\n",
       "</pre>\n"
      ],
      "text/plain": [
       "\u001b[1mModel: \"sequential\"\u001b[0m\n"
      ]
     },
     "metadata": {},
     "output_type": "display_data"
    },
    {
     "data": {
      "text/html": [
       "<pre style=\"white-space:pre;overflow-x:auto;line-height:normal;font-family:Menlo,'DejaVu Sans Mono',consolas,'Courier New',monospace\">┏━━━━━━━━━━━━━━━━━━━━━━━━━━━━━━━━━┳━━━━━━━━━━━━━━━━━━━━━━━━┳━━━━━━━━━━━━━━━┓\n",
       "┃<span style=\"font-weight: bold\"> Layer (type)                    </span>┃<span style=\"font-weight: bold\"> Output Shape           </span>┃<span style=\"font-weight: bold\">       Param # </span>┃\n",
       "┡━━━━━━━━━━━━━━━━━━━━━━━━━━━━━━━━━╇━━━━━━━━━━━━━━━━━━━━━━━━╇━━━━━━━━━━━━━━━┩\n",
       "│ lstm (<span style=\"color: #0087ff; text-decoration-color: #0087ff\">LSTM</span>)                     │ (<span style=\"color: #00d7ff; text-decoration-color: #00d7ff\">None</span>, <span style=\"color: #00af00; text-decoration-color: #00af00\">248</span>)            │       <span style=\"color: #00af00; text-decoration-color: #00af00\">253,952</span> │\n",
       "├─────────────────────────────────┼────────────────────────┼───────────────┤\n",
       "│ dense (<span style=\"color: #0087ff; text-decoration-color: #0087ff\">Dense</span>)                   │ (<span style=\"color: #00d7ff; text-decoration-color: #00d7ff\">None</span>, <span style=\"color: #00af00; text-decoration-color: #00af00\">1</span>)              │           <span style=\"color: #00af00; text-decoration-color: #00af00\">249</span> │\n",
       "└─────────────────────────────────┴────────────────────────┴───────────────┘\n",
       "</pre>\n"
      ],
      "text/plain": [
       "┏━━━━━━━━━━━━━━━━━━━━━━━━━━━━━━━━━┳━━━━━━━━━━━━━━━━━━━━━━━━┳━━━━━━━━━━━━━━━┓\n",
       "┃\u001b[1m \u001b[0m\u001b[1mLayer (type)                   \u001b[0m\u001b[1m \u001b[0m┃\u001b[1m \u001b[0m\u001b[1mOutput Shape          \u001b[0m\u001b[1m \u001b[0m┃\u001b[1m \u001b[0m\u001b[1m      Param #\u001b[0m\u001b[1m \u001b[0m┃\n",
       "┡━━━━━━━━━━━━━━━━━━━━━━━━━━━━━━━━━╇━━━━━━━━━━━━━━━━━━━━━━━━╇━━━━━━━━━━━━━━━┩\n",
       "│ lstm (\u001b[38;5;33mLSTM\u001b[0m)                     │ (\u001b[38;5;45mNone\u001b[0m, \u001b[38;5;34m248\u001b[0m)            │       \u001b[38;5;34m253,952\u001b[0m │\n",
       "├─────────────────────────────────┼────────────────────────┼───────────────┤\n",
       "│ dense (\u001b[38;5;33mDense\u001b[0m)                   │ (\u001b[38;5;45mNone\u001b[0m, \u001b[38;5;34m1\u001b[0m)              │           \u001b[38;5;34m249\u001b[0m │\n",
       "└─────────────────────────────────┴────────────────────────┴───────────────┘\n"
      ]
     },
     "metadata": {},
     "output_type": "display_data"
    },
    {
     "data": {
      "text/html": [
       "<pre style=\"white-space:pre;overflow-x:auto;line-height:normal;font-family:Menlo,'DejaVu Sans Mono',consolas,'Courier New',monospace\"><span style=\"font-weight: bold\"> Total params: </span><span style=\"color: #00af00; text-decoration-color: #00af00\">254,201</span> (992.97 KB)\n",
       "</pre>\n"
      ],
      "text/plain": [
       "\u001b[1m Total params: \u001b[0m\u001b[38;5;34m254,201\u001b[0m (992.97 KB)\n"
      ]
     },
     "metadata": {},
     "output_type": "display_data"
    },
    {
     "data": {
      "text/html": [
       "<pre style=\"white-space:pre;overflow-x:auto;line-height:normal;font-family:Menlo,'DejaVu Sans Mono',consolas,'Courier New',monospace\"><span style=\"font-weight: bold\"> Trainable params: </span><span style=\"color: #00af00; text-decoration-color: #00af00\">254,201</span> (992.97 KB)\n",
       "</pre>\n"
      ],
      "text/plain": [
       "\u001b[1m Trainable params: \u001b[0m\u001b[38;5;34m254,201\u001b[0m (992.97 KB)\n"
      ]
     },
     "metadata": {},
     "output_type": "display_data"
    },
    {
     "data": {
      "text/html": [
       "<pre style=\"white-space:pre;overflow-x:auto;line-height:normal;font-family:Menlo,'DejaVu Sans Mono',consolas,'Courier New',monospace\"><span style=\"font-weight: bold\"> Non-trainable params: </span><span style=\"color: #00af00; text-decoration-color: #00af00\">0</span> (0.00 B)\n",
       "</pre>\n"
      ],
      "text/plain": [
       "\u001b[1m Non-trainable params: \u001b[0m\u001b[38;5;34m0\u001b[0m (0.00 B)\n"
      ]
     },
     "metadata": {},
     "output_type": "display_data"
    }
   ],
   "source": [
    "# Creación del modelo\n",
    "from tensorflow.keras.models import Sequential\n",
    "from tensorflow.keras.layers import LSTM, Dense, Input, Dropout\n",
    "from tensorflow.keras.optimizers import RMSprop, Adam\n",
    "from tensorflow.keras.callbacks import EarlyStopping\n",
    "import tensorflow as tf\n",
    "\n",
    "\n",
    "# Hiperparámetros\n",
    "N_UNITS = 248\n",
    "INPUT_SHAPE = (x_tr_s.shape[1], x_tr_s.shape[2])  # 24 (días) x K (features)\n",
    "LEARNING_RATE = 1e-6\n",
    "DROPOUT_RATE = 0.2\n",
    "\n",
    "# Definición del modelo\n",
    "modelo = Sequential()\n",
    "modelo.add(Input(shape=INPUT_SHAPE))\n",
    "modelo.add(LSTM(N_UNITS, return_sequences=False))\n",
    "# modelo.add(Dropout(DROPOUT_RATE))\n",
    "# modelo.add(LSTM(N_UNITS, return_sequences=False))\n",
    "# modelo.add(Dropout(DROPOUT_RATE))\n",
    "\n",
    "modelo.add(Dense(OUTPUT_LENGTH, activation=\"linear\"))\n",
    "\n",
    "\n",
    "# Compilación del modelo\n",
    "optimizador = RMSprop(learning_rate=LEARNING_RATE)\n",
    "modelo.compile(optimizer=optimizador, loss='mean_squared_error')\n",
    "\n",
    "# Resumen del modelo\n",
    "modelo.summary()"
   ]
  },
  {
   "cell_type": "code",
   "execution_count": 46,
   "metadata": {},
   "outputs": [
    {
     "name": "stdout",
     "output_type": "stream",
     "text": [
      "Epoch 1/50\n",
      "\u001b[1m10/10\u001b[0m \u001b[32m━━━━━━━━━━━━━━━━━━━━\u001b[0m\u001b[37m\u001b[0m \u001b[1m1s\u001b[0m 60ms/step - loss: 0.0502 - val_loss: 0.1051\n",
      "Epoch 2/50\n",
      "\u001b[1m10/10\u001b[0m \u001b[32m━━━━━━━━━━━━━━━━━━━━\u001b[0m\u001b[37m\u001b[0m \u001b[1m1s\u001b[0m 54ms/step - loss: 0.0471 - val_loss: 0.1014\n",
      "Epoch 3/50\n",
      "\u001b[1m10/10\u001b[0m \u001b[32m━━━━━━━━━━━━━━━━━━━━\u001b[0m\u001b[37m\u001b[0m \u001b[1m1s\u001b[0m 55ms/step - loss: 0.0454 - val_loss: 0.0980\n",
      "Epoch 4/50\n",
      "\u001b[1m10/10\u001b[0m \u001b[32m━━━━━━━━━━━━━━━━━━━━\u001b[0m\u001b[37m\u001b[0m \u001b[1m1s\u001b[0m 57ms/step - loss: 0.0450 - val_loss: 0.0946\n",
      "Epoch 5/50\n",
      "\u001b[1m10/10\u001b[0m \u001b[32m━━━━━━━━━━━━━━━━━━━━\u001b[0m\u001b[37m\u001b[0m \u001b[1m1s\u001b[0m 49ms/step - loss: 0.0427 - val_loss: 0.0913\n",
      "Epoch 6/50\n",
      "\u001b[1m10/10\u001b[0m \u001b[32m━━━━━━━━━━━━━━━━━━━━\u001b[0m\u001b[37m\u001b[0m \u001b[1m1s\u001b[0m 56ms/step - loss: 0.0406 - val_loss: 0.0880\n",
      "Epoch 7/50\n",
      "\u001b[1m10/10\u001b[0m \u001b[32m━━━━━━━━━━━━━━━━━━━━\u001b[0m\u001b[37m\u001b[0m \u001b[1m1s\u001b[0m 50ms/step - loss: 0.0390 - val_loss: 0.0848\n",
      "Epoch 8/50\n",
      "\u001b[1m10/10\u001b[0m \u001b[32m━━━━━━━━━━━━━━━━━━━━\u001b[0m\u001b[37m\u001b[0m \u001b[1m1s\u001b[0m 59ms/step - loss: 0.0375 - val_loss: 0.0815\n",
      "Epoch 9/50\n",
      "\u001b[1m10/10\u001b[0m \u001b[32m━━━━━━━━━━━━━━━━━━━━\u001b[0m\u001b[37m\u001b[0m \u001b[1m1s\u001b[0m 50ms/step - loss: 0.0362 - val_loss: 0.0785\n",
      "Epoch 10/50\n",
      "\u001b[1m10/10\u001b[0m \u001b[32m━━━━━━━━━━━━━━━━━━━━\u001b[0m\u001b[37m\u001b[0m \u001b[1m1s\u001b[0m 54ms/step - loss: 0.0344 - val_loss: 0.0754\n",
      "Epoch 11/50\n",
      "\u001b[1m10/10\u001b[0m \u001b[32m━━━━━━━━━━━━━━━━━━━━\u001b[0m\u001b[37m\u001b[0m \u001b[1m1s\u001b[0m 51ms/step - loss: 0.0346 - val_loss: 0.0724\n",
      "Epoch 12/50\n",
      "\u001b[1m10/10\u001b[0m \u001b[32m━━━━━━━━━━━━━━━━━━━━\u001b[0m\u001b[37m\u001b[0m \u001b[1m1s\u001b[0m 51ms/step - loss: 0.0329 - val_loss: 0.0694\n",
      "Epoch 13/50\n",
      "\u001b[1m10/10\u001b[0m \u001b[32m━━━━━━━━━━━━━━━━━━━━\u001b[0m\u001b[37m\u001b[0m \u001b[1m1s\u001b[0m 52ms/step - loss: 0.0304 - val_loss: 0.0665\n",
      "Epoch 14/50\n",
      "\u001b[1m10/10\u001b[0m \u001b[32m━━━━━━━━━━━━━━━━━━━━\u001b[0m\u001b[37m\u001b[0m \u001b[1m1s\u001b[0m 50ms/step - loss: 0.0309 - val_loss: 0.0636\n",
      "Epoch 15/50\n",
      "\u001b[1m10/10\u001b[0m \u001b[32m━━━━━━━━━━━━━━━━━━━━\u001b[0m\u001b[37m\u001b[0m \u001b[1m1s\u001b[0m 54ms/step - loss: 0.0293 - val_loss: 0.0609\n",
      "Epoch 16/50\n",
      "\u001b[1m10/10\u001b[0m \u001b[32m━━━━━━━━━━━━━━━━━━━━\u001b[0m\u001b[37m\u001b[0m \u001b[1m1s\u001b[0m 50ms/step - loss: 0.0294 - val_loss: 0.0581\n",
      "Epoch 17/50\n",
      "\u001b[1m10/10\u001b[0m \u001b[32m━━━━━━━━━━━━━━━━━━━━\u001b[0m\u001b[37m\u001b[0m \u001b[1m1s\u001b[0m 52ms/step - loss: 0.0282 - val_loss: 0.0554\n",
      "Epoch 18/50\n",
      "\u001b[1m10/10\u001b[0m \u001b[32m━━━━━━━━━━━━━━━━━━━━\u001b[0m\u001b[37m\u001b[0m \u001b[1m1s\u001b[0m 49ms/step - loss: 0.0250 - val_loss: 0.0528\n",
      "Epoch 19/50\n",
      "\u001b[1m10/10\u001b[0m \u001b[32m━━━━━━━━━━━━━━━━━━━━\u001b[0m\u001b[37m\u001b[0m \u001b[1m1s\u001b[0m 52ms/step - loss: 0.0257 - val_loss: 0.0503\n",
      "Epoch 20/50\n",
      "\u001b[1m10/10\u001b[0m \u001b[32m━━━━━━━━━━━━━━━━━━━━\u001b[0m\u001b[37m\u001b[0m \u001b[1m0s\u001b[0m 47ms/step - loss: 0.0242 - val_loss: 0.0480\n",
      "Epoch 21/50\n",
      "\u001b[1m10/10\u001b[0m \u001b[32m━━━━━━━━━━━━━━━━━━━━\u001b[0m\u001b[37m\u001b[0m \u001b[1m1s\u001b[0m 55ms/step - loss: 0.0236 - val_loss: 0.0455\n",
      "Epoch 22/50\n",
      "\u001b[1m10/10\u001b[0m \u001b[32m━━━━━━━━━━━━━━━━━━━━\u001b[0m\u001b[37m\u001b[0m \u001b[1m1s\u001b[0m 49ms/step - loss: 0.0210 - val_loss: 0.0431\n",
      "Epoch 23/50\n",
      "\u001b[1m10/10\u001b[0m \u001b[32m━━━━━━━━━━━━━━━━━━━━\u001b[0m\u001b[37m\u001b[0m \u001b[1m1s\u001b[0m 51ms/step - loss: 0.0211 - val_loss: 0.0408\n",
      "Epoch 24/50\n",
      "\u001b[1m10/10\u001b[0m \u001b[32m━━━━━━━━━━━━━━━━━━━━\u001b[0m\u001b[37m\u001b[0m \u001b[1m1s\u001b[0m 48ms/step - loss: 0.0205 - val_loss: 0.0386\n",
      "Epoch 25/50\n",
      "\u001b[1m10/10\u001b[0m \u001b[32m━━━━━━━━━━━━━━━━━━━━\u001b[0m\u001b[37m\u001b[0m \u001b[1m1s\u001b[0m 49ms/step - loss: 0.0189 - val_loss: 0.0366\n",
      "Epoch 26/50\n",
      "\u001b[1m10/10\u001b[0m \u001b[32m━━━━━━━━━━━━━━━━━━━━\u001b[0m\u001b[37m\u001b[0m \u001b[1m1s\u001b[0m 50ms/step - loss: 0.0190 - val_loss: 0.0345\n",
      "Epoch 27/50\n",
      "\u001b[1m10/10\u001b[0m \u001b[32m━━━━━━━━━━━━━━━━━━━━\u001b[0m\u001b[37m\u001b[0m \u001b[1m1s\u001b[0m 49ms/step - loss: 0.0183 - val_loss: 0.0325\n",
      "Epoch 28/50\n",
      "\u001b[1m10/10\u001b[0m \u001b[32m━━━━━━━━━━━━━━━━━━━━\u001b[0m\u001b[37m\u001b[0m \u001b[1m1s\u001b[0m 55ms/step - loss: 0.0170 - val_loss: 0.0306\n",
      "Epoch 29/50\n",
      "\u001b[1m10/10\u001b[0m \u001b[32m━━━━━━━━━━━━━━━━━━━━\u001b[0m\u001b[37m\u001b[0m \u001b[1m1s\u001b[0m 67ms/step - loss: 0.0170 - val_loss: 0.0287\n",
      "Epoch 30/50\n",
      "\u001b[1m10/10\u001b[0m \u001b[32m━━━━━━━━━━━━━━━━━━━━\u001b[0m\u001b[37m\u001b[0m \u001b[1m1s\u001b[0m 52ms/step - loss: 0.0175 - val_loss: 0.0270\n",
      "Epoch 31/50\n",
      "\u001b[1m10/10\u001b[0m \u001b[32m━━━━━━━━━━━━━━━━━━━━\u001b[0m\u001b[37m\u001b[0m \u001b[1m1s\u001b[0m 50ms/step - loss: 0.0171 - val_loss: 0.0253\n",
      "Epoch 32/50\n",
      "\u001b[1m10/10\u001b[0m \u001b[32m━━━━━━━━━━━━━━━━━━━━\u001b[0m\u001b[37m\u001b[0m \u001b[1m1s\u001b[0m 48ms/step - loss: 0.0163 - val_loss: 0.0236\n",
      "Epoch 33/50\n",
      "\u001b[1m10/10\u001b[0m \u001b[32m━━━━━━━━━━━━━━━━━━━━\u001b[0m\u001b[37m\u001b[0m \u001b[1m1s\u001b[0m 50ms/step - loss: 0.0160 - val_loss: 0.0223\n",
      "Epoch 34/50\n",
      "\u001b[1m10/10\u001b[0m \u001b[32m━━━━━━━━━━━━━━━━━━━━\u001b[0m\u001b[37m\u001b[0m \u001b[1m1s\u001b[0m 50ms/step - loss: 0.0146 - val_loss: 0.0208\n",
      "Epoch 35/50\n",
      "\u001b[1m10/10\u001b[0m \u001b[32m━━━━━━━━━━━━━━━━━━━━\u001b[0m\u001b[37m\u001b[0m \u001b[1m1s\u001b[0m 53ms/step - loss: 0.0162 - val_loss: 0.0193\n",
      "Epoch 36/50\n",
      "\u001b[1m10/10\u001b[0m \u001b[32m━━━━━━━━━━━━━━━━━━━━\u001b[0m\u001b[37m\u001b[0m \u001b[1m1s\u001b[0m 50ms/step - loss: 0.0136 - val_loss: 0.0182\n",
      "Epoch 37/50\n",
      "\u001b[1m10/10\u001b[0m \u001b[32m━━━━━━━━━━━━━━━━━━━━\u001b[0m\u001b[37m\u001b[0m \u001b[1m1s\u001b[0m 56ms/step - loss: 0.0155 - val_loss: 0.0170\n",
      "Epoch 38/50\n",
      "\u001b[1m10/10\u001b[0m \u001b[32m━━━━━━━━━━━━━━━━━━━━\u001b[0m\u001b[37m\u001b[0m \u001b[1m1s\u001b[0m 47ms/step - loss: 0.0142 - val_loss: 0.0159\n",
      "Epoch 39/50\n",
      "\u001b[1m10/10\u001b[0m \u001b[32m━━━━━━━━━━━━━━━━━━━━\u001b[0m\u001b[37m\u001b[0m \u001b[1m1s\u001b[0m 53ms/step - loss: 0.0144 - val_loss: 0.0150\n",
      "Epoch 40/50\n",
      "\u001b[1m10/10\u001b[0m \u001b[32m━━━━━━━━━━━━━━━━━━━━\u001b[0m\u001b[37m\u001b[0m \u001b[1m1s\u001b[0m 51ms/step - loss: 0.0135 - val_loss: 0.0141\n",
      "Epoch 41/50\n",
      "\u001b[1m10/10\u001b[0m \u001b[32m━━━━━━━━━━━━━━━━━━━━\u001b[0m\u001b[37m\u001b[0m \u001b[1m1s\u001b[0m 55ms/step - loss: 0.0136 - val_loss: 0.0133\n",
      "Epoch 42/50\n",
      "\u001b[1m10/10\u001b[0m \u001b[32m━━━━━━━━━━━━━━━━━━━━\u001b[0m\u001b[37m\u001b[0m \u001b[1m0s\u001b[0m 46ms/step - loss: 0.0136 - val_loss: 0.0127\n",
      "Epoch 43/50\n",
      "\u001b[1m10/10\u001b[0m \u001b[32m━━━━━━━━━━━━━━━━━━━━\u001b[0m\u001b[37m\u001b[0m \u001b[1m1s\u001b[0m 51ms/step - loss: 0.0142 - val_loss: 0.0120\n",
      "Epoch 44/50\n",
      "\u001b[1m10/10\u001b[0m \u001b[32m━━━━━━━━━━━━━━━━━━━━\u001b[0m\u001b[37m\u001b[0m \u001b[1m1s\u001b[0m 49ms/step - loss: 0.0138 - val_loss: 0.0114\n",
      "Epoch 45/50\n",
      "\u001b[1m10/10\u001b[0m \u001b[32m━━━━━━━━━━━━━━━━━━━━\u001b[0m\u001b[37m\u001b[0m \u001b[1m1s\u001b[0m 54ms/step - loss: 0.0125 - val_loss: 0.0108\n",
      "Epoch 46/50\n",
      "\u001b[1m10/10\u001b[0m \u001b[32m━━━━━━━━━━━━━━━━━━━━\u001b[0m\u001b[37m\u001b[0m \u001b[1m1s\u001b[0m 52ms/step - loss: 0.0136 - val_loss: 0.0102\n",
      "Epoch 47/50\n",
      "\u001b[1m10/10\u001b[0m \u001b[32m━━━━━━━━━━━━━━━━━━━━\u001b[0m\u001b[37m\u001b[0m \u001b[1m1s\u001b[0m 48ms/step - loss: 0.0128 - val_loss: 0.0098\n",
      "Epoch 48/50\n",
      "\u001b[1m10/10\u001b[0m \u001b[32m━━━━━━━━━━━━━━━━━━━━\u001b[0m\u001b[37m\u001b[0m \u001b[1m1s\u001b[0m 50ms/step - loss: 0.0130 - val_loss: 0.0095\n",
      "Epoch 49/50\n",
      "\u001b[1m10/10\u001b[0m \u001b[32m━━━━━━━━━━━━━━━━━━━━\u001b[0m\u001b[37m\u001b[0m \u001b[1m1s\u001b[0m 51ms/step - loss: 0.0127 - val_loss: 0.0092\n",
      "Epoch 50/50\n",
      "\u001b[1m10/10\u001b[0m \u001b[32m━━━━━━━━━━━━━━━━━━━━\u001b[0m\u001b[37m\u001b[0m \u001b[1m1s\u001b[0m 53ms/step - loss: 0.0130 - val_loss: 0.0089\n"
     ]
    }
   ],
   "source": [
    "EPOCHS = 50\n",
    "BATCH_SIZE = 128  \n",
    "historia = modelo.fit(\n",
    "    x=x_tr_s,\n",
    "    y=y_tr_s,\n",
    "    batch_size=BATCH_SIZE,\n",
    "    epochs=EPOCHS,\n",
    "    validation_data=(x_vl_s, y_vl_s),\n",
    "    verbose=1,\n",
    ")"
   ]
  },
  {
   "cell_type": "code",
   "execution_count": 47,
   "metadata": {},
   "outputs": [
    {
     "data": {
      "image/png": "[encoded data removed]",
      "text/plain": [
       "<Figure size 640x480 with 1 Axes>"
      ]
     },
     "metadata": {},
     "output_type": "display_data"
    }
   ],
   "source": [
    " # Graficar curvas de entrenamiento y validación\n",
    " # para verificar que no existe overfitting\n",
    "plt.plot(historia.history['loss'],label='RMSE train')\n",
    "plt.plot(historia.history['val_loss'],label='RMSE val')\n",
    "plt.xlabel('Iteración')\n",
    "plt.ylabel('RMSE')\n",
    "plt.legend();"
   ]
  },
  {
   "cell_type": "code",
   "execution_count": 48,
   "metadata": {},
   "outputs": [
    {
     "name": "stdout",
     "output_type": "stream",
     "text": [
      "Comparativo desempeños:\n",
      "  RMSE train:\t 0.013\n",
      "  RMSE val:\t 0.009\n",
      "  RMSE test:\t 0.001\n"
     ]
    }
   ],
   "source": [
    "# Cálculo de rmses para train, val y test\n",
    "rmse_tr = modelo.evaluate(x=x_tr_s, y=y_tr_s, verbose=0)\n",
    "rmse_vl = modelo.evaluate(x=x_vl_s, y=y_vl_s, verbose=0)\n",
    "rmse_ts = modelo.evaluate(x=x_ts_s, y=y_ts_s, verbose=0)\n",
    "\n",
    "# Imprimir resultados en pantalla\n",
    "print('Comparativo desempeños:')\n",
    "print(f'  RMSE train:\\t {rmse_tr:.3f}')\n",
    "print(f'  RMSE val:\\t {rmse_vl:.3f}')\n",
    "print(f'  RMSE test:\\t {rmse_ts:.3f}')"
   ]
  },
  {
   "cell_type": "code",
   "execution_count": 49,
   "metadata": {},
   "outputs": [],
   "source": [
    "# Predicciones\n",
    "def predecir(modelo, x, scaler):\n",
    "    '''Realiza predicciones con el modelo entrenado.\n",
    "\n",
    "    Parámetros:\n",
    "    - modelo: modelo entrenado\n",
    "    - x: dataset de entrada (escalado)\n",
    "    - scaler: escalador usado para la variable a predecir\n",
    "\n",
    "    Retorna:\n",
    "    - pred: predicciones\n",
    "    - real: valores reales\n",
    "    '''\n",
    "\n",
    "    # Realizar predicciones\n",
    "    pred = modelo.predict(x)\n",
    "\n",
    "    # Invertir el escalado\n",
    "    pred_inv = scaler.inverse_transform(pred)\n",
    "    return pred_inv"
   ]
  },
  {
   "cell_type": "code",
   "execution_count": 35,
   "metadata": {},
   "outputs": [],
   "source": [
    "def generate_date_predictions(pred_tr,pred_vl,pred_ts,start):\n",
    "    # Crear rango de fechas\n",
    "    tr_rng = pd.date_range(start=start, periods=len(pred_tr), freq='D')\n",
    "    vl_rng = pd.date_range(start=tr_rng[-1], periods=len(pred_vl), freq='D')\n",
    "    ts_rng = pd.date_range(start=vl_rng[-1], periods=len(pred_ts), freq='D')\n",
    "    \n",
    "    return pd.DataFrame(pred_tr,index=tr_rng), pd.DataFrame(pred_vl,index=vl_rng), pd.DataFrame(pred_ts,index=ts_rng)"
   ]
  },
  {
   "cell_type": "code",
   "execution_count": 50,
   "metadata": {},
   "outputs": [
    {
     "name": "stdout",
     "output_type": "stream",
     "text": [
      "\u001b[1m37/37\u001b[0m \u001b[32m━━━━━━━━━━━━━━━━━━━━\u001b[0m\u001b[37m\u001b[0m \u001b[1m0s\u001b[0m 8ms/step\n",
      "\u001b[1m4/4\u001b[0m \u001b[32m━━━━━━━━━━━━━━━━━━━━\u001b[0m\u001b[37m\u001b[0m \u001b[1m0s\u001b[0m 15ms/step\n",
      "\u001b[1m4/4\u001b[0m \u001b[32m━━━━━━━━━━━━━━━━━━━━\u001b[0m\u001b[37m\u001b[0m \u001b[1m0s\u001b[0m 11ms/step \n"
     ]
    }
   ],
   "source": [
    "# Realizar predicciones\n",
    "pred_tr = predecir(modelo, x_tr_s, scaler)\n",
    "pred_vl = predecir(modelo, x_vl_s, scaler)\n",
    "pred_ts = predecir(modelo, x_ts_s, scaler)\n",
    "tr_plot,val_plot,ts_plot = generate_date_predictions(pred_tr,pred_vl,pred_ts,tr.index.min())"
   ]
  },
  {
   "cell_type": "code",
   "execution_count": 51,
   "metadata": {},
   "outputs": [
    {
     "data": {
      "text/plain": [
       "<matplotlib.legend.Legend at 0x18ef049a480>"
      ]
     },
     "execution_count": 51,
     "metadata": {},
     "output_type": "execute_result"
    },
    {
     "data": {
      "image/png": "[encoded data removed]",
      "text/plain": [
       "<Figure size 2000x1000 with 2 Axes>"
      ]
     },
     "metadata": {},
     "output_type": "display_data"
    }
   ],
   "source": [
    "fig, axs = plt.subplots(2, 1, figsize=(20, 10))\n",
    "# ax = plt.gca()\n",
    "# ax.set_yscale('log')\n",
    "axs[0].plot(df_bitcoin[\"close\"], label=f\"Bitcoin\")\n",
    "axs[0].set_title(f\"Bitcoin\")\n",
    "axs[0].legend()\n",
    "\n",
    "# axs[1].plot(df_coin[\"close\"], label=f\"ACoin\", color=\"orange\")\n",
    "axs[1].plot(df_coin[\"close\"], label=f\"ACoin\", color=\"orange\")\n",
    "axs[1].plot(tr_plot, label=f\"train ACoin\", color=\"red\")\n",
    "axs[1].plot(val_plot, label=f\"val ACoin\", color=\"green\")\n",
    "axs[1].plot(ts_plot, label=f\"test ACoin\", color=\"blue\")\n",
    "axs[1].set_title(f\"Alter Coin\")\n",
    "axs[1].legend()"
   ]
  }
 ],
 "metadata": {
  "kernelspec": {
   "display_name": ".env",
   "language": "python",
   "name": "python3"
  },
  "language_info": {
   "codemirror_mode": {
    "name": "ipython",
    "version": 3
   },
   "file_extension": ".py",
   "mimetype": "text/x-python",
   "name": "python",
   "nbconvert_exporter": "python",
   "pygments_lexer": "ipython3",
   "version": "3.12.2"
  }
 },
 "nbformat": 4,
 "nbformat_minor": 2
}
