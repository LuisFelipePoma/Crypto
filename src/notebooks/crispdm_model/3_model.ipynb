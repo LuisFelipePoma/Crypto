{
 "cells": [
  {
   "cell_type": "markdown",
   "metadata": {},
   "source": [
    "# MODEL "
   ]
  },
  {
   "cell_type": "markdown",
   "metadata": {},
   "source": [
    "Cargamos las librerias necesarias"
   ]
  },
  {
   "cell_type": "code",
   "execution_count": 1,
   "metadata": {},
   "outputs": [],
   "source": [
    "from _utils import *\n",
    "import pandas as pd"
   ]
  },
  {
   "cell_type": "markdown",
   "metadata": {},
   "source": [
    "## Cargamos la data"
   ]
  },
  {
   "cell_type": "code",
   "execution_count": 2,
   "metadata": {},
   "outputs": [],
   "source": [
    "df_1 = pd.read_json(\"./datasets/1_halving.json\")\n",
    "df_2 = pd.read_json(\"./datasets/2_halving.json\")\n",
    "df_3 = pd.read_json(\"./datasets/3_halving.json\")\n",
    "df_4 = pd.read_json(\"./datasets/4_halving.json\")"
   ]
  },
  {
   "cell_type": "markdown",
   "metadata": {},
   "source": [
    "## Preparamos la data"
   ]
  },
  {
   "cell_type": "code",
   "execution_count": 15,
   "metadata": {},
   "outputs": [],
   "source": [
    "import numpy as np\n",
    "from matplotlib import pyplot as plt\n"
   ]
  },
  {
   "cell_type": "code",
   "execution_count": 3,
   "metadata": {},
   "outputs": [],
   "source": [
    "def get_series_by_coin(coin: str, df: pd.DataFrame):\n",
    "    new_df = df.where(df[\"name\"] == coin).dropna()\n",
    "    return new_df"
   ]
  },
  {
   "cell_type": "code",
   "execution_count": 4,
   "metadata": {},
   "outputs": [],
   "source": [
    "dataset = pd.concat([df_1,df_2,df_3,df_4])"
   ]
  },
  {
   "cell_type": "code",
   "execution_count": 6,
   "metadata": {},
   "outputs": [
    {
     "data": {
      "text/html": [
       "<div>\n",
       "<style scoped>\n",
       "    .dataframe tbody tr th:only-of-type {\n",
       "        vertical-align: middle;\n",
       "    }\n",
       "\n",
       "    .dataframe tbody tr th {\n",
       "        vertical-align: top;\n",
       "    }\n",
       "\n",
       "    .dataframe thead th {\n",
       "        text-align: right;\n",
       "    }\n",
       "</style>\n",
       "<table border=\"1\" class=\"dataframe\">\n",
       "  <thead>\n",
       "    <tr style=\"text-align: right;\">\n",
       "      <th></th>\n",
       "      <th>id</th>\n",
       "      <th>serialId</th>\n",
       "      <th>symbol</th>\n",
       "      <th>name</th>\n",
       "      <th>slug</th>\n",
       "      <th>open</th>\n",
       "      <th>high</th>\n",
       "      <th>low</th>\n",
       "      <th>close</th>\n",
       "      <th>volume</th>\n",
       "    </tr>\n",
       "    <tr>\n",
       "      <th>datetime</th>\n",
       "      <th></th>\n",
       "      <th></th>\n",
       "      <th></th>\n",
       "      <th></th>\n",
       "      <th></th>\n",
       "      <th></th>\n",
       "      <th></th>\n",
       "      <th></th>\n",
       "      <th></th>\n",
       "      <th></th>\n",
       "    </tr>\n",
       "  </thead>\n",
       "  <tbody>\n",
       "    <tr>\n",
       "      <th>2012-12-01 19:00:00</th>\n",
       "      <td>1e31218a-e44e-4285-820c-8282ee222035</td>\n",
       "      <td>6057.0</td>\n",
       "      <td>BTC</td>\n",
       "      <td>Bitcoin</td>\n",
       "      <td>bitcoin</td>\n",
       "      <td>12.665000</td>\n",
       "      <td>12.679990</td>\n",
       "      <td>12.261722</td>\n",
       "      <td>12.500020</td>\n",
       "      <td>196673.627491</td>\n",
       "    </tr>\n",
       "    <tr>\n",
       "      <th>2012-12-02 19:00:00</th>\n",
       "      <td>1e31218a-e44e-4285-820c-8282ee222035</td>\n",
       "      <td>6057.0</td>\n",
       "      <td>BTC</td>\n",
       "      <td>Bitcoin</td>\n",
       "      <td>bitcoin</td>\n",
       "      <td>12.490810</td>\n",
       "      <td>12.678990</td>\n",
       "      <td>12.320000</td>\n",
       "      <td>12.678990</td>\n",
       "      <td>398306.113232</td>\n",
       "    </tr>\n",
       "    <tr>\n",
       "      <th>2012-12-03 19:00:00</th>\n",
       "      <td>1e31218a-e44e-4285-820c-8282ee222035</td>\n",
       "      <td>6057.0</td>\n",
       "      <td>BTC</td>\n",
       "      <td>Bitcoin</td>\n",
       "      <td>bitcoin</td>\n",
       "      <td>12.678990</td>\n",
       "      <td>13.499263</td>\n",
       "      <td>12.433030</td>\n",
       "      <td>13.409927</td>\n",
       "      <td>883930.986576</td>\n",
       "    </tr>\n",
       "    <tr>\n",
       "      <th>2012-12-04 19:00:00</th>\n",
       "      <td>1e31218a-e44e-4285-820c-8282ee222035</td>\n",
       "      <td>6057.0</td>\n",
       "      <td>BTC</td>\n",
       "      <td>Bitcoin</td>\n",
       "      <td>bitcoin</td>\n",
       "      <td>13.400557</td>\n",
       "      <td>13.420000</td>\n",
       "      <td>12.700000</td>\n",
       "      <td>13.375447</td>\n",
       "      <td>436643.789962</td>\n",
       "    </tr>\n",
       "    <tr>\n",
       "      <th>2012-12-05 19:00:00</th>\n",
       "      <td>1e31218a-e44e-4285-820c-8282ee222035</td>\n",
       "      <td>6057.0</td>\n",
       "      <td>BTC</td>\n",
       "      <td>Bitcoin</td>\n",
       "      <td>bitcoin</td>\n",
       "      <td>13.300010</td>\n",
       "      <td>13.688800</td>\n",
       "      <td>12.908408</td>\n",
       "      <td>13.232808</td>\n",
       "      <td>677529.566308</td>\n",
       "    </tr>\n",
       "  </tbody>\n",
       "</table>\n",
       "</div>"
      ],
      "text/plain": [
       "                                                       id  serialId symbol  \\\n",
       "datetime                                                                     \n",
       "2012-12-01 19:00:00  1e31218a-e44e-4285-820c-8282ee222035    6057.0    BTC   \n",
       "2012-12-02 19:00:00  1e31218a-e44e-4285-820c-8282ee222035    6057.0    BTC   \n",
       "2012-12-03 19:00:00  1e31218a-e44e-4285-820c-8282ee222035    6057.0    BTC   \n",
       "2012-12-04 19:00:00  1e31218a-e44e-4285-820c-8282ee222035    6057.0    BTC   \n",
       "2012-12-05 19:00:00  1e31218a-e44e-4285-820c-8282ee222035    6057.0    BTC   \n",
       "\n",
       "                        name     slug       open       high        low  \\\n",
       "datetime                                                                 \n",
       "2012-12-01 19:00:00  Bitcoin  bitcoin  12.665000  12.679990  12.261722   \n",
       "2012-12-02 19:00:00  Bitcoin  bitcoin  12.490810  12.678990  12.320000   \n",
       "2012-12-03 19:00:00  Bitcoin  bitcoin  12.678990  13.499263  12.433030   \n",
       "2012-12-04 19:00:00  Bitcoin  bitcoin  13.400557  13.420000  12.700000   \n",
       "2012-12-05 19:00:00  Bitcoin  bitcoin  13.300010  13.688800  12.908408   \n",
       "\n",
       "                         close         volume  \n",
       "datetime                                       \n",
       "2012-12-01 19:00:00  12.500020  196673.627491  \n",
       "2012-12-02 19:00:00  12.678990  398306.113232  \n",
       "2012-12-03 19:00:00  13.409927  883930.986576  \n",
       "2012-12-04 19:00:00  13.375447  436643.789962  \n",
       "2012-12-05 19:00:00  13.232808  677529.566308  "
      ]
     },
     "execution_count": 6,
     "metadata": {},
     "output_type": "execute_result"
    }
   ],
   "source": [
    "df_bitcoin = get_series_by_coin(\"Bitcoin\",dataset)\n",
    "df_bitcoin.set_index(\"datetime\", inplace=True)\n",
    "df_bitcoin = df_bitcoin.sort_index()\n",
    "df_bitcoin.head(5)"
   ]
  },
  {
   "cell_type": "code",
   "execution_count": 7,
   "metadata": {},
   "outputs": [
    {
     "name": "stdout",
     "output_type": "stream",
     "text": [
      "['volume', 'close', 'low', 'high', 'open']\n"
     ]
    }
   ],
   "source": [
    "#Variables for training\n",
    "cols = list(df_bitcoin)[-1:4:-1]\n",
    "#Date and volume columns are not used in training. \n",
    "print(cols) "
   ]
  },
  {
   "cell_type": "markdown",
   "metadata": {},
   "source": [
    "Preparamos los datos para series de tiempo"
   ]
  },
  {
   "cell_type": "code",
   "execution_count": 10,
   "metadata": {},
   "outputs": [
    {
     "name": "stdout",
     "output_type": "stream",
     "text": [
      "Tamaño set de entrenamiento: (907, 10)\n",
      "Tamaño set de validación: (113, 10)\n",
      "Tamaño set de prueba: (114, 10)\n"
     ]
    }
   ],
   "source": [
    "# Función para generar las particiones preservando las características\n",
    "# de la serie de tiempo\n",
    "def train_val_test_split(dataframe, tr_size=0.8, vl_size=0.1):\n",
    "    # Definir número de datos en cada subserie\n",
    "    N = dataframe.shape[0]\n",
    "    Ntrain = int(tr_size*N)  # Número de datos de entrenamiento\n",
    "    Nval = int(vl_size*N)    # Número de datos de validación\n",
    "\n",
    "    # Realizar partición\n",
    "    train = dataframe[0:Ntrain]\n",
    "    val = dataframe[Ntrain:Ntrain+Nval]\n",
    "    test = dataframe[Ntrain+Nval:]\n",
    "\n",
    "    return train, val, test\n",
    "\n",
    "# Prueba de la función\n",
    "tr, vl, ts = train_val_test_split(df_bitcoin)\n",
    "\n",
    "print(f'Tamaño set de entrenamiento: {tr.shape}')\n",
    "print(f'Tamaño set de validación: {vl.shape}')\n",
    "print(f'Tamaño set de prueba: {ts.shape}')"
   ]
  },
  {
   "cell_type": "code",
   "execution_count": 28,
   "metadata": {},
   "outputs": [
    {
     "data": {
      "image/png": "[encoded data removed]",
      "text/plain": [
       "<Figure size 1600x500 with 1 Axes>"
      ]
     },
     "metadata": {},
     "output_type": "display_data"
    }
   ],
   "source": [
    "covar = 8 # Índice de la covariable (columna del dataset) a graficar\n",
    "col = df_bitcoin.columns[covar]\n",
    "\n",
    "# Dibujar los sets de entrenamiento/validación/prueba para la covariable\n",
    "fig, ax = plt.subplots(figsize = (16,5))\n",
    "ax.plot(tr[col], label='Train')\n",
    "ax.plot(vl[col], label='Val')\n",
    "ax.plot(ts[col], label='Test')\n",
    "ax.set_title(f'Covariable: {col}')\n",
    "plt.legend();"
   ]
  },
  {
   "cell_type": "code",
   "execution_count": 11,
   "metadata": {},
   "outputs": [],
   "source": [
    "def crear_dataset_supervisado(array, input_length, output_length):\n",
    "    '''Permite crear un dataset con las entradas (X) y salidas (Y)\n",
    "    requeridas por la Red LSTM.\n",
    "\n",
    "    Parámetros:\n",
    "    - array: arreglo numpy de tamaño N x features (N: cantidad de datos,\n",
    "      f: cantidad de features)\n",
    "    - input_length: instantes de tiempo consecutivos de la(s) serie(s) de tiempo\n",
    "      usados para alimentar el modelo\n",
    "    - output_length: instantes de tiempo a pronosticar (salida del modelo)\n",
    "    '''\n",
    "\n",
    "    # Inicialización\n",
    "    X, Y = [], []    # Listados que contendrán los datos de entrada y salida del modelo\n",
    "    shape = array.shape\n",
    "    if len(shape)==1: # Si tenemos sólo una serie (univariado)\n",
    "        fils, cols = array.shape[0], 1\n",
    "        array = array.reshape(fils,cols)\n",
    "    else: # Multivariado <-- <--- ¡esta parte de la función se ejecuta en este caso!\n",
    "        fils, cols = array.shape\n",
    "\n",
    "    # Generar los arreglos\n",
    "    for i in range(fils-input_length-output_length):\n",
    "        X.append(array[i:i+input_length,0:cols])\n",
    "        Y.append(array[i+input_length:i+input_length+output_length,-1].reshape(output_length,1))\n",
    "    \n",
    "    # Convertir listas a arreglos de NumPy\n",
    "    X = np.array(X)\n",
    "    Y = np.array(Y)\n",
    "    \n",
    "    return X, Y"
   ]
  },
  {
   "cell_type": "code",
   "execution_count": 12,
   "metadata": {},
   "outputs": [
    {
     "name": "stdout",
     "output_type": "stream",
     "text": [
      "Tamaños entrada (BATCHES x INPUT_LENGTH x FEATURES) y de salida (BATCHES x OUTPUT_LENGTH x FEATURES)\n",
      "Set de entrenamiento - x_tr: (879, 24, 10), y_tr: (879, 4, 1)\n",
      "Set de validación - x_vl: (85, 24, 10), y_vl: (85, 4, 1)\n",
      "Set de prueba - x_ts: (86, 24, 10), y_ts: (86, 4, 1)\n"
     ]
    }
   ],
   "source": [
    "# Crear los datasets de entrenamiento, prueba y validación y verificar sus tamaños\n",
    "INPUT_LENGTH = 24    # Hiperparámetro\n",
    "OUTPUT_LENGTH = 4    # Modelo multi-step\n",
    "\n",
    "x_tr, y_tr = crear_dataset_supervisado(tr.values, INPUT_LENGTH, OUTPUT_LENGTH)\n",
    "x_vl, y_vl = crear_dataset_supervisado(vl.values, INPUT_LENGTH, OUTPUT_LENGTH)\n",
    "x_ts, y_ts = crear_dataset_supervisado(ts.values, INPUT_LENGTH, OUTPUT_LENGTH)\n",
    "\n",
    "# Imprimir información en pantalla\n",
    "print('Tamaños entrada (BATCHES x INPUT_LENGTH x FEATURES) y de salida (BATCHES x OUTPUT_LENGTH x FEATURES)')\n",
    "print(f'Set de entrenamiento - x_tr: {x_tr.shape}, y_tr: {y_tr.shape}')\n",
    "print(f'Set de validación - x_vl: {x_vl.shape}, y_vl: {y_vl.shape}')\n",
    "print(f'Set de prueba - x_ts: {x_ts.shape}, y_ts: {y_ts.shape}')"
   ]
  },
  {
   "cell_type": "markdown",
   "metadata": {},
   "source": [
    "## Modelamos"
   ]
  },
  {
   "cell_type": "code",
   "execution_count": null,
   "metadata": {},
   "outputs": [],
   "source": [
    "from tensorflow.keras.models import Sequential\n",
    "from tensorflow.keras.layers import LSTM\n",
    "from tensorflow.keras.layers import Dense, Dropout\n",
    "from sklearn.preprocessing import StandardScaler\n",
    "import seaborn as sns"
   ]
  },
  {
   "cell_type": "code",
   "execution_count": null,
   "metadata": {},
   "outputs": [],
   "source": [
    "#New dataframe with only training data - 5 columns\n",
    "df_for_training = df_bitcoin[cols].astype(float)\n",
    "\n",
    "df_for_plot=df_for_training.tail(5000)\n",
    "df_for_plot[\"close\"].plot.line()"
   ]
  },
  {
   "cell_type": "code",
   "execution_count": null,
   "metadata": {},
   "outputs": [],
   "source": [
    "#Separate dates for future plotting\n",
    "train_dates = pd.to_datetime(df_for_plot.index.values).to_list()\n",
    "train_dates[:5]"
   ]
  },
  {
   "cell_type": "code",
   "execution_count": null,
   "metadata": {},
   "outputs": [],
   "source": [
    "#LSTM uses sigmoid and tanh that are sensitive to magnitude so values need to be normalized\n",
    "# normalize the dataset\n",
    "scaler = StandardScaler()\n",
    "df_for_training_scaled = scaler.fit_transform(df_for_training)\n",
    "df_for_training_scaled"
   ]
  },
  {
   "cell_type": "code",
   "execution_count": null,
   "metadata": {},
   "outputs": [],
   "source": [
    "#Empty lists to be populated using formatted training data\n",
    "trainX = []\n",
    "trainY = []\n",
    "\n",
    "n_future = 1   # Number of days we want to look into the future based on the past days.\n",
    "n_past = 14  # Number of past days we want to use to predict the future.\n",
    "\n",
    "for i in range(n_past, len(df_for_training_scaled) - n_future +1):\n",
    "    trainX.append(df_for_training_scaled[i - n_past:i, 0:df_for_training.shape[1]])\n",
    "    trainY.append(df_for_training_scaled[i + n_future - 1:i + n_future, 0])\n",
    "\n",
    "trainX, trainY = np.array(trainX), np.array(trainY)\n",
    "\n",
    "print('trainX shape == {}.'.format(trainX.shape))\n",
    "print('trainY shape == {}.'.format(trainY.shape))"
   ]
  },
  {
   "cell_type": "code",
   "execution_count": null,
   "metadata": {},
   "outputs": [],
   "source": [
    "# define the Autoencoder model\n",
    "model = Sequential()\n",
    "model.add(LSTM(64, activation='relu', input_shape=(trainX.shape[1], trainX.shape[2]), return_sequences=True))\n",
    "model.add(LSTM(32, activation='relu', return_sequences=False))\n",
    "model.add(Dropout(0.2))\n",
    "model.add(Dense(trainY.shape[1]))\n",
    "\n",
    "model.compile(optimizer='adam', loss='mse')\n",
    "model.summary()"
   ]
  },
  {
   "cell_type": "code",
   "execution_count": null,
   "metadata": {},
   "outputs": [],
   "source": [
    "history = model.fit(trainX, trainY, epochs=5, batch_size=16, validation_split=0.1, verbose=1)"
   ]
  },
  {
   "cell_type": "code",
   "execution_count": null,
   "metadata": {},
   "outputs": [],
   "source": [
    "# Visualize train process\n",
    "plt.figure(figsize=(12, 6))\n",
    "plt.plot(history.history[\"loss\"], label=\"Training Loss\")\n",
    "plt.plot(history.history[\"val_loss\"], label=\"Validation Loss\")\n",
    "plt.legend()\n",
    "plt.show()"
   ]
  },
  {
   "cell_type": "code",
   "execution_count": null,
   "metadata": {},
   "outputs": [],
   "source": [
    "#Remember that we can only predict one day in future as our model needs 5 variables\n",
    "#as inputs for prediction. We only have all 5 variables until the last day in our dataset.\n",
    "n_past = 16\n",
    "n_days_for_prediction=15  #let us predict past 15 days\n",
    "\n",
    "predict_period_dates = pd.date_range(list(train_dates)[-n_past], periods=n_days_for_prediction, freq=\"1d\").tolist()\n",
    "print(predict_period_dates)"
   ]
  },
  {
   "cell_type": "code",
   "execution_count": null,
   "metadata": {},
   "outputs": [],
   "source": [
    "#Make prediction\n",
    "prediction = model.predict(trainX[-n_days_for_prediction:]) #shape = (n, 1) where n is the n_days_for_prediction\n",
    "\n",
    "#Perform inverse transformation to rescale back to original range\n",
    "#Since we used 5 variables for transform, the inverse expects same dimensions\n",
    "#Therefore, let us copy our values 5 times and discard them after inverse transform\n",
    "prediction_copies = np.repeat(prediction, df_for_training.shape[1], axis=-1)\n",
    "y_pred_future = scaler.inverse_transform(prediction_copies)[:,4]\n",
    "print(y_pred_future)"
   ]
  },
  {
   "cell_type": "code",
   "execution_count": null,
   "metadata": {},
   "outputs": [],
   "source": [
    "# Convert timestamp to date\n",
    "forecast_dates = []\n",
    "for time_i in predict_period_dates:\n",
    "    forecast_dates.append(time_i.date())\n",
    "    \n",
    "df_forecast = pd.DataFrame({'date':np.array(forecast_dates), 'open':y_pred_future})\n",
    "df_forecast.set_index('date', inplace=True)\n",
    "\n",
    "original = df_bitcoin[['open']]\n",
    "original = original.loc[(original.index < '2024-06-08') & (original.index > '2023-05-24')]\n",
    "\n",
    "sns.lineplot(original['open'])\n",
    "sns.lineplot( df_forecast['open'])"
   ]
  }
 ],
 "metadata": {
  "kernelspec": {
   "display_name": ".env",
   "language": "python",
   "name": "python3"
  },
  "language_info": {
   "codemirror_mode": {
    "name": "ipython",
    "version": 3
   },
   "file_extension": ".py",
   "mimetype": "text/x-python",
   "name": "python",
   "nbconvert_exporter": "python",
   "pygments_lexer": "ipython3",
   "version": "3.12.2"
  }
 },
 "nbformat": 4,
 "nbformat_minor": 2
}
