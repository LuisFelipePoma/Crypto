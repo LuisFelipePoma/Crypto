{
 "cells": [
  {
   "cell_type": "markdown",
   "metadata": {},
   "source": [
    "# Importamos Librerias"
   ]
  },
  {
   "cell_type": "code",
   "execution_count": 1,
   "metadata": {},
   "outputs": [],
   "source": [
    "from _utils import APIS, read_json, create_regex, fetch_data, time, save_json, reduce"
   ]
  },
  {
   "cell_type": "code",
   "execution_count": 2,
   "metadata": {},
   "outputs": [],
   "source": [
    "# Cargamos los metadatos de CoinGecko\n",
    "exchanges_metadata = read_json(\"./metadata/exchanges.json\")\n",
    "categories_metadata = read_json(\"./metadata/categories.json\")\n",
    "\n",
    "# Flag para descargar la data de nuevo o usar la existente\n",
    "USE_API = True\n",
    "\n",
    "# VARIABLES PARA OBTENER EL DATASET\n",
    "N_EXCHANGES = 100  # Número de exchanges (X mas importantes)\n",
    "N_TOKENS = 500  # Número de tokens (X mas importantes)"
   ]
  },
  {
   "cell_type": "markdown",
   "metadata": {},
   "source": [
    "## Obtener la info de las coins de las categorias principales"
   ]
  },
  {
   "cell_type": "markdown",
   "metadata": {},
   "source": [
    "Obtener las categorias principales (IA, RWA, Memes, Gaming)"
   ]
  },
  {
   "cell_type": "code",
   "execution_count": 3,
   "metadata": {},
   "outputs": [
    {
     "data": {
      "text/plain": [
       "455"
      ]
     },
     "execution_count": 3,
     "metadata": {},
     "output_type": "execute_result"
    }
   ],
   "source": [
    "len(categories_metadata)"
   ]
  },
  {
   "cell_type": "code",
   "execution_count": 4,
   "metadata": {},
   "outputs": [],
   "source": [
    "# Filtrar las categorías utilizando la expresión regular\n",
    "regex_categories = create_regex(\n",
    "    words=[\"meme\", \"memes\", \"game\", \"gaming\", \"games\", \"ai\", \"real world assets\", \"rwa\", \"juego\"]\n",
    ")\n",
    "\n",
    "# Filtrar las categorías que contienen las palabras clave\n",
    "categories_filter = list(\n",
    "    filter(\n",
    "        lambda categoria: regex_categories.search(categoria[\"name\"].lower()),\n",
    "        categories_metadata,\n",
    "    )\n",
    ")"
   ]
  },
  {
   "cell_type": "code",
   "execution_count": 5,
   "metadata": {},
   "outputs": [
    {
     "data": {
      "text/plain": [
       "30"
      ]
     },
     "execution_count": 5,
     "metadata": {},
     "output_type": "execute_result"
    }
   ],
   "source": [
    "len(categories_filter)"
   ]
  },
  {
   "cell_type": "markdown",
   "metadata": {},
   "source": [
    "Ahora realizamos las peticiones a la api para obtener la info de las coins de las categorias principales"
   ]
  },
  {
   "cell_type": "code",
   "execution_count": 6,
   "metadata": {},
   "outputs": [],
   "source": [
    "def get_coins_info(categories_filter: list[dict]) -> list[dict]:\n",
    "    coins_info: list[dict] = [] # Lista de diccionarios con la información de las monedas\n",
    "    for category in categories_filter:\n",
    "        page = 1 # Página de la API\n",
    "        coin_info:list[dict] = [] # Lista de diccionarios con la información de las monedas\n",
    "        # Usamos un bucle infinito para obtener todas las monedas de la categoría\n",
    "        while True:\n",
    "            try:\n",
    "                response:dict = fetch_data(api=APIS.COINGECKO,uri=f\"coins/markets?vs_currency=usd&category={category[\"category_id\"]}&per_page=250&page={page}\",parameters={})\n",
    "            except:\n",
    "                break\n",
    "            if not response:\n",
    "                break\n",
    "            coin_info.extend(response) # Añadimos la información de las monedas a la lista\n",
    "            page += 1 # Incrementamos la página\n",
    "            time.sleep(2) # Esperamos 2 segundos\n",
    "        category_new:dict = category.copy() # Copiamos la categoría\n",
    "        category_new[\"coins\"] = coin_info # Añadimos la información de las monedas a la categoría\n",
    "        coins_info.append(category_new) # Añadimos la información de la categoría a la lista\n",
    "    return coins_info"
   ]
  },
  {
   "cell_type": "markdown",
   "metadata": {},
   "source": [
    "Estandarizamos los coins"
   ]
  },
  {
   "cell_type": "code",
   "execution_count": 7,
   "metadata": {},
   "outputs": [],
   "source": [
    "def standarize_coins_info(coins_info: list[dict])-> list[dict]:    \n",
    "    new_coins_info:list[dict] = [] # Lista de diccionarios que contiene la información de las monedas\n",
    "    for category in coins_info:\n",
    "        for coin in category[\"coins\"]:\n",
    "            new_coin = coin.copy() # Copiar el diccionario de la moneda\n",
    "            new_coin[\"category\"] = category[\"name\"] # Agregar el nombre de la categoría\n",
    "            new_coin[\"category_id\"] = category[\"category_id\"]  # Agregar el id de la categoría\n",
    "            new_coins_info.append(new_coin) # Agregar el diccionario de la moneda a la lista\n",
    "    return new_coins_info"
   ]
  },
  {
   "cell_type": "markdown",
   "metadata": {},
   "source": [
    "LLamamos a las funciones creadas"
   ]
  },
  {
   "cell_type": "code",
   "execution_count": 29,
   "metadata": {},
   "outputs": [
    {
     "name": "stdout",
     "output_type": "stream",
     "text": [
      "len(coins_info)=31475\n",
      "len(coins_info)=10325\n"
     ]
    }
   ],
   "source": [
    "# Ordenamos la lista de coins en base a market_cap\n",
    "if USE_API:\n",
    "    # Obtenemos la información de las monedas\n",
    "    coins_info: list[dict] = get_coins_info(categories_filter)\n",
    "    # Estandarizamos la información de las monedas\n",
    "    coins_info = standarize_coins_info(coins_info)\n",
    "    # Observamos el tamaño general\n",
    "    print(f\"{len(coins_info)=}\")\n",
    "    # Filtramos los market_cap nulos y cero\n",
    "    coins_info = list(\n",
    "        filter(lambda x: x[\"market_cap\"] != None and x[\"market_cap\"] != 0.0, coins_info)\n",
    "    )\n",
    "    # Observamos el tamaño después de filtrar\n",
    "    print(f\"{len(coins_info)=}\")\n",
    "    # Ordenamos la lista de monedas en base a market_cap\n",
    "    coins_info = sorted(coins_info, key=lambda x: x[\"market_cap\"], reverse=True)\n",
    "    # Guardamos la información en un archivo JSON\n",
    "    save_json(coins_info, f\"./data/coins.json\")"
   ]
  },
  {
   "cell_type": "markdown",
   "metadata": {},
   "source": [
    "## Obtener la info de las tickers de los exchanges principales para de ahi poder obtener que monedas se encuentran en estas exchanges"
   ]
  },
  {
   "cell_type": "markdown",
   "metadata": {},
   "source": [
    "La API de CoinGecko ya nos devuelve de la exchange mas importante a la menos importante"
   ]
  },
  {
   "cell_type": "code",
   "execution_count": 31,
   "metadata": {},
   "outputs": [
    {
     "data": {
      "text/plain": [
       "876"
      ]
     },
     "execution_count": 31,
     "metadata": {},
     "output_type": "execute_result"
    }
   ],
   "source": [
    "len(exchanges_metadata)"
   ]
  },
  {
   "cell_type": "code",
   "execution_count": 33,
   "metadata": {},
   "outputs": [],
   "source": [
    "def get_exchanges_info(exchanges_metadata:list[dict])-> tuple[list,list]:\n",
    "    # Obtendremos los datos de los 20 principales exchanges\n",
    "    exchanges_centralized_info:list = []\n",
    "    exchanges_decentralized_info:list = []\n",
    "\n",
    "    for _, exchange in enumerate(exchanges_metadata):\n",
    "        # Obtenemos la información del exchange\n",
    "        exchange_info:dict = fetch_data(api= APIS.COINGECKO, uri=f\"exchanges/{exchange[\"id\"]}\", parameters={})\n",
    "        # Agregamos el id del exchange\n",
    "        exchange_info[\"id\"] = exchange[\"id\"]\n",
    "        # Verificamos si el exchange es centralizado\n",
    "        if (exchange_info[\"centralized\"]):\n",
    "            exchanges_centralized_info.append(exchange_info) # Agregamos la información del exchange a la lista de exchanges centralizados\n",
    "        # Verificamos si el exchange es descentralizado\n",
    "        elif (not exchange_info[\"centralized\"] ):\n",
    "            exchanges_decentralized_info.append(exchange_info)\n",
    "        time.sleep(2)\n",
    "    return exchanges_centralized_info, exchanges_decentralized_info"
   ]
  },
  {
   "cell_type": "markdown",
   "metadata": {},
   "source": [
    "El endpoint anterior nos devuelve los tickers limitados a 100, asi ahora llamaremos a otra api para obtener todos los tickers"
   ]
  },
  {
   "cell_type": "code",
   "execution_count": 34,
   "metadata": {
    "notebookRunGroups": {
     "groupValue": "1"
    }
   },
   "outputs": [],
   "source": [
    "# Obtner informacion de las transacciones entre monedas que suceden\n",
    "def get_tickers_by_exchange(exchanges: list[dict]) -> list[dict]:\n",
    "    exchange_tickers_info: list[dict] = [] # Lista para almacenar la información de los tickers de los exchanges\n",
    "    for exchange in exchanges:\n",
    "        page = 1 # variable para la paginacion de la API\n",
    "        exchange_ticker_info:list = [] # Lista para almacenar la información de los tickers del exchange\n",
    "        # Usamos un while para obtener toda la información de los tickers del exchange de cada paginacion \n",
    "        while True:\n",
    "            try:\n",
    "                response:dict = fetch_data(api= APIS.COINGECKO, uri=f\"exchanges/{exchange[\"id\"]}/tickers?page={page}\", parameters={})\n",
    "            except:\n",
    "                break\n",
    "            if not response[\"tickers\"]: break # Si no hay tickers en la respuesta, salimos del bucle\n",
    "            exchange_ticker_info.extend(response[\"tickers\"]) # Agregamos la información de los tickers a la lista\n",
    "            page += 1 # Incrementamos la variable de paginacion\n",
    "            time.sleep(2) # Esperamos 2 segundos para hacer la siguiente peticion\n",
    "        exchange_new:dict = exchange.copy() # Copiamos la información del exchange\n",
    "        exchange_new[\"tickers\"] = exchange_ticker_info # Agregamos la información de los tickers al exchange\n",
    "        exchange_tickers_info.append(exchange_new) # Agregamos la información del exchange a la lista de exchanges\n",
    "    return exchange_tickers_info"
   ]
  },
  {
   "cell_type": "code",
   "execution_count": 35,
   "metadata": {},
   "outputs": [],
   "source": [
    "# LLamamos a la funcion para obtener la informacion de los tickers de los exchanges\n",
    "if USE_API:\n",
    "    # Obtenemos la información de los exchanges\n",
    "    exchanges_centralized_info, exchanges_decentralized_info = get_exchanges_info(exchanges_metadata)\n",
    "    # Obtenemos la información de los tickers de los exchanges centralizados\n",
    "    exchanges_centralized_info: list[dict] = get_tickers_by_exchange(exchanges_centralized_info) \n",
    "    # Obtenemos la información de los tickers de los exchanges descentralizados\n",
    "    exchanges_decentralized_info: list[dict] = get_tickers_by_exchange(exchanges_decentralized_info) \n",
    "    # ordenamos los exchanges en base a su volumen de transacciones\n",
    "    exchanges_centralized_info = sorted(exchanges_centralized_info, key=lambda x: x[\"trade_volume_24h_btc\"], reverse=True)\n",
    "    exchanges_decentralized_info = sorted(exchanges_decentralized_info, key=lambda x: x[\"trade_volume_24h_btc\"], reverse=True)\n",
    "    # Guardamos los exchanges\n",
    "    save_json(exchanges_centralized_info, \"./data/exchanges_centralized.json\")\n",
    "    save_json(exchanges_decentralized_info, \"./data/exchanges_decentralized.json\")"
   ]
  },
  {
   "cell_type": "markdown",
   "metadata": {},
   "source": [
    "## Obtener la info de las coins en base a los exchanges principales "
   ]
  },
  {
   "cell_type": "markdown",
   "metadata": {},
   "source": [
    "Leemos el dataset si ya se encuentra creado"
   ]
  },
  {
   "cell_type": "code",
   "execution_count": 36,
   "metadata": {},
   "outputs": [],
   "source": [
    "coins_info = read_json(\"./data/coins.json\")\n",
    "exchanges_centralized_info = read_json(\"./data/exchanges_centralized.json\")\n",
    "exchanges_decentralized_info = read_json(\"./data/exchanges_decentralized.json\")"
   ]
  },
  {
   "cell_type": "code",
   "execution_count": 37,
   "metadata": {},
   "outputs": [
    {
     "data": {
      "text/plain": [
       "(209, 667)"
      ]
     },
     "execution_count": 37,
     "metadata": {},
     "output_type": "execute_result"
    }
   ],
   "source": [
    "len(exchanges_centralized_info), len(exchanges_decentralized_info)"
   ]
  },
  {
   "cell_type": "markdown",
   "metadata": {},
   "source": [
    "Creamos una funcion que devuelva ordenada una lista de ids en base a `coins_info`"
   ]
  },
  {
   "cell_type": "code",
   "execution_count": 38,
   "metadata": {},
   "outputs": [],
   "source": [
    "def get_coins_order_by_marketcap(coins_list: list[str], coins_info: list[dict]):\n",
    "    coins_order = []  # Lista para almacenar las monedas ordenadas\n",
    "    for coin in coins_list:\n",
    "        for coin_info in coins_info:\n",
    "            if coin_info[\"id\"] == coin:\n",
    "                coins_order.append(coin_info)  # Agregamos la moneda a la lista\n",
    "    # Solo devolver las ids\n",
    "    coins_order = [coin[\"id\"] for coin in coins_order]\n",
    "    return list(set(coins_order))"
   ]
  },
  {
   "cell_type": "markdown",
   "metadata": {},
   "source": [
    "Esta funcion generara una lista con la informacion de los ids de las `X` principales exchanges y capado a `X` tokens por cada una"
   ]
  },
  {
   "cell_type": "code",
   "execution_count": 50,
   "metadata": {},
   "outputs": [],
   "source": [
    "def generate_set_ids(exchanges_info):\n",
    "    coins_id: list[dict] = []\n",
    "    for exchange in exchanges_info[:N_EXCHANGES]:  # Recorremos las categorias\n",
    "        coins_list = set()\n",
    "        for coin in exchange[\"tickers\"]:\n",
    "            try:\n",
    "                coins_list.add((coin[\"coin_id\"]))\n",
    "            except: continue\n",
    "        new_exchange = dict()\n",
    "        new_exchange[\"id\"] = exchange[\"id\"]\n",
    "        new_exchange[\"coins\"] = get_coins_order_by_marketcap(\n",
    "            list(coins_list), coins_info\n",
    "        )[:N_TOKENS]\n",
    "        coins_id.append(new_exchange)\n",
    "    return coins_id"
   ]
  },
  {
   "cell_type": "markdown",
   "metadata": {},
   "source": [
    "Creamos dos listas para guardar la informacion de las exchanges y las ids que manejan (20 exchanges principales y 500 tokens por cada una)"
   ]
  },
  {
   "cell_type": "code",
   "execution_count": 51,
   "metadata": {},
   "outputs": [],
   "source": [
    "coins_centralized_id: list[dict] = generate_set_ids(exchanges_centralized_info) # Conjunto para almacenar los id de las monedas\n",
    "coins_decentralized_id: list[dict] = generate_set_ids(exchanges_decentralized_info) # Conjunto para almacenar los id de las monedas"
   ]
  },
  {
   "cell_type": "code",
   "execution_count": 52,
   "metadata": {},
   "outputs": [
    {
     "data": {
      "text/plain": [
       "(500, 500)"
      ]
     },
     "execution_count": 52,
     "metadata": {},
     "output_type": "execute_result"
    }
   ],
   "source": [
    "# Hallar el máximo número de monedas en los exchanges centralizados\n",
    "max(\n",
    "    reduce(\n",
    "        lambda final, exchange: final + [len(exchange[\"coins\"])],\n",
    "        coins_centralized_id,\n",
    "        [0],\n",
    "    )\n",
    "), max( # Hallar el máximo número de monedas en los exchanges descentralizados\n",
    "    reduce(\n",
    "        lambda final, exchange: final + [len(exchange[\"coins\"])],\n",
    "        coins_decentralized_id,\n",
    "        [0],\n",
    "    )\n",
    ")"
   ]
  },
  {
   "cell_type": "code",
   "execution_count": 53,
   "metadata": {},
   "outputs": [
    {
     "data": {
      "text/plain": [
       "(16713, 4811)"
      ]
     },
     "execution_count": 53,
     "metadata": {},
     "output_type": "execute_result"
    }
   ],
   "source": [
    "# Cantidad de monedas por tipo exchange\n",
    "reduce(lambda final, coin: final + len(coin[\"coins\"]), coins_centralized_id, 0), reduce(\n",
    "    lambda final, coin: final + len(coin[\"coins\"]), coins_decentralized_id, 0\n",
    ")"
   ]
  },
  {
   "cell_type": "markdown",
   "metadata": {},
   "source": [
    "Creamos una funcion que valida si el `coin_id` se encuentra dentro de un exchange"
   ]
  },
  {
   "cell_type": "code",
   "execution_count": 54,
   "metadata": {},
   "outputs": [],
   "source": [
    "def is_in_set(list_exchange_id: list[dict], coin_id: str) -> list[str]:\n",
    "    exchanges = []\n",
    "    for exchange in list_exchange_id:\n",
    "        if coin_id in exchange[\"coins\"]:\n",
    "            exchanges.append(exchange[\"id\"])\n",
    "    return exchanges"
   ]
  },
  {
   "cell_type": "markdown",
   "metadata": {},
   "source": [
    "Creamos una funcion que añadira el nuevo atributo `exchange_id` y `exchange_centralized` a las coins"
   ]
  },
  {
   "cell_type": "code",
   "execution_count": 55,
   "metadata": {},
   "outputs": [],
   "source": [
    "def get_coins_by_exchange(\n",
    "    coins_info: list[dict]\n",
    ") -> list[dict]:\n",
    "    new_coins_info = [] # Lista para almacenar la información de los exchanges\n",
    "    for coin in coins_info:\n",
    "        new_coin = coin.copy()\n",
    "        exchanges_c = is_in_set(coins_centralized_id, coin[\"id\"])\n",
    "        new_coin[\"exchanges_centralized\"] = exchanges_c\n",
    "        exchanges_d = is_in_set(coins_decentralized_id, coin[\"id\"])\n",
    "        new_coin[\"exchanges_decentralized\"] = exchanges_d\n",
    "        if not exchanges_c and not exchanges_d:\n",
    "            continue\n",
    "        new_coins_info.append(new_coin)\n",
    "    return new_coins_info"
   ]
  },
  {
   "cell_type": "code",
   "execution_count": 56,
   "metadata": {},
   "outputs": [],
   "source": [
    "# Llamamos a la función para obtener la información de las monedas de los exchanges\n",
    "new_coins_info = get_coins_by_exchange(coins_info)"
   ]
  },
  {
   "cell_type": "code",
   "execution_count": 57,
   "metadata": {},
   "outputs": [
    {
     "data": {
      "text/plain": [
       "7862"
      ]
     },
     "execution_count": 57,
     "metadata": {},
     "output_type": "execute_result"
    }
   ],
   "source": [
    "len(new_coins_info)"
   ]
  },
  {
   "cell_type": "code",
   "execution_count": 58,
   "metadata": {},
   "outputs": [],
   "source": [
    "# Guardamos la información en un archivo JSON\n",
    "save_json(new_coins_info, \"../../datasets/json/coins.json\")"
   ]
  }
 ],
 "metadata": {
  "kernelspec": {
   "display_name": ".env",
   "language": "python",
   "name": "python3"
  },
  "language_info": {
   "codemirror_mode": {
    "name": "ipython",
    "version": 3
   },
   "file_extension": ".py",
   "mimetype": "text/x-python",
   "name": "python",
   "nbconvert_exporter": "python",
   "pygments_lexer": "ipython3",
   "version": "3.12.2"
  }
 },
 "nbformat": 4,
 "nbformat_minor": 2
}
