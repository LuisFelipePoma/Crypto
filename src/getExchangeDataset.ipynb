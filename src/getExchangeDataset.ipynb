{
 "cells": [
  {
   "cell_type": "markdown",
   "metadata": {},
   "source": [
    "# Importamos Librerias"
   ]
  },
  {
   "cell_type": "code",
   "execution_count": 1,
   "metadata": {},
   "outputs": [],
   "source": [
    "from utils import *"
   ]
  },
  {
   "cell_type": "code",
   "execution_count": 2,
   "metadata": {},
   "outputs": [],
   "source": [
    "# Cargamos los metadatos de CoinGecko\n",
    "exchanges_metadata = read_json(\"./metadata/coingecko/exchanges.json\")\n",
    "coins_metadata = read_json(\"./metadata/coingecko/coins.json\")\n",
    "categories_metadata = read_json(\"./metadata/coingecko/categories.json\")"
   ]
  },
  {
   "cell_type": "markdown",
   "metadata": {},
   "source": [
    "## Obtener la info de las coins de las categorias principales"
   ]
  },
  {
   "cell_type": "markdown",
   "metadata": {},
   "source": [
    "Obtener las categorias principales (IA, RWA, )"
   ]
  },
  {
   "cell_type": "code",
   "execution_count": 3,
   "metadata": {},
   "outputs": [],
   "source": [
    "# Filtrar las categorías utilizando la expresión regular\n",
    "regex_categories = create_regex(\n",
    "    words=[\"meme\", \"memes\", \"game\", \"gaming\", \"games\", \"ai\", \"real world assets\", \"rwa\", \"juego\"]\n",
    ")\n",
    "\n",
    "# Filtrar las categorías que contienen las palabras clave\n",
    "categories_filter = list(\n",
    "    filter(\n",
    "        lambda categoria: regex_categories.search(categoria[\"name\"].lower()),\n",
    "        categories_metadata,\n",
    "    )\n",
    ")"
   ]
  },
  {
   "cell_type": "markdown",
   "metadata": {},
   "source": [
    "Ahora realizamos las peticiones a la api para obtener la info de las coins de las categorias principales"
   ]
  },
  {
   "cell_type": "code",
   "execution_count": 7,
   "metadata": {},
   "outputs": [],
   "source": [
    "coins_info: list[dict] = [] # Lista de diccionarios con la información de las monedas\n",
    "for category in categories_filter:\n",
    "    page = 1 # Página de la API\n",
    "    coin_info:list[dict] = [] # Lista de diccionarios con la información de las monedas\n",
    "    # Usamos un bucle infinito para obtener todas las monedas de la categoría\n",
    "    while True:\n",
    "        try:\n",
    "            response = fetch_data(api=APIS.COINGECKO,uri=f\"coins/markets?vs_currency=usd&category={category[\"category_id\"]}&page={page}\",parameters={})\n",
    "        except:\n",
    "            break\n",
    "        coin_info.extend(response) # Añadimos la información de las monedas a la lista\n",
    "        page += 1 # Incrementamos la página\n",
    "    category_new = category.copy() # Copiamos la categoría\n",
    "    category_new[\"coins\"] = coin_info # Añadimos la información de las monedas a la categoría\n",
    "    coins_info.append(category_new) # Añadimos la información de la categoría a la lista\n",
    "    time.sleep(2) # Esperamos 2 segundos"
   ]
  },
  {
   "cell_type": "code",
   "execution_count": 8,
   "metadata": {},
   "outputs": [
    {
     "data": {
      "text/plain": [
       "1851"
      ]
     },
     "execution_count": 8,
     "metadata": {},
     "output_type": "execute_result"
    }
   ],
   "source": [
    "# Calcular el total de monedas\n",
    "total_coins = 0\n",
    "for coin in coins_info:\n",
    "    total_coins += len(coin[\"coins\"])\n",
    "total_coins"
   ]
  },
  {
   "cell_type": "markdown",
   "metadata": {},
   "source": [
    "Estandarizamos los coins"
   ]
  },
  {
   "cell_type": "code",
   "execution_count": 9,
   "metadata": {},
   "outputs": [],
   "source": [
    "new_coins_info:list[dict] = [] # Lista de diccionarios que contiene la información de las monedas\n",
    "for category in coins_info:\n",
    "    for coin in category[\"coins\"]:\n",
    "        new_coin = coin.copy() # Copiar el diccionario de la moneda\n",
    "        new_coin[\"category\"] = category[\"name\"] # Agregar el nombre de la categoría\n",
    "        new_coin[\"category_id\"] = category[\"category_id\"]  # Agregar el id de la categoría\n",
    "        new_coins_info.append(new_coin) # Agregar el diccionario de la moneda a la lista"
   ]
  },
  {
   "cell_type": "code",
   "execution_count": 10,
   "metadata": {},
   "outputs": [
    {
     "data": {
      "text/plain": [
       "1851"
      ]
     },
     "execution_count": 10,
     "metadata": {},
     "output_type": "execute_result"
    }
   ],
   "source": [
    "len(new_coins_info)"
   ]
  },
  {
   "cell_type": "code",
   "execution_count": 11,
   "metadata": {},
   "outputs": [],
   "source": [
    "# Guardamos la información en un archivo JSON\n",
    "save_json(new_coins_info, f\"./data/json/coingecko/coins.json\")"
   ]
  },
  {
   "cell_type": "markdown",
   "metadata": {},
   "source": [
    "## Obtener la info de las tickers de los exchanges principales "
   ]
  },
  {
   "cell_type": "code",
   "execution_count": 12,
   "metadata": {},
   "outputs": [
    {
     "data": {
      "text/plain": [
       "14024"
      ]
     },
     "execution_count": 12,
     "metadata": {},
     "output_type": "execute_result"
    }
   ],
   "source": [
    "len(coins_metadata)"
   ]
  },
  {
   "cell_type": "markdown",
   "metadata": {},
   "source": [
    "La API de CoinGecko ya nos devuelve de la exchange mas importante a la menos importante"
   ]
  },
  {
   "cell_type": "code",
   "execution_count": 13,
   "metadata": {},
   "outputs": [],
   "source": [
    "# Obtendremos los datos de los 20 principales exchanges\n",
    "exchanges_centralized_info = []\n",
    "exchanges_decentralized_info = []\n",
    "\n",
    "for index, exchange in enumerate(exchanges_metadata):\n",
    "    # Verificamos que tengamos 20 exchanges centralizados y 20 exchanges descentralizados\n",
    "    if len(exchanges_centralized_info) > 20 and len(exchanges_decentralized_info) > 20:\n",
    "        break\n",
    "    \n",
    "    # Obtenemos la información del exchange\n",
    "    exchange_info = fetch_data(api= APIS.COINGECKO, uri=f\"exchanges/{exchange[\"id\"]}\", parameters={})\n",
    "    \n",
    "    # Agregamos el id del exchange\n",
    "    exchange_info[\"id\"] = exchange[\"id\"]\n",
    "    \n",
    "    # Verificamos si el exchange es centralizado\n",
    "    if (exchange_info[\"centralized\"] and len(exchanges_centralized_info) < 21):\n",
    "        exchanges_centralized_info.append(exchange_info) # Agregamos la información del exchange a la lista de exchanges centralizados\n",
    "        \n",
    "    # Verificamos si el exchange es descentralizado\n",
    "    elif (not exchange_info[\"centralized\"] and len(exchanges_decentralized_info) < 21):\n",
    "        exchanges_decentralized_info.append(exchange_info)\n",
    "    time.sleep(2)"
   ]
  },
  {
   "cell_type": "markdown",
   "metadata": {},
   "source": [
    "Realizamos las peticiones a la API para obtener la info de cada moneda"
   ]
  },
  {
   "cell_type": "code",
   "execution_count": 14,
   "metadata": {},
   "outputs": [],
   "source": [
    "# Obtner informacion de las transacciones entre monedas que suceden\n",
    "def get_tickers_by_exchange(exchanges: list[dict]) -> list[dict]:\n",
    "    exchange_tickers_info: list[dict] = [] # Lista para almacenar la información de los tickers de los exchanges\n",
    "    for exchange in exchanges:\n",
    "        page = 1 # variable para la paginacion de la API\n",
    "        exchange_ticker_info = [] # Lista para almacenar la información de los tickers del exchange\n",
    "        # Usamos un while para obtener toda la información de los tickers del exchange de cada paginacion \n",
    "        while True:\n",
    "            try:\n",
    "                response = fetch_data(api= APIS.COINGECKO, uri=f\"exchanges/{exchange[\"id\"]}/tickers?page={page}\", parameters={})\n",
    "            except:\n",
    "                break\n",
    "            if not response[\"tickers\"]: break # Si no hay tickers en la respuesta, salimos del bucle\n",
    "            exchange_ticker_info.extend(response[\"tickers\"]) # Agregamos la información de los tickers a la lista\n",
    "            page += 1 # Incrementamos la variable de paginacion\n",
    "            time.sleep(2) # Esperamos 2 segundos para hacer la siguiente peticion\n",
    "        exchange_new = exchange.copy() # Copiamos la información del exchange\n",
    "        exchange_new[\"tickers\"] = exchange_ticker_info # Agregamos la información de los tickers al exchange\n",
    "        exchange_tickers_info.append(exchange_new) # Agregamos la información del exchange a la lista de exchanges\n",
    "    return exchange_tickers_info"
   ]
  },
  {
   "cell_type": "code",
   "execution_count": 17,
   "metadata": {},
   "outputs": [],
   "source": [
    "# LLamamos a la funcion para obtener la informacion de los tickers de los exchanges\n",
    "exchanges_centralized_info = get_tickers_by_exchange(exchanges_centralized_info) \n",
    "exchanges_decentralized_info = get_tickers_by_exchange(exchanges_decentralized_info) "
   ]
  },
  {
   "cell_type": "markdown",
   "metadata": {},
   "source": [
    "## Obtener la info de las coins en base a los exchanges principales "
   ]
  },
  {
   "cell_type": "markdown",
   "metadata": {},
   "source": [
    "Creamos un set de cada exchange de la coins que maneja"
   ]
  },
  {
   "cell_type": "code",
   "execution_count": 18,
   "metadata": {},
   "outputs": [],
   "source": [
    "coins_id = set() # Conjunto para almacenar los id de las monedas\n",
    "for category in coins_info: # Recorremos las categorias\n",
    "    for coin in category[\"coins\"]: # Recorremos las monedas\n",
    "        coins_id.add(coin[\"id\"]) # Agregamos el id de la moneda al conjunto"
   ]
  },
  {
   "cell_type": "markdown",
   "metadata": {},
   "source": [
    "Creamos una funcion que añadira el nuevo atributo `coins` a las exchanges"
   ]
  },
  {
   "cell_type": "code",
   "execution_count": 19,
   "metadata": {},
   "outputs": [],
   "source": [
    "def get_coins_by_exchange(\n",
    "    exchanges_info: list[dict], filter_by_category: bool = True\n",
    ") -> list[dict]:\n",
    "    new_exchange_info = [] # Lista para almacenar la información de los exchanges\n",
    "    for exchange in exchanges_info: # Recorremos la información de los exchanges\n",
    "        new_exchange = exchange.copy() # Copiamos la información del exchange\n",
    "        new_coins = [] # Lista para almacenar los id de las monedas\n",
    "        for coin in exchange[\"tickers\"]: # Recorremos los tickers del exchange\n",
    "            if (coin[\"coin_id\"] in coins_id) or not filter_by_category: # Verificamos si el id de la moneda esta en el conjunto de id de monedas\n",
    "                new_coins.append(coin[\"coin_id\"]) # Agregamos el id de la moneda a la lista\n",
    "        new_exchange[\"coins_id\"] = new_coins # Agregamos la lista de id de las monedas al exchange\n",
    "        new_exchange_info.append(new_exchange) # Agregamos la información del exchange a la lista\n",
    "    return new_exchange_info"
   ]
  },
  {
   "cell_type": "code",
   "execution_count": 24,
   "metadata": {},
   "outputs": [],
   "source": [
    "# Llamamos a la función para obtener la información de las monedas de los exchanges\n",
    "new_exchange_centralized_info = get_coins_by_exchange(exchanges_centralized_info, False)\n",
    "new_exchange_decentralized_info = get_coins_by_exchange(exchanges_decentralized_info, False)"
   ]
  },
  {
   "cell_type": "code",
   "execution_count": 21,
   "metadata": {},
   "outputs": [],
   "source": [
    "# Guardamos la información en un archivo JSON\n",
    "save_json(new_exchange_centralized_info, f\"./data/json/coingecko/exchanges_centralized_coins.json\")\n",
    "save_json(new_exchange_decentralized_info, f\"./data/json/coingecko/exchanges_decentralized_coins.json\")"
   ]
  },
  {
   "cell_type": "code",
   "execution_count": null,
   "metadata": {},
   "outputs": [],
   "source": [
    "for exchange in new_exchange_centralized_info:\n",
    "    print(exchange[\"name\"], len(exchange[\"coins_id\"]))\n",
    "\n",
    "for exchange in new_exchange_decentralized_info:\n",
    "    print(exchange[\"name\"], len(exchange[\"coins_id\"]))"
   ]
  },
  {
   "cell_type": "code",
   "execution_count": null,
   "metadata": {},
   "outputs": [],
   "source": [
    "#TODO Unir ciertas exchanges que estan repetidas con diferentes versiones y algo mas"
   ]
  }
 ],
 "metadata": {
  "kernelspec": {
   "display_name": ".env",
   "language": "python",
   "name": "python3"
  },
  "language_info": {
   "codemirror_mode": {
    "name": "ipython",
    "version": 3
   },
   "file_extension": ".py",
   "mimetype": "text/x-python",
   "name": "python",
   "nbconvert_exporter": "python",
   "pygments_lexer": "ipython3",
   "version": "3.12.2"
  }
 },
 "nbformat": 4,
 "nbformat_minor": 2
}
